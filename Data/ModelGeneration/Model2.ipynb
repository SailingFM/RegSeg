{
 "metadata": {
  "name": "Model2"
 },
 "nbformat": 3,
 "nbformat_minor": 0,
 "worksheets": [
  {
   "cells": [
    {
     "cell_type": "code",
     "collapsed": false,
     "input": [
      "from scipy.interpolate import griddata\n",
      "from scipy.ndimage.interpolation import map_coordinates\n",
      "from scipy.ndimage.filters import gaussian_filter\n",
      "import nibabel as nib\n",
      "import numpy as np\n",
      "import os\n",
      "import matplotlib.pyplot as plt"
     ],
     "language": "python",
     "metadata": {},
     "outputs": [],
     "prompt_number": 1
    },
    {
     "cell_type": "code",
     "collapsed": false,
     "input": [
      "model = nib.load('Model2/lowres_block.nii.gz')\n",
      "m_data = model.get_data()\n",
      "m_affine = model.get_affine()\n",
      "m_hdr = model.get_header()\n",
      "datashape = m_data.shape\n",
      "x,y,z = np.mgrid[0:datashape[0],0:datashape[1], 0:datashape[2] ]"
     ],
     "language": "python",
     "metadata": {},
     "outputs": [],
     "prompt_number": 2
    },
    {
     "cell_type": "code",
     "collapsed": false,
     "input": [
      "labels = nib.load('Model2/labels.nii.gz').get_data().reshape(-1)\n",
      "\n",
      "for i in range(0, int(np.max(labels)+1) ): \n",
      "    d = m_data.reshape(-1)[ labels==i]\n",
      "    print np.mean( d )\n",
      "    print np.cov( d )"
     ],
     "language": "python",
     "metadata": {},
     "outputs": [
      {
       "output_type": "stream",
       "stream": "stdout",
       "text": [
        "0.211857108884\n",
        "0.00214914829707"
       ]
      },
      {
       "output_type": "stream",
       "stream": "stdout",
       "text": [
        "\n",
        "0.501670022088\n",
        "0.00465570438196\n",
        "0.794103286821\n",
        "0.00282671815921\n"
       ]
      }
     ],
     "prompt_number": 10
    },
    {
     "cell_type": "code",
     "collapsed": false,
     "input": [
      "m_data = np.swapaxes( m_data, 0, 1 )\n",
      "m_data = np.swapaxes( m_data, 0, 2 )\n",
      "m_data = np.fliplr( m_data )\n",
      "#m_data = np.flipud( m_data )\n",
      "m_hdr = nib.Nifti1Header()\n",
      "m_affine = np.identity(4)\n",
      "m_nii = nib.Nifti1Image( m_data.T.astype(np.float32), model.get_affine() , model.get_header() )\n",
      "nib.save( m_nii, 'Model2/model_oriented.nii')\n",
      "\n",
      "datashape = m_data.shape\n",
      "x,y,z = np.mgrid[0:datashape[0],0:datashape[1], 0:datashape[2] ]"
     ],
     "language": "python",
     "metadata": {},
     "outputs": [],
     "prompt_number": 7
    },
    {
     "cell_type": "code",
     "collapsed": false,
     "input": [
      "points = np.concatenate( ([ (30,30,30), (30,30,30), (30,10,30) ],np.random.randint( 0, 101, size=(100,3) ) ))\n",
      "values = np.zeros( shape=np.shape(points) )\n",
      "values[0:3]=[ (0, 15, 0), (0, -11, 0), (0, 11, 0) ]\n",
      "\n",
      "field = griddata(points, values, (x,y,z), method='linear', fill_value=0)\n",
      "field[:,:,:,1] = gaussian_filter( field[:,:,:,1], sigma=5 )"
     ],
     "language": "python",
     "metadata": {},
     "outputs": [],
     "prompt_number": 4
    },
    {
     "cell_type": "code",
     "collapsed": false,
     "input": [
      "extent=[0,datashape[0],0,datashape[1]]\n",
      "plt.imshow( field[30,:,:,1], extent=extent )\n",
      "plt.colorbar()"
     ],
     "language": "python",
     "metadata": {},
     "outputs": [
      {
       "output_type": "pyout",
       "prompt_number": 5,
       "text": [
        "<matplotlib.colorbar.Colorbar instance at 0x3d515a8>"
       ]
      },
      {
       "output_type": "display_data",
       "png": "[encoded data removed]"
      }
     ],
     "prompt_number": 5
    },
    {
     "cell_type": "code",
     "collapsed": false,
     "input": [
      "nii = nib.Nifti1Image( field, m_affine , m_hdr )\n",
      "nib.save( nii, 'Model2/deformationfield1.nii.gz' )"
     ],
     "language": "python",
     "metadata": {},
     "outputs": [],
     "prompt_number": 6
    },
    {
     "cell_type": "code",
     "collapsed": false,
     "input": [
      "field = nib.load( 'Model2/deformationfield1.nii.gz' ).get_data()\n",
      "grid_points =  np.array( (x,y,z)).T\n",
      "new_positions = ( grid_points - field ).reshape(-1,3).T\n",
      "new_img = map_coordinates( m_data, new_positions ).reshape( datashape )\n",
      "new_img[new_img<0.0] = 0.0\n",
      "new_img = np.swapaxes( new_img, 0, 1 )\n",
      "new_img = np.swapaxes( new_img, 1, 2 )\n",
      "#new_img = np.fliplr( new_img )\n",
      "m_hdr.set_data_dtype(np.float32)\n",
      "niiHS = nib.Nifti1Image( new_img.astype(np.float32), m_affine, m_hdr )\n",
      "nib.save( niiHS, 'Model2/deformed.nii' )"
     ],
     "language": "python",
     "metadata": {},
     "outputs": [],
     "prompt_number": 7
    },
    {
     "cell_type": "code",
     "collapsed": false,
     "input": [],
     "language": "python",
     "metadata": {},
     "outputs": []
    },
    {
     "cell_type": "code",
     "collapsed": false,
     "input": [
      "from tvtk.api import tvtk\n",
      "mesh = tvtk.PolyDataReader( file_name= 'Model2/gmwm_surface.vtk' )\n",
      "mesh.output.update()\n",
      "\n",
      "#faces = np.array( mesh.output. )\n",
      "#faces[:,[0,1,2]] = faces[:,[1,0,2]]\n"
     ],
     "language": "python",
     "metadata": {},
     "outputs": [],
     "prompt_number": 18
    }
   ],
   "metadata": {}
  }
 ]
}