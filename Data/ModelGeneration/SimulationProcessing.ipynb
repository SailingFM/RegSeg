{
 "metadata": {
  "name": "SimulationProcessing"
 },
 "nbformat": 3,
 "nbformat_minor": 0,
 "worksheets": [
  {
   "cells": [
    {
     "cell_type": "code",
     "collapsed": false,
     "input": [
      "# Testing\n",
      "import numpy as np\n",
      "import nibabel as nib\n",
      "import os"
     ],
     "language": "python",
     "metadata": {},
     "outputs": [],
     "prompt_number": 1
    },
    {
     "cell_type": "code",
     "collapsed": false,
     "input": [
      "model_path = os.path.abspath( 'Model3' )\n",
      "base_path = os.path.abspath( os.getcwd() )"
     ],
     "language": "python",
     "metadata": {},
     "outputs": [],
     "prompt_number": 2
    },
    {
     "cell_type": "code",
     "collapsed": false,
     "input": [
      "model_fname = os.path.join( model_path, 'model.nii.gz')\n",
      "msk_fname = os.path.join( model_path, 'signal_mask.nii.gz')\n",
      "b0_fname = os.path.join( model_path, 'signal_b0.nii.gz')\n",
      "signal_fname = os.path.join( model_path, 'signal.nii.gz')\n",
      "signal_nii = nib.load( signal_fname )"
     ],
     "language": "python",
     "metadata": {},
     "outputs": [],
     "prompt_number": 3
    },
    {
     "cell_type": "code",
     "collapsed": false,
     "input": [
      "data = np.loadtxt( os.path.join( model_path, 'gradient_list.txt'), dtype=float )\n",
      "bvecs = np.insert( np.transpose( data[:,0:3] ), 0, 0.0, axis=1 )\n",
      "bvals = np.insert( np.transpose( data[:,3] ), 0, 0.0 )\n",
      "np.savetxt( os.path.join( model_path, 'signal.bvec' ), bvecs )\n",
      "np.savetxt( os.path.join( model_path, 'signal.bval' ), bvals[None] )"
     ],
     "language": "python",
     "metadata": {},
     "outputs": [],
     "prompt_number": 4
    },
    {
     "cell_type": "code",
     "collapsed": false,
     "input": [
      "nii = nib.load( os.path.join( model_path, 'model.nii.gz') )\n",
      "msk_data = np.sum( nii.get_data(), axis=3, dtype=np.float32)\n",
      "msk_data[msk_data>0.0] = 1.0\n",
      "niiMSK = nib.Nifti1Image( msk_data.astype(np.uint8), signal_nii.get_affine() , signal_nii.get_header() )\n",
      "niiMSK._header['glmin'] = np.min(msk_data)\n",
      "niiMSK._header['glmax'] = np.max(msk_data)\n",
      "niiMSK._header['cal_min'] = 0\n",
      "niiMSK._header['cal_max'] = 1\n",
      "niiMSK.set_data_dtype(np.uint8)\n",
      "nib.save( niiMSK, msk_fname )"
     ],
     "language": "python",
     "metadata": {},
     "outputs": [],
     "prompt_number": 8
    },
    {
     "cell_type": "code",
     "collapsed": false,
     "input": [
      "msk_data = nib.load( msk_fname ).get_data()\n",
      "b0_data = np.zeros( msk_data.shape, dtype=float )\n",
      "b0_signal_noise = np.random.normal( 1.0, 0.10, b0_data.shape )\n",
      "b0_bg_noise = np.random.rayleigh( 0.07, b0_data.shape )\n",
      "b0_data[ msk_data>0.5 ] = b0_signal_noise[msk_data>0.5]\n",
      "b0_data[ msk_data<=0.5 ] = b0_bg_noise[msk_data<=0.5]\n",
      "niiB0 = nib.Nifti1Image( b0_data, signal_nii.get_affine() , signal_nii.get_header() )\n",
      "niiB0.set_data_dtype(np.float32)\n",
      "nib.save( niiB0, b0_fname )"
     ],
     "language": "python",
     "metadata": {},
     "outputs": [],
     "prompt_number": 9
    },
    {
     "cell_type": "code",
     "collapsed": false,
     "input": [
      "def dwifinder( dwipath, ext ):\n",
      "    import os\n",
      "    bname = os.path.splitext( dwipath )\n",
      "    if ( bname[1] == '.gz' ):\n",
      "        bname = os.path.splitext( bname[0] )\n",
      "    return '%s.%s' % ( bname[0], ext )"
     ],
     "language": "python",
     "metadata": {},
     "outputs": [],
     "prompt_number": 10
    },
    {
     "cell_type": "code",
     "collapsed": false,
     "input": [
      "import nipype.interfaces.base as base        # base pipeline interface (e.g. command line execution)\n",
      "import nipype.interfaces.io as nio           # Data i/o\n",
      "import nipype.interfaces.utility as util     # utility\n",
      "import nipype.algorithms.misc as misc\n",
      "import nipype.pipeline.engine as pe          # pypeline engine\n",
      "import nipype.interfaces.fsl as fsl          # fsl\n",
      "import nipype.interfaces.freesurfer as fs    # freesurfer\n",
      "import nipype.interfaces.diffusion_toolkit as dtk\n",
      "import nipype.interfaces.mrtrix as mrtrix   #<---- The important new part!\n",
      "import nipype.interfaces.camino as camino\n",
      "\n",
      "fsl.FSLCommand.set_default_output_type('NIFTI_GZ')"
     ],
     "language": "python",
     "metadata": {},
     "outputs": [
      {
       "output_type": "stream",
       "stream": "stderr",
       "text": [
        "/usr/local/lib/python2.7/dist-packages/nipype/interfaces/mrtrix/convert.py:28: UserWarning: dipy not installed\n",
        "  warnings.warn('dipy not installed')\n"
       ]
      }
     ],
     "prompt_number": 11
    },
    {
     "cell_type": "code",
     "collapsed": false,
     "input": [
      "base_dir = os.path.abspath( base_path )\n",
      "pipeline = pe.Workflow(name=\"Model_Process\", base_dir = base_dir)\n",
      "\n",
      "\n",
      "infosource = pe.Node( interface=util.IdentityInterface( fields=['model_id']), name=\"InfoSource\" )\n",
      "infosource.iterables = ( 'model_id', [ 'Model3' ] )\n",
      "\n",
      "# Set up a node to define all inputs required in the pre-processing workflow\n",
      "datasource = pe.Node( interface=nio.DataGrabber(infields=['model_id'], outfields=['b0', 'dwi', 'mask'] ), name=\"DataReader\")\n",
      "datasource.inputs.template = '*'\n",
      "datasource.inputs.base_directory = base_path\n",
      "datasource.inputs.field_template = dict(b0='%s/signal_b0.nii.gz',\n",
      "                                        dwi='%s/signal.nii.gz',\n",
      "                                        mask='%s/signal_mask.nii.gz')\n",
      "datasource.inputs.template_args = dict(b0=[['model_id']],\n",
      "                                       dwi=[['model_id']],\n",
      "                                        mask=[['model_id']])\n",
      "\n",
      "\n",
      "\n",
      "bdatafind = pe.Node( interface=util.IdentityInterface(fields=['in_file', 'in_bvec', 'in_bval' ]),\n",
      "                    name='bdatafind' )\n",
      "combineB0 = pe.Node( interface=util.Merge(2) , name=\"CombineB0\")\n",
      "insertB0 = pe.Node( interface=fsl.Merge(dimension='t', output_type='NIFTI_GZ'), name=\"InsertB0\" )\n",
      "# mask dwi data\n",
      "fsmask = pe.Node(interface=fs.ApplyMask(), name='MaskRawData' )\n",
      "\n",
      "datasink = pe.Node(nio.DataSink(base_directory=model_path,parameterization=False), name='sinker')\n",
      "datasink.container = 'results'"
     ],
     "language": "python",
     "metadata": {},
     "outputs": [],
     "prompt_number": 12
    },
    {
     "cell_type": "code",
     "collapsed": false,
     "input": [
      "# compute the diffusion tensor in each voxel\n",
      "#dtifit = pe.Node(interface=dtk.DTIRecon(output_type=\"nii.gz\",ignore_exception=True),name='TensorFitting')\n",
      "dtifit = pe.Node( interface=fsl.DTIFit(output_type='NIFTI_GZ'), name='TensorFitting' )\n",
      "\n",
      "# connect nodes\n",
      "pipeline.connect([\n",
      "                         (infosource, datasource, [( 'model_id', 'model_id' ) ])\n",
      "                        ,(datasource,combineB0, [ ('b0','in1'),('dwi','in2') ] )\n",
      "                        ,(combineB0,insertB0, [( 'out','in_files') ] )\n",
      "                        ,(datasource,fsmask, [('mask','mask_file') ])\n",
      "                        ,(insertB0, fsmask, [( 'merged_file', 'in_file' )] )\n",
      "                        ,(datasource,bdatafind,[ ( ('dwi',dwifinder,'bvec'), 'in_bvec'), ( ('dwi', dwifinder, 'bval') ,'in_bval') ])\n",
      "                        ,(bdatafind,dtifit,[ ('in_bvec','bvecs'), ('in_bval','bvals') ])\n",
      "                        ,(fsmask,dtifit,[ ('out_file','dwi') ])                   # FSL\n",
      "                        ,(datasource,dtifit, [ ('mask','mask') ])                 # FSL\n",
      "                        #,(fsmask,dtifit,[ ('out_file','DWI') ])                    # Diffusion Toolkit\n",
      "                        #,(infosource, datasink, [( 'model_id', 'container' )])\n",
      "                        ,(dtifit,datasink, [( 'FA','@FA'), ('MD','@ADC') ] )\n",
      "                        ,(insertB0,datasink, [( 'merged_file','@dwi_raw' ) ])\n",
      "                      ])"
     ],
     "language": "python",
     "metadata": {},
     "outputs": [],
     "prompt_number": 13
    },
    {
     "cell_type": "code",
     "collapsed": false,
     "input": [
      "pipeline.run()"
     ],
     "language": "python",
     "metadata": {},
     "outputs": [
      {
       "output_type": "stream",
       "stream": "stdout",
       "text": [
        "121221-12:01:52,806 workflow INFO:\n",
        "\t ['check', 'execution', 'logging']\n"
       ]
      },
      {
       "output_type": "stream",
       "stream": "stdout",
       "text": [
        "121221-12:01:53,10 workflow INFO:\n",
        "\t Running serially.\n"
       ]
      },
      {
       "output_type": "stream",
       "stream": "stdout",
       "text": [
        "121221-12:01:53,13 workflow INFO:\n",
        "\t Executing node DataReader.a0 in dir: /media/Datos/oesteban/workspace/ACWE-Reg/Data/ModelGeneration/Model_Process/_model_id_Model3/DataReader\n"
       ]
      },
      {
       "output_type": "stream",
       "stream": "stdout",
       "text": [
        "121221-12:01:53,121 workflow INFO:\n",
        "\t Executing node CombineB0.a0 in dir: /media/Datos/oesteban/workspace/ACWE-Reg/Data/ModelGeneration/Model_Process/_model_id_Model3/CombineB0\n"
       ]
      },
      {
       "output_type": "stream",
       "stream": "stdout",
       "text": [
        "121221-12:01:53,153 workflow INFO:\n",
        "\t Executing node InsertB0.a0 in dir: /media/Datos/oesteban/workspace/ACWE-Reg/Data/ModelGeneration/Model_Process/_model_id_Model3/InsertB0\n"
       ]
      },
      {
       "output_type": "stream",
       "stream": "stdout",
       "text": [
        "121221-12:01:53,171 workflow INFO:\n",
        "\t Running: fslmerge -t /media/Datos/oesteban/workspace/ACWE-Reg/Data/ModelGeneration/Model_Process/_model_id_Model3/InsertB0/signal_b0_merged.nii.gz /media/Datos/oesteban/workspace/ACWE-Reg/Data/ModelGeneration/Model3/signal_b0.nii.gz /media/Datos/oesteban/workspace/ACWE-Reg/Data/ModelGeneration/Model3/signal.nii.gz\n"
       ]
      },
      {
       "output_type": "stream",
       "stream": "stdout",
       "text": [
        "121221-12:09:03,303 workflow INFO:\n",
        "\t Executing node MaskRawData.a0 in dir: /media/Datos/oesteban/workspace/ACWE-Reg/Data/ModelGeneration/Model_Process/_model_id_Model3/MaskRawData\n"
       ]
      },
      {
       "output_type": "stream",
       "stream": "stdout",
       "text": [
        "121221-12:09:08,161 workflow INFO:\n",
        "\t Running: mri_mask /media/Datos/oesteban/workspace/ACWE-Reg/Data/ModelGeneration/Model_Process/_model_id_Model3/InsertB0/signal_b0_merged.nii.gz /media/Datos/oesteban/workspace/ACWE-Reg/Data/ModelGeneration/Model3/signal_mask.nii.gz /media/Datos/oesteban/workspace/ACWE-Reg/Data/ModelGeneration/Model_Process/_model_id_Model3/MaskRawData/signal_b0_merged_masked.nii.gz\n"
       ]
      },
      {
       "output_type": "stream",
       "stream": "stdout",
       "text": [
        "121221-12:16:34,869 interface INFO:\n",
        "\t stdout 2012-12-21T12:16:33.894822:DoAbs = 0\n"
       ]
      },
      {
       "output_type": "stream",
       "stream": "stdout",
       "text": [
        "121221-12:16:38,903 interface INFO:\n",
        "\t stdout 2012-12-21T12:16:33.894822:Found 7109137 voxels in mask\n"
       ]
      },
      {
       "output_type": "stream",
       "stream": "stdout",
       "text": [
        "121221-12:16:39,109 interface INFO:\n",
        "\t stdout 2012-12-21T12:16:33.894822:Writing masked volume to /media/Datos/oesteban/workspace/ACWE-Reg/Data/ModelGeneration/Model_Process/_model_id_Model3/MaskRawData/signal_b0_merged_masked.nii.gz...done.\n"
       ]
      },
      {
       "output_type": "stream",
       "stream": "stdout",
       "text": [
        "121221-12:16:53,73 workflow INFO:\n",
        "\t Executing node TensorFitting.a0 in dir: /media/Datos/oesteban/workspace/ACWE-Reg/Data/ModelGeneration/Model_Process/_model_id_Model3/TensorFitting\n"
       ]
      },
      {
       "output_type": "stream",
       "stream": "stdout",
       "text": [
        "121221-12:16:56,40 workflow INFO:\n",
        "\t Running: dtifit -k /media/Datos/oesteban/workspace/ACWE-Reg/Data/ModelGeneration/Model_Process/_model_id_Model3/MaskRawData/signal_b0_merged_masked.nii.gz -o dtifit_ -m /media/Datos/oesteban/workspace/ACWE-Reg/Data/ModelGeneration/Model3/signal_mask.nii.gz -r /media/Datos/oesteban/workspace/ACWE-Reg/Data/ModelGeneration/Model3/signal.bvec -b /media/Datos/oesteban/workspace/ACWE-Reg/Data/ModelGeneration/Model3/signal.bval\n"
       ]
      },
      {
       "output_type": "stream",
       "stream": "stdout",
       "text": [
        "121221-12:17:15,905 interface INFO:\n",
        "\t stdout 2012-12-21T12:17:15.905414:0 181 0 217 0 181\n"
       ]
      },
      {
       "output_type": "stream",
       "stream": "stdout",
       "text": [
        "121221-12:17:29,236 interface INFO:\n",
        "\t stdout 2012-12-21T12:17:29.181288:0 slices processed\n"
       ]
      },
      {
       "output_type": "stream",
       "stream": "stdout",
       "text": [
        "121221-12:17:29,368 interface INFO:\n",
        "\t stdout 2012-12-21T12:17:29.181288:1 slices processed\n"
       ]
      },
      {
       "output_type": "stream",
       "stream": "stdout",
       "text": [
        "121221-12:17:29,501 interface INFO:\n",
        "\t stdout 2012-12-21T12:17:29.181288:2 slices processed\n"
       ]
      },
      {
       "output_type": "stream",
       "stream": "stdout",
       "text": [
        "121221-12:17:29,615 interface INFO:\n",
        "\t stdout 2012-12-21T12:17:29.181288:3 slices processed\n"
       ]
      },
      {
       "output_type": "stream",
       "stream": "stdout",
       "text": [
        "121221-12:17:29,764 interface INFO:\n",
        "\t stdout 2012-12-21T12:17:29.181288:4 slices processed\n"
       ]
      },
      {
       "output_type": "stream",
       "stream": "stdout",
       "text": [
        "121221-12:17:30,134 interface INFO:\n",
        "\t stdout 2012-12-21T12:17:29.181288:5 slices processed\n"
       ]
      },
      {
       "output_type": "stream",
       "stream": "stdout",
       "text": [
        "121221-12:17:30,358 interface INFO:\n",
        "\t stdout 2012-12-21T12:17:29.181288:6 slices processed\n"
       ]
      },
      {
       "output_type": "stream",
       "stream": "stdout",
       "text": [
        "121221-12:17:30,481 interface INFO:\n",
        "\t stdout 2012-12-21T12:17:29.181288:7 slices processed\n"
       ]
      },
      {
       "output_type": "stream",
       "stream": "stdout",
       "text": [
        "121221-12:17:30,598 interface INFO:\n",
        "\t stdout 2012-12-21T12:17:29.181288:8 slices processed\n"
       ]
      },
      {
       "output_type": "stream",
       "stream": "stdout",
       "text": [
        "121221-12:17:30,656 interface INFO:\n",
        "\t stdout 2012-12-21T12:17:29.181288:9 slices processed\n"
       ]
      },
      {
       "output_type": "stream",
       "stream": "stdout",
       "text": [
        "121221-12:17:30,718 interface INFO:\n",
        "\t stdout 2012-12-21T12:17:29.181288:10 slices processed\n"
       ]
      },
      {
       "output_type": "stream",
       "stream": "stdout",
       "text": [
        "121221-12:17:30,781 interface INFO:\n",
        "\t stdout 2012-12-21T12:17:30.764396:11 slices processed\n"
       ]
      },
      {
       "output_type": "stream",
       "stream": "stdout",
       "text": [
        "121221-12:17:30,828 interface INFO:\n",
        "\t stdout 2012-12-21T12:17:30.764396:12 slices processed\n"
       ]
      },
      {
       "output_type": "stream",
       "stream": "stdout",
       "text": [
        "121221-12:17:30,907 interface INFO:\n",
        "\t stdout 2012-12-21T12:17:30.764396:13 slices processed\n"
       ]
      },
      {
       "output_type": "stream",
       "stream": "stdout",
       "text": [
        "121221-12:17:30,988 interface INFO:\n",
        "\t stdout 2012-12-21T12:17:30.764396:14 slices processed\n"
       ]
      },
      {
       "output_type": "stream",
       "stream": "stdout",
       "text": [
        "121221-12:17:31,458 interface INFO:\n",
        "\t stdout 2012-12-21T12:17:30.764396:15 slices processed\n"
       ]
      },
      {
       "output_type": "stream",
       "stream": "stdout",
       "text": [
        "121221-12:17:31,496 interface INFO:\n",
        "\t stdout 2012-12-21T12:17:30.764396:16 slices processed\n"
       ]
      },
      {
       "output_type": "stream",
       "stream": "stdout",
       "text": [
        "121221-12:17:31,599 interface INFO:\n",
        "\t stdout 2012-12-21T12:17:30.764396:17 slices processed\n"
       ]
      },
      {
       "output_type": "stream",
       "stream": "stdout",
       "text": [
        "121221-12:17:31,670 interface INFO:\n",
        "\t stdout 2012-12-21T12:17:30.764396:18 slices processed\n"
       ]
      },
      {
       "output_type": "stream",
       "stream": "stdout",
       "text": [
        "121221-12:17:31,718 interface INFO:\n",
        "\t stdout 2012-12-21T12:17:30.764396:19 slices processed\n"
       ]
      },
      {
       "output_type": "stream",
       "stream": "stdout",
       "text": [
        "121221-12:17:31,782 interface INFO:\n",
        "\t stdout 2012-12-21T12:17:30.764396:20 slices processed\n"
       ]
      },
      {
       "output_type": "stream",
       "stream": "stdout",
       "text": [
        "121221-12:17:31,882 interface INFO:\n",
        "\t stdout 2012-12-21T12:17:30.764396:21 slices processed\n"
       ]
      },
      {
       "output_type": "stream",
       "stream": "stdout",
       "text": [
        "121221-12:17:32,828 interface INFO:\n",
        "\t stdout 2012-12-21T12:17:32.828144:22 slices processed\n"
       ]
      },
      {
       "output_type": "stream",
       "stream": "stdout",
       "text": [
        "121221-12:17:34,614 interface INFO:\n",
        "\t stdout 2012-12-21T12:17:32.828144:23 slices processed\n"
       ]
      },
      {
       "output_type": "stream",
       "stream": "stdout",
       "text": [
        "121221-12:17:36,632 interface INFO:\n",
        "\t stdout 2012-12-21T12:17:36.632196:24 slices processed\n"
       ]
      },
      {
       "output_type": "stream",
       "stream": "stdout",
       "text": [
        "121221-12:17:37,3 interface INFO:\n",
        "\t stdout 2012-12-21T12:17:37.003822:25 slices processed\n"
       ]
      },
      {
       "output_type": "stream",
       "stream": "stdout",
       "text": [
        "121221-12:17:37,122 interface INFO:\n",
        "\t stdout 2012-12-21T12:17:37.122454:26 slices processed\n"
       ]
      },
      {
       "output_type": "stream",
       "stream": "stdout",
       "text": [
        "121221-12:17:37,673 interface INFO:\n",
        "\t stdout 2012-12-21T12:17:37.673360:27 slices processed\n"
       ]
      },
      {
       "output_type": "stream",
       "stream": "stdout",
       "text": [
        "121221-12:17:38,977 interface INFO:\n",
        "\t stdout 2012-12-21T12:17:38.977212:28 slices processed\n"
       ]
      },
      {
       "output_type": "stream",
       "stream": "stdout",
       "text": [
        "121221-12:17:39,667 interface INFO:\n",
        "\t stdout 2012-12-21T12:17:39.667071:29 slices processed\n"
       ]
      },
      {
       "output_type": "stream",
       "stream": "stdout",
       "text": [
        "121221-12:17:40,290 interface INFO:\n",
        "\t stdout 2012-12-21T12:17:40.290753:30 slices processed\n"
       ]
      },
      {
       "output_type": "stream",
       "stream": "stdout",
       "text": [
        "121221-12:17:40,699 interface INFO:\n",
        "\t stdout 2012-12-21T12:17:40.699591:31 slices processed\n"
       ]
      },
      {
       "output_type": "stream",
       "stream": "stdout",
       "text": [
        "121221-12:17:41,456 interface INFO:\n",
        "\t stdout 2012-12-21T12:17:41.456196:32 slices processed\n"
       ]
      },
      {
       "output_type": "stream",
       "stream": "stdout",
       "text": [
        "121221-12:17:41,695 interface INFO:\n",
        "\t stdout 2012-12-21T12:17:41.695490:33 slices processed\n"
       ]
      },
      {
       "output_type": "stream",
       "stream": "stdout",
       "text": [
        "121221-12:17:45,115 interface INFO:\n",
        "\t stdout 2012-12-21T12:17:45.115024:34 slices processed\n"
       ]
      },
      {
       "output_type": "stream",
       "stream": "stdout",
       "text": [
        "121221-12:17:49,565 interface INFO:\n",
        "\t stdout 2012-12-21T12:17:49.445512:35 slices processed\n"
       ]
      },
      {
       "output_type": "stream",
       "stream": "stdout",
       "text": [
        "121221-12:17:49,701 interface INFO:\n",
        "\t stdout 2012-12-21T12:17:49.445512:36 slices processed\n"
       ]
      },
      {
       "output_type": "stream",
       "stream": "stdout",
       "text": [
        "121221-12:17:49,986 interface INFO:\n",
        "\t stdout 2012-12-21T12:17:49.445512:37 slices processed\n"
       ]
      },
      {
       "output_type": "stream",
       "stream": "stdout",
       "text": [
        "121221-12:17:50,98 interface INFO:\n",
        "\t stdout 2012-12-21T12:17:49.445512:38 slices processed\n"
       ]
      },
      {
       "output_type": "stream",
       "stream": "stdout",
       "text": [
        "121221-12:17:50,214 interface INFO:\n",
        "\t stdout 2012-12-21T12:17:49.445512:39 slices processed\n"
       ]
      },
      {
       "output_type": "stream",
       "stream": "stdout",
       "text": [
        "121221-12:17:50,381 interface INFO:\n",
        "\t stdout 2012-12-21T12:17:49.445512:40 slices processed\n"
       ]
      },
      {
       "output_type": "stream",
       "stream": "stdout",
       "text": [
        "121221-12:17:50,710 interface INFO:\n",
        "\t stdout 2012-12-21T12:17:49.445512:41 slices processed\n"
       ]
      },
      {
       "output_type": "stream",
       "stream": "stdout",
       "text": [
        "121221-12:17:51,118 interface INFO:\n",
        "\t stdout 2012-12-21T12:17:49.445512:42 slices processed\n"
       ]
      },
      {
       "output_type": "stream",
       "stream": "stdout",
       "text": [
        "121221-12:17:51,199 interface INFO:\n",
        "\t stdout 2012-12-21T12:17:49.445512:43 slices processed\n"
       ]
      },
      {
       "output_type": "stream",
       "stream": "stdout",
       "text": [
        "121221-12:17:51,386 interface INFO:\n",
        "\t stdout 2012-12-21T12:17:51.385973:44 slices processed\n"
       ]
      },
      {
       "output_type": "stream",
       "stream": "stdout",
       "text": [
        "121221-12:17:51,479 interface INFO:\n",
        "\t stdout 2012-12-21T12:17:51.385973:45 slices processed\n"
       ]
      },
      {
       "output_type": "stream",
       "stream": "stdout",
       "text": [
        "121221-12:17:52,842 interface INFO:\n",
        "\t stdout 2012-12-21T12:17:52.842483:46 slices processed\n"
       ]
      },
      {
       "output_type": "stream",
       "stream": "stdout",
       "text": [
        "121221-12:17:53,519 interface INFO:\n",
        "\t stdout 2012-12-21T12:17:53.518964:47 slices processed\n"
       ]
      },
      {
       "output_type": "stream",
       "stream": "stdout",
       "text": [
        "121221-12:17:55,317 interface INFO:\n",
        "\t stdout 2012-12-21T12:17:55.317642:48 slices processed\n"
       ]
      },
      {
       "output_type": "stream",
       "stream": "stdout",
       "text": [
        "121221-12:17:56,396 interface INFO:\n",
        "\t stdout 2012-12-21T12:17:56.396518:49 slices processed\n"
       ]
      },
      {
       "output_type": "stream",
       "stream": "stdout",
       "text": [
        "121221-12:17:57,183 interface INFO:\n",
        "\t stdout 2012-12-21T12:17:57.183754:50 slices processed\n"
       ]
      },
      {
       "output_type": "stream",
       "stream": "stdout",
       "text": [
        "121221-12:17:57,948 interface INFO:\n",
        "\t stdout 2012-12-21T12:17:57.948244:51 slices processed\n"
       ]
      },
      {
       "output_type": "stream",
       "stream": "stdout",
       "text": [
        "121221-12:17:58,516 interface INFO:\n",
        "\t stdout 2012-12-21T12:17:58.516283:52 slices processed\n"
       ]
      },
      {
       "output_type": "stream",
       "stream": "stdout",
       "text": [
        "121221-12:17:59,132 interface INFO:\n",
        "\t stdout 2012-12-21T12:17:59.131951:53 slices processed\n"
       ]
      },
      {
       "output_type": "stream",
       "stream": "stdout",
       "text": [
        "121221-12:17:59,955 interface INFO:\n",
        "\t stdout 2012-12-21T12:17:59.955230:54 slices processed\n"
       ]
      },
      {
       "output_type": "stream",
       "stream": "stdout",
       "text": [
        "121221-12:18:00,579 interface INFO:\n",
        "\t stdout 2012-12-21T12:18:00.579102:55 slices processed\n"
       ]
      },
      {
       "output_type": "stream",
       "stream": "stdout",
       "text": [
        "121221-12:18:01,636 interface INFO:\n",
        "\t stdout 2012-12-21T12:18:01.636777:56 slices processed\n"
       ]
      },
      {
       "output_type": "stream",
       "stream": "stdout",
       "text": [
        "121221-12:18:03,459 interface INFO:\n",
        "\t stdout 2012-12-21T12:18:03.458908:57 slices processed\n"
       ]
      },
      {
       "output_type": "stream",
       "stream": "stdout",
       "text": [
        "121221-12:18:04,919 interface INFO:\n",
        "\t stdout 2012-12-21T12:18:04.918987:58 slices processed\n"
       ]
      },
      {
       "output_type": "stream",
       "stream": "stdout",
       "text": [
        "121221-12:18:07,796 interface INFO:\n",
        "\t stdout 2012-12-21T12:18:07.796378:59 slices processed\n"
       ]
      },
      {
       "output_type": "stream",
       "stream": "stdout",
       "text": [
        "121221-12:18:09,776 interface INFO:\n",
        "\t stdout 2012-12-21T12:18:09.776190:60 slices processed\n"
       ]
      },
      {
       "output_type": "stream",
       "stream": "stdout",
       "text": [
        "121221-12:18:11,279 interface INFO:\n",
        "\t stdout 2012-12-21T12:18:11.279359:61 slices processed\n"
       ]
      },
      {
       "output_type": "stream",
       "stream": "stdout",
       "text": [
        "121221-12:18:12,681 interface INFO:\n",
        "\t stdout 2012-12-21T12:18:12.681585:62 slices processed\n"
       ]
      },
      {
       "output_type": "stream",
       "stream": "stdout",
       "text": [
        "121221-12:18:14,65 interface INFO:\n",
        "\t stdout 2012-12-21T12:18:14.065243:63 slices processed\n"
       ]
      },
      {
       "output_type": "stream",
       "stream": "stdout",
       "text": [
        "121221-12:18:15,843 interface INFO:\n",
        "\t stdout 2012-12-21T12:18:15.843159:64 slices processed\n"
       ]
      },
      {
       "output_type": "stream",
       "stream": "stdout",
       "text": [
        "121221-12:18:17,189 interface INFO:\n",
        "\t stdout 2012-12-21T12:18:17.189423:65 slices processed\n"
       ]
      },
      {
       "output_type": "stream",
       "stream": "stdout",
       "text": [
        "121221-12:18:18,246 interface INFO:\n",
        "\t stdout 2012-12-21T12:18:18.246138:66 slices processed\n"
       ]
      },
      {
       "output_type": "stream",
       "stream": "stdout",
       "text": [
        "121221-12:18:18,933 interface INFO:\n",
        "\t stdout 2012-12-21T12:18:18.932962:67 slices processed\n"
       ]
      },
      {
       "output_type": "stream",
       "stream": "stdout",
       "text": [
        "121221-12:18:20,100 interface INFO:\n",
        "\t stdout 2012-12-21T12:18:20.100404:68 slices processed\n"
       ]
      },
      {
       "output_type": "stream",
       "stream": "stdout",
       "text": [
        "121221-12:18:21,332 interface INFO:\n",
        "\t stdout 2012-12-21T12:18:21.332123:69 slices processed\n"
       ]
      },
      {
       "output_type": "stream",
       "stream": "stdout",
       "text": [
        "121221-12:18:22,278 interface INFO:\n",
        "\t stdout 2012-12-21T12:18:22.278805:70 slices processed\n"
       ]
      },
      {
       "output_type": "stream",
       "stream": "stdout",
       "text": [
        "121221-12:18:23,619 interface INFO:\n",
        "\t stdout 2012-12-21T12:18:23.619347:71 slices processed\n"
       ]
      },
      {
       "output_type": "stream",
       "stream": "stdout",
       "text": [
        "121221-12:18:24,883 interface INFO:\n",
        "\t stdout 2012-12-21T12:18:24.883193:72 slices processed\n"
       ]
      },
      {
       "output_type": "stream",
       "stream": "stdout",
       "text": [
        "121221-12:18:26,175 interface INFO:\n",
        "\t stdout 2012-12-21T12:18:26.175256:73 slices processed\n"
       ]
      },
      {
       "output_type": "stream",
       "stream": "stdout",
       "text": [
        "121221-12:18:27,402 interface INFO:\n",
        "\t stdout 2012-12-21T12:18:27.402223:74 slices processed\n"
       ]
      },
      {
       "output_type": "stream",
       "stream": "stdout",
       "text": [
        "121221-12:18:29,155 interface INFO:\n",
        "\t stdout 2012-12-21T12:18:29.155099:75 slices processed\n"
       ]
      },
      {
       "output_type": "stream",
       "stream": "stdout",
       "text": [
        "121221-12:18:30,743 interface INFO:\n",
        "\t stdout 2012-12-21T12:18:30.743446:76 slices processed\n"
       ]
      },
      {
       "output_type": "stream",
       "stream": "stdout",
       "text": [
        "121221-12:18:32,272 interface INFO:\n",
        "\t stdout 2012-12-21T12:18:32.272371:77 slices processed\n"
       ]
      },
      {
       "output_type": "stream",
       "stream": "stdout",
       "text": [
        "121221-12:18:33,597 interface INFO:\n",
        "\t stdout 2012-12-21T12:18:33.597620:78 slices processed\n"
       ]
      },
      {
       "output_type": "stream",
       "stream": "stdout",
       "text": [
        "121221-12:18:35,156 interface INFO:\n",
        "\t stdout 2012-12-21T12:18:35.156336:79 slices processed\n"
       ]
      },
      {
       "output_type": "stream",
       "stream": "stdout",
       "text": [
        "121221-12:18:37,162 interface INFO:\n",
        "\t stdout 2012-12-21T12:18:37.162563:80 slices processed\n"
       ]
      },
      {
       "output_type": "stream",
       "stream": "stdout",
       "text": [
        "121221-12:18:39,520 interface INFO:\n",
        "\t stdout 2012-12-21T12:18:39.519963:81 slices processed\n"
       ]
      },
      {
       "output_type": "stream",
       "stream": "stdout",
       "text": [
        "121221-12:18:41,227 interface INFO:\n",
        "\t stdout 2012-12-21T12:18:41.226903:82 slices processed\n"
       ]
      },
      {
       "output_type": "stream",
       "stream": "stdout",
       "text": [
        "121221-12:18:43,186 interface INFO:\n",
        "\t stdout 2012-12-21T12:18:43.186283:83 slices processed\n"
       ]
      },
      {
       "output_type": "stream",
       "stream": "stdout",
       "text": [
        "121221-12:18:45,143 interface INFO:\n",
        "\t stdout 2012-12-21T12:18:45.143365:84 slices processed\n"
       ]
      },
      {
       "output_type": "stream",
       "stream": "stdout",
       "text": [
        "121221-12:18:46,908 interface INFO:\n",
        "\t stdout 2012-12-21T12:18:46.908192:85 slices processed\n"
       ]
      },
      {
       "output_type": "stream",
       "stream": "stdout",
       "text": [
        "121221-12:18:49,371 interface INFO:\n",
        "\t stdout 2012-12-21T12:18:49.371282:86 slices processed\n"
       ]
      },
      {
       "output_type": "stream",
       "stream": "stdout",
       "text": [
        "121221-12:18:51,180 interface INFO:\n",
        "\t stdout 2012-12-21T12:18:51.180035:87 slices processed\n"
       ]
      },
      {
       "output_type": "stream",
       "stream": "stdout",
       "text": [
        "121221-12:18:53,183 interface INFO:\n",
        "\t stdout 2012-12-21T12:18:53.183676:88 slices processed\n"
       ]
      },
      {
       "output_type": "stream",
       "stream": "stdout",
       "text": [
        "121221-12:18:56,9 interface INFO:\n",
        "\t stdout 2012-12-21T12:18:56.009665:89 slices processed\n"
       ]
      },
      {
       "output_type": "stream",
       "stream": "stdout",
       "text": [
        "121221-12:18:58,616 interface INFO:\n",
        "\t stdout 2012-12-21T12:18:58.616100:90 slices processed\n"
       ]
      },
      {
       "output_type": "stream",
       "stream": "stdout",
       "text": [
        "121221-12:19:01,385 interface INFO:\n",
        "\t stdout 2012-12-21T12:19:01.385473:91 slices processed\n"
       ]
      },
      {
       "output_type": "stream",
       "stream": "stdout",
       "text": [
        "121221-12:19:03,824 interface INFO:\n",
        "\t stdout 2012-12-21T12:19:03.823976:92 slices processed\n"
       ]
      },
      {
       "output_type": "stream",
       "stream": "stdout",
       "text": [
        "121221-12:19:06,650 interface INFO:\n",
        "\t stdout 2012-12-21T12:19:06.650154:93 slices processed\n"
       ]
      },
      {
       "output_type": "stream",
       "stream": "stdout",
       "text": [
        "121221-12:19:08,564 interface INFO:\n",
        "\t stdout 2012-12-21T12:19:08.564179:94 slices processed\n"
       ]
      },
      {
       "output_type": "stream",
       "stream": "stdout",
       "text": [
        "121221-12:19:10,509 interface INFO:\n",
        "\t stdout 2012-12-21T12:19:10.508891:95 slices processed\n"
       ]
      },
      {
       "output_type": "stream",
       "stream": "stdout",
       "text": [
        "121221-12:19:11,299 interface INFO:\n",
        "\t stdout 2012-12-21T12:19:11.299766:96 slices processed\n"
       ]
      },
      {
       "output_type": "stream",
       "stream": "stdout",
       "text": [
        "121221-12:19:12,978 interface INFO:\n",
        "\t stdout 2012-12-21T12:19:12.978574:97 slices processed\n"
       ]
      },
      {
       "output_type": "stream",
       "stream": "stdout",
       "text": [
        "121221-12:19:15,434 interface INFO:\n",
        "\t stdout 2012-12-21T12:19:15.434741:98 slices processed\n"
       ]
      },
      {
       "output_type": "stream",
       "stream": "stdout",
       "text": [
        "121221-12:19:19,586 interface INFO:\n",
        "\t stdout 2012-12-21T12:19:19.586708:99 slices processed\n"
       ]
      },
      {
       "output_type": "stream",
       "stream": "stdout",
       "text": [
        "121221-12:19:22,199 interface INFO:\n",
        "\t stdout 2012-12-21T12:19:22.199154:100 slices processed\n"
       ]
      },
      {
       "output_type": "stream",
       "stream": "stdout",
       "text": [
        "121221-12:19:24,244 interface INFO:\n",
        "\t stdout 2012-12-21T12:19:24.244449:101 slices processed\n"
       ]
      },
      {
       "output_type": "stream",
       "stream": "stdout",
       "text": [
        "121221-12:19:26,839 interface INFO:\n",
        "\t stdout 2012-12-21T12:19:26.838899:102 slices processed\n"
       ]
      },
      {
       "output_type": "stream",
       "stream": "stdout",
       "text": [
        "121221-12:19:30,513 interface INFO:\n",
        "\t stdout 2012-12-21T12:19:30.513660:103 slices processed\n"
       ]
      },
      {
       "output_type": "stream",
       "stream": "stdout",
       "text": [
        "121221-12:19:32,548 interface INFO:\n",
        "\t stdout 2012-12-21T12:19:32.548846:104 slices processed\n"
       ]
      },
      {
       "output_type": "stream",
       "stream": "stdout",
       "text": [
        "121221-12:19:34,16 interface INFO:\n",
        "\t stdout 2012-12-21T12:19:34.016296:105 slices processed\n"
       ]
      },
      {
       "output_type": "stream",
       "stream": "stdout",
       "text": [
        "121221-12:19:35,675 interface INFO:\n",
        "\t stdout 2012-12-21T12:19:35.675507:106 slices processed\n"
       ]
      },
      {
       "output_type": "stream",
       "stream": "stdout",
       "text": [
        "121221-12:19:37,201 interface INFO:\n",
        "\t stdout 2012-12-21T12:19:37.201204:107 slices processed\n"
       ]
      },
      {
       "output_type": "stream",
       "stream": "stdout",
       "text": [
        "121221-12:19:39,646 interface INFO:\n",
        "\t stdout 2012-12-21T12:19:39.646805:108 slices processed\n"
       ]
      },
      {
       "output_type": "stream",
       "stream": "stdout",
       "text": [
        "121221-12:19:41,711 interface INFO:\n",
        "\t stdout 2012-12-21T12:19:41.711733:109 slices processed\n"
       ]
      },
      {
       "output_type": "stream",
       "stream": "stdout",
       "text": [
        "121221-12:19:43,235 interface INFO:\n",
        "\t stdout 2012-12-21T12:19:43.235827:110 slices processed\n"
       ]
      },
      {
       "output_type": "stream",
       "stream": "stdout",
       "text": [
        "121221-12:19:45,120 interface INFO:\n",
        "\t stdout 2012-12-21T12:19:45.120774:111 slices processed\n"
       ]
      },
      {
       "output_type": "stream",
       "stream": "stdout",
       "text": [
        "121221-12:19:46,772 interface INFO:\n",
        "\t stdout 2012-12-21T12:19:46.772468:112 slices processed\n"
       ]
      },
      {
       "output_type": "stream",
       "stream": "stdout",
       "text": [
        "121221-12:19:48,920 interface INFO:\n",
        "\t stdout 2012-12-21T12:19:48.920463:113 slices processed\n"
       ]
      },
      {
       "output_type": "stream",
       "stream": "stdout",
       "text": [
        "121221-12:19:51,245 interface INFO:\n",
        "\t stdout 2012-12-21T12:19:51.245317:114 slices processed\n"
       ]
      },
      {
       "output_type": "stream",
       "stream": "stdout",
       "text": [
        "121221-12:19:54,235 interface INFO:\n",
        "\t stdout 2012-12-21T12:19:54.235763:115 slices processed\n"
       ]
      },
      {
       "output_type": "stream",
       "stream": "stdout",
       "text": [
        "121221-12:19:57,63 interface INFO:\n",
        "\t stdout 2012-12-21T12:19:57.063903:116 slices processed\n"
       ]
      },
      {
       "output_type": "stream",
       "stream": "stdout",
       "text": [
        "121221-12:19:59,840 interface INFO:\n",
        "\t stdout 2012-12-21T12:19:59.840617:117 slices processed\n"
       ]
      },
      {
       "output_type": "stream",
       "stream": "stdout",
       "text": [
        "121221-12:20:03,731 interface INFO:\n",
        "\t stdout 2012-12-21T12:20:03.731854:118 slices processed\n"
       ]
      },
      {
       "output_type": "stream",
       "stream": "stdout",
       "text": [
        "121221-12:20:07,2 interface INFO:\n",
        "\t stdout 2012-12-21T12:20:07.002305:119 slices processed\n"
       ]
      },
      {
       "output_type": "stream",
       "stream": "stdout",
       "text": [
        "121221-12:20:08,830 interface INFO:\n",
        "\t stdout 2012-12-21T12:20:08.830610:120 slices processed\n"
       ]
      },
      {
       "output_type": "stream",
       "stream": "stdout",
       "text": [
        "121221-12:20:10,588 interface INFO:\n",
        "\t stdout 2012-12-21T12:20:10.588100:121 slices processed\n"
       ]
      },
      {
       "output_type": "stream",
       "stream": "stdout",
       "text": [
        "121221-12:20:13,12 interface INFO:\n",
        "\t stdout 2012-12-21T12:20:13.012504:122 slices processed\n"
       ]
      },
      {
       "output_type": "stream",
       "stream": "stdout",
       "text": [
        "121221-12:20:15,725 interface INFO:\n",
        "\t stdout 2012-12-21T12:20:15.725760:123 slices processed\n"
       ]
      },
      {
       "output_type": "stream",
       "stream": "stdout",
       "text": [
        "121221-12:20:17,884 interface INFO:\n",
        "\t stdout 2012-12-21T12:20:17.883985:124 slices processed\n"
       ]
      },
      {
       "output_type": "stream",
       "stream": "stdout",
       "text": [
        "121221-12:20:19,731 interface INFO:\n",
        "\t stdout 2012-12-21T12:20:19.731337:125 slices processed\n"
       ]
      },
      {
       "output_type": "stream",
       "stream": "stdout",
       "text": [
        "121221-12:20:21,744 interface INFO:\n",
        "\t stdout 2012-12-21T12:20:21.744626:126 slices processed\n"
       ]
      },
      {
       "output_type": "stream",
       "stream": "stdout",
       "text": [
        "121221-12:20:23,365 interface INFO:\n",
        "\t stdout 2012-12-21T12:20:23.365217:127 slices processed\n"
       ]
      },
      {
       "output_type": "stream",
       "stream": "stdout",
       "text": [
        "121221-12:20:24,937 interface INFO:\n",
        "\t stdout 2012-12-21T12:20:24.937653:128 slices processed\n"
       ]
      },
      {
       "output_type": "stream",
       "stream": "stdout",
       "text": [
        "121221-12:20:26,211 interface INFO:\n",
        "\t stdout 2012-12-21T12:20:26.211239:129 slices processed\n"
       ]
      },
      {
       "output_type": "stream",
       "stream": "stdout",
       "text": [
        "121221-12:20:27,713 interface INFO:\n",
        "\t stdout 2012-12-21T12:20:27.713242:130 slices processed\n"
       ]
      },
      {
       "output_type": "stream",
       "stream": "stdout",
       "text": [
        "121221-12:20:29,221 interface INFO:\n",
        "\t stdout 2012-12-21T12:20:29.221867:131 slices processed\n"
       ]
      },
      {
       "output_type": "stream",
       "stream": "stdout",
       "text": [
        "121221-12:20:30,649 interface INFO:\n",
        "\t stdout 2012-12-21T12:20:30.649491:132 slices processed\n"
       ]
      },
      {
       "output_type": "stream",
       "stream": "stdout",
       "text": [
        "121221-12:20:32,284 interface INFO:\n",
        "\t stdout 2012-12-21T12:20:32.284584:133 slices processed\n"
       ]
      },
      {
       "output_type": "stream",
       "stream": "stdout",
       "text": [
        "121221-12:20:33,634 interface INFO:\n",
        "\t stdout 2012-12-21T12:20:33.634123:134 slices processed\n"
       ]
      },
      {
       "output_type": "stream",
       "stream": "stdout",
       "text": [
        "121221-12:20:35,111 interface INFO:\n",
        "\t stdout 2012-12-21T12:20:35.110973:135 slices processed\n"
       ]
      },
      {
       "output_type": "stream",
       "stream": "stdout",
       "text": [
        "121221-12:20:37,47 interface INFO:\n",
        "\t stdout 2012-12-21T12:20:37.047729:136 slices processed\n"
       ]
      },
      {
       "output_type": "stream",
       "stream": "stdout",
       "text": [
        "121221-12:20:40,661 interface INFO:\n",
        "\t stdout 2012-12-21T12:20:40.661257:137 slices processed\n"
       ]
      },
      {
       "output_type": "stream",
       "stream": "stdout",
       "text": [
        "121221-12:20:42,441 interface INFO:\n",
        "\t stdout 2012-12-21T12:20:42.441252:138 slices processed\n"
       ]
      },
      {
       "output_type": "stream",
       "stream": "stdout",
       "text": [
        "121221-12:20:44,400 interface INFO:\n",
        "\t stdout 2012-12-21T12:20:44.399988:139 slices processed\n"
       ]
      },
      {
       "output_type": "stream",
       "stream": "stdout",
       "text": [
        "121221-12:20:45,165 interface INFO:\n",
        "\t stdout 2012-12-21T12:20:45.165688:140 slices processed\n"
       ]
      },
      {
       "output_type": "stream",
       "stream": "stdout",
       "text": [
        "121221-12:20:45,768 interface INFO:\n",
        "\t stdout 2012-12-21T12:20:45.768180:141 slices processed\n"
       ]
      },
      {
       "output_type": "stream",
       "stream": "stdout",
       "text": [
        "121221-12:20:46,272 interface INFO:\n",
        "\t stdout 2012-12-21T12:20:46.272867:142 slices processed\n"
       ]
      },
      {
       "output_type": "stream",
       "stream": "stdout",
       "text": [
        "121221-12:20:47,350 interface INFO:\n",
        "\t stdout 2012-12-21T12:20:47.350879:143 slices processed\n"
       ]
      },
      {
       "output_type": "stream",
       "stream": "stdout",
       "text": [
        "121221-12:20:48,465 interface INFO:\n",
        "\t stdout 2012-12-21T12:20:48.464719:144 slices processed\n"
       ]
      },
      {
       "output_type": "stream",
       "stream": "stdout",
       "text": [
        "121221-12:20:49,777 interface INFO:\n",
        "\t stdout 2012-12-21T12:20:49.777386:145 slices processed\n"
       ]
      },
      {
       "output_type": "stream",
       "stream": "stdout",
       "text": [
        "121221-12:20:50,712 interface INFO:\n",
        "\t stdout 2012-12-21T12:20:50.712413:146 slices processed\n"
       ]
      },
      {
       "output_type": "stream",
       "stream": "stdout",
       "text": [
        "121221-12:20:51,825 interface INFO:\n",
        "\t stdout 2012-12-21T12:20:51.825381:147 slices processed\n"
       ]
      },
      {
       "output_type": "stream",
       "stream": "stdout",
       "text": [
        "121221-12:20:52,794 interface INFO:\n",
        "\t stdout 2012-12-21T12:20:52.794003:148 slices processed\n"
       ]
      },
      {
       "output_type": "stream",
       "stream": "stdout",
       "text": [
        "121221-12:20:53,809 interface INFO:\n",
        "\t stdout 2012-12-21T12:20:53.808941:149 slices processed\n"
       ]
      },
      {
       "output_type": "stream",
       "stream": "stdout",
       "text": [
        "121221-12:20:54,688 interface INFO:\n",
        "\t stdout 2012-12-21T12:20:54.688712:150 slices processed\n"
       ]
      },
      {
       "output_type": "stream",
       "stream": "stdout",
       "text": [
        "121221-12:20:55,418 interface INFO:\n",
        "\t stdout 2012-12-21T12:20:55.418552:151 slices processed\n"
       ]
      },
      {
       "output_type": "stream",
       "stream": "stdout",
       "text": [
        "121221-12:20:56,181 interface INFO:\n",
        "\t stdout 2012-12-21T12:20:56.181531:152 slices processed\n"
       ]
      },
      {
       "output_type": "stream",
       "stream": "stdout",
       "text": [
        "121221-12:20:57,39 interface INFO:\n",
        "\t stdout 2012-12-21T12:20:57.039007:153 slices processed\n"
       ]
      },
      {
       "output_type": "stream",
       "stream": "stdout",
       "text": [
        "121221-12:20:57,796 interface INFO:\n",
        "\t stdout 2012-12-21T12:20:57.796499:154 slices processed\n"
       ]
      },
      {
       "output_type": "stream",
       "stream": "stdout",
       "text": [
        "121221-12:20:57,962 interface INFO:\n",
        "\t stdout 2012-12-21T12:20:57.920417:155 slices processed\n"
       ]
      },
      {
       "output_type": "stream",
       "stream": "stdout",
       "text": [
        "121221-12:20:57,977 interface INFO:\n",
        "\t stdout 2012-12-21T12:20:57.920417:156 slices processed\n"
       ]
      },
      {
       "output_type": "stream",
       "stream": "stdout",
       "text": [
        "121221-12:20:58,134 interface INFO:\n",
        "\t stdout 2012-12-21T12:20:57.920417:157 slices processed\n"
       ]
      },
      {
       "output_type": "stream",
       "stream": "stdout",
       "text": [
        "121221-12:20:58,147 interface INFO:\n",
        "\t stdout 2012-12-21T12:20:57.920417:158 slices processed\n"
       ]
      },
      {
       "output_type": "stream",
       "stream": "stdout",
       "text": [
        "121221-12:20:58,148 interface INFO:\n",
        "\t stdout 2012-12-21T12:20:57.920417:159 slices processed\n"
       ]
      },
      {
       "output_type": "stream",
       "stream": "stdout",
       "text": [
        "121221-12:20:58,178 interface INFO:\n",
        "\t stdout 2012-12-21T12:20:57.920417:160 slices processed\n"
       ]
      },
      {
       "output_type": "stream",
       "stream": "stdout",
       "text": [
        "121221-12:20:58,201 interface INFO:\n",
        "\t stdout 2012-12-21T12:20:57.920417:161 slices processed\n"
       ]
      },
      {
       "output_type": "stream",
       "stream": "stdout",
       "text": [
        "121221-12:20:58,230 interface INFO:\n",
        "\t stdout 2012-12-21T12:20:57.920417:162 slices processed\n"
       ]
      },
      {
       "output_type": "stream",
       "stream": "stdout",
       "text": [
        "121221-12:20:58,231 interface INFO:\n",
        "\t stdout 2012-12-21T12:20:57.920417:163 slices processed\n"
       ]
      },
      {
       "output_type": "stream",
       "stream": "stdout",
       "text": [
        "121221-12:20:58,231 interface INFO:\n",
        "\t stdout 2012-12-21T12:20:57.920417:164 slices processed\n"
       ]
      },
      {
       "output_type": "stream",
       "stream": "stdout",
       "text": [
        "121221-12:20:58,248 interface INFO:\n",
        "\t stdout 2012-12-21T12:20:57.920417:165 slices processed\n"
       ]
      },
      {
       "output_type": "stream",
       "stream": "stdout",
       "text": [
        "121221-12:20:58,249 interface INFO:\n",
        "\t stdout 2012-12-21T12:20:57.920417:166 slices processed\n"
       ]
      },
      {
       "output_type": "stream",
       "stream": "stdout",
       "text": [
        "121221-12:20:58,250 interface INFO:\n",
        "\t stdout 2012-12-21T12:20:57.920417:167 slices processed\n"
       ]
      },
      {
       "output_type": "stream",
       "stream": "stdout",
       "text": [
        "121221-12:20:58,250 interface INFO:\n",
        "\t stdout 2012-12-21T12:20:57.920417:168 slices processed\n"
       ]
      },
      {
       "output_type": "stream",
       "stream": "stdout",
       "text": [
        "121221-12:20:58,264 interface INFO:\n",
        "\t stdout 2012-12-21T12:20:57.920417:169 slices processed\n"
       ]
      },
      {
       "output_type": "stream",
       "stream": "stdout",
       "text": [
        "121221-12:20:58,264 interface INFO:\n",
        "\t stdout 2012-12-21T12:20:57.920417:170 slices processed\n"
       ]
      },
      {
       "output_type": "stream",
       "stream": "stdout",
       "text": [
        "121221-12:20:58,265 interface INFO:\n",
        "\t stdout 2012-12-21T12:20:57.920417:171 slices processed\n"
       ]
      },
      {
       "output_type": "stream",
       "stream": "stdout",
       "text": [
        "121221-12:20:58,266 interface INFO:\n",
        "\t stdout 2012-12-21T12:20:57.920417:172 slices processed\n"
       ]
      },
      {
       "output_type": "stream",
       "stream": "stdout",
       "text": [
        "121221-12:20:58,266 interface INFO:\n",
        "\t stdout 2012-12-21T12:20:57.920417:173 slices processed\n"
       ]
      },
      {
       "output_type": "stream",
       "stream": "stdout",
       "text": [
        "121221-12:20:58,267 interface INFO:\n",
        "\t stdout 2012-12-21T12:20:57.920417:174 slices processed\n"
       ]
      },
      {
       "output_type": "stream",
       "stream": "stdout",
       "text": [
        "121221-12:20:58,267 interface INFO:\n",
        "\t stdout 2012-12-21T12:20:57.920417:175 slices processed\n"
       ]
      },
      {
       "output_type": "stream",
       "stream": "stdout",
       "text": [
        "121221-12:20:58,268 interface INFO:\n",
        "\t stdout 2012-12-21T12:20:57.920417:176 slices processed\n"
       ]
      },
      {
       "output_type": "stream",
       "stream": "stdout",
       "text": [
        "121221-12:20:58,268 interface INFO:\n",
        "\t stdout 2012-12-21T12:20:57.920417:177 slices processed\n"
       ]
      },
      {
       "output_type": "stream",
       "stream": "stdout",
       "text": [
        "121221-12:20:58,269 interface INFO:\n",
        "\t stdout 2012-12-21T12:20:57.920417:178 slices processed\n"
       ]
      },
      {
       "output_type": "stream",
       "stream": "stdout",
       "text": [
        "121221-12:20:58,276 interface INFO:\n",
        "\t stdout 2012-12-21T12:20:57.920417:179 slices processed\n"
       ]
      },
      {
       "output_type": "stream",
       "stream": "stdout",
       "text": [
        "121221-12:20:58,277 interface INFO:\n",
        "\t stdout 2012-12-21T12:20:57.920417:180 slices processed\n"
       ]
      },
      {
       "output_type": "stream",
       "stream": "stdout",
       "text": [
        "121221-12:21:26,340 workflow INFO:\n",
        "\t Executing node sinker.a0 in dir: /media/Datos/oesteban/workspace/ACWE-Reg/Data/ModelGeneration/Model_Process/_model_id_Model3/sinker\n"
       ]
      },
      {
       "output_type": "pyout",
       "prompt_number": 14,
       "text": [
        "<networkx.classes.digraph.DiGraph at 0x4dfc790>"
       ]
      }
     ],
     "prompt_number": 14
    },
    {
     "cell_type": "markdown",
     "metadata": {},
     "source": [
      "<h2>FA, MD Parameters</h2>"
     ]
    },
    {
     "cell_type": "code",
     "collapsed": false,
     "input": [
      "fa = nib.load( os.path.join( model_path, 'ref_FA.nii.gz') ).get_data().reshape(-1)\n",
      "md = nib.load( os.path.join( model_path, 'ref_MD.nii.gz') ).get_data().reshape(-1)\n",
      "model = nib.load( os.path.join( model_path, 'model.nii.gz') ).get_data().reshape(-1,3)\n",
      "feature = np.rollaxis( np.array([ fa, md ]), 0, 2)\n",
      "feature = [ tuple(row) for row in feature ]"
     ],
     "language": "python",
     "metadata": {},
     "outputs": [],
     "prompt_number": 15
    },
    {
     "cell_type": "code",
     "collapsed": false,
     "input": [
      "for i in range(0, np.shape( model )[-1] ):\n",
      "    data = [ fa[model[:,i]>0], md[model[:,i]>0] ]\n",
      "    data = np.rollaxis( np.array(data), 0,2)\n",
      "    #data = np[ tuple(row) for row in data ]\n",
      "    print np.mean( data, 0 )\n",
      "    print np.cov( data.T )"
     ],
     "language": "python",
     "metadata": {},
     "outputs": [
      {
       "output_type": "stream",
       "stream": "stdout",
       "text": [
        "[ 0.64670396  0.00073318]\n",
        "[[  3.91611155e-02  -1.63608420e-05]\n",
        " [ -1.63608420e-05   1.32845270e-08]]"
       ]
      },
      {
       "output_type": "stream",
       "stream": "stdout",
       "text": [
        "\n",
        "[ 0.23230195  0.00101365]"
       ]
      },
      {
       "output_type": "stream",
       "stream": "stdout",
       "text": [
        "\n",
        "[[  4.65453949e-02  -4.02512216e-05]\n",
        " [ -4.02512216e-05   1.67938750e-07]]"
       ]
      },
      {
       "output_type": "stream",
       "stream": "stdout",
       "text": [
        "\n",
        "[ 0.09416698  0.0020605 ]"
       ]
      },
      {
       "output_type": "stream",
       "stream": "stdout",
       "text": [
        "\n",
        "[[  9.78276839e-04   8.33897655e-07]\n",
        " [  8.33897655e-07   7.37639485e-07]]\n"
       ]
      }
     ],
     "prompt_number": 16
    },
    {
     "cell_type": "raw",
     "metadata": {},
     "source": [
      "import nibabel as nib\n",
      "import numpy as np\n",
      "from tvtk.api import tvtk\n",
      "import os\n",
      "fa = nib.load( os.path.join( os.path.abspath('Model1') , 'dtifit__FA.nii.gz') ).get_data()\n",
      "grid = tvtk.ImageData(spacing=(1,1,1), origin=(0,0,0))\n",
      "grid.point_data.scalars = fa.T.ravel() # It wants fortran order???\n",
      "grid.point_data.scalars.name = 'scalars'\n",
      "grid.dimensions = fa.shape\n",
      "w = tvtk.PolyDataWriter(input=grid, file_name=os.path.join( os.path.abspath('Model1') , 'dtifit__FA.vtk' ) )\n",
      "w.write()"
     ]
    },
    {
     "cell_type": "markdown",
     "metadata": {},
     "source": [
      "<h2>Other DTI fitting methods</h2>"
     ]
    },
    {
     "cell_type": "code",
     "collapsed": false,
     "input": [
      "def get_vox_dims(volume):\n",
      "    import nibabel as nb\n",
      "    if isinstance(volume, list):\n",
      "        volume = volume[0]\n",
      "    nii = nb.load(volume)\n",
      "    hdr = nii.get_header()\n",
      "    voxdims = hdr.get_zooms()\n",
      "    return [float(voxdims[0]), float(voxdims[1]), float(voxdims[2])]\n",
      "\n",
      "def get_data_dims(volume):\n",
      "    import nibabel as nb\n",
      "    if isinstance(volume, list):\n",
      "        volume = volume[0]\n",
      "    nii = nb.load(volume)\n",
      "    hdr = nii.get_header()\n",
      "    datadims = hdr.get_data_shape()\n",
      "    return [int(datadims[0]), int(datadims[1]), int(datadims[2])]\n",
      "\n",
      "def get_affine(volume):\n",
      "    import nibabel as nb\n",
      "    nii = nb.load(volume)\n",
      "    return nii.get_affine()\n",
      "\n",
      "# compute the diffusion tensor in each voxel\n",
      "image2voxel = pe.Node(interface=camino.Image2Voxel(out_type='double'), name=\"image2voxel\")\n",
      "fsl2scheme = pe.Node(interface=camino.FSL2Scheme(), name=\"fsl2scheme\")\n",
      "fsl2scheme.inputs.usegradmod = True\n",
      "dtifit = pe.Node(interface=camino.DTIFit(),name='TensorFitting')\n",
      "dtlutgen = pe.Node(interface=camino.DTLUTGen(), name=\"dtlutgen\")\n",
      "dtlutgen.inputs.snr = 16.0\n",
      "dtlutgen.inputs.inversion = 1\n",
      "\n",
      "fa = pe.Node(interface=camino.ComputeFractionalAnisotropy(),name='fa')\n",
      "analyzeheader_fa = pe.Node(interface= camino.AnalyzeHeader(), name = \"analyzeheader_fa\")\n",
      "analyzeheader_fa.inputs.datatype = \"double\"\n",
      "analyzeheader_trace = analyzeheader_fa.clone('analyzeheader_trace')\n",
      "fa2nii = pe.Node(interface=misc.CreateNifti(),name='fa2nii')\n",
      "\n",
      "# connect nodes\n",
      "pipeline.connect([\n",
      "                         (infosource, datasource, [( 'model_id', 'model_id' ) ])\n",
      "                        ,(datasource,combineB0, [ ('b0','in1'),('dwi','in2') ] )\n",
      "                        ,(combineB0,insertB0, [( 'out','in_files') ] )\n",
      "                        ,(datasource,fsmask, [('mask','mask_file') ])\n",
      "                        ,(insertB0, fsmask, [( 'merged_file', 'in_file' )] )\n",
      "                        ,(datasource,bdatafind,[ ( ('dwi',dwifinder,'bvec'), 'in_bvec'), ( ('dwi', dwifinder, 'bval') ,'in_bval') ])\n",
      "                        \n",
      "                        ,(fsmask, image2voxel, [('out_file', 'in_file')])\n",
      "                        ,(bdatafind, fsl2scheme, [('in_bvec', 'bvec_file'), ('in_bval', 'bval_file')])\n",
      "                        ,(image2voxel, dtifit,[['voxel_order','in_file']])\n",
      "                        ,(fsl2scheme, dtifit,[['scheme','scheme_file']])\n",
      "                        ,(dtifit, fa,[(\"tensor_fitted\",\"in_file\")])\n",
      "                        ,(fa, analyzeheader_fa,[(\"fa\",\"in_file\")])\n",
      "                        ,(fsmask, analyzeheader_fa,[(('out_file', get_vox_dims), 'voxel_dims'),(('out_file', get_data_dims), 'data_dims')])\n",
      "                        ,(fa, fa2nii,[('fa','data_file')])\n",
      "                        ,(fsmask, fa2nii,[(('out_file', get_affine), 'affine')])\n",
      "                        ,(analyzeheader_fa, fa2nii,[('header', 'header_file')])\n",
      "                        \n",
      "                        #,(infosource, datasink, [( 'model_id', 'container' )])\n",
      "                        ,(fa2nii,datasink, [( 'nifti_file','@FA') ] )\n",
      "                        ,(fsmask,datasink, [( 'out_file','@dwi_raw' ) ])\n",
      "                      ])"
     ],
     "language": "python",
     "metadata": {},
     "outputs": []
    },
    {
     "cell_type": "code",
     "collapsed": false,
     "input": [
      "pipeline.run()"
     ],
     "language": "python",
     "metadata": {},
     "outputs": []
    },
    {
     "cell_type": "code",
     "collapsed": false,
     "input": [
      "mrtrix = pe.Workflow( name=\"MRTrix\" )\n",
      "\n",
      "inputnode = pe.Node( interface=util.IdentityInterface(fields=['DWI', 'bvecs', 'bvals' ]),\n",
      "                    name='inputnode' )\n",
      "outputnode = pe.Node( interface=util.IdentityInterface(fields=['FA', 'ADC']),\n",
      "                    name='outputnode' )\n",
      "#gunzip = pe.Node(interface=misc.Gunzip(), name='gunzip')\n",
      "fsl2mrtrix = pe.Node(interface=mrtrix.FSL2MRTrix(),name='fsl2mrtrix')\n",
      "dwi2tensor = pe.Node(interface=mrtrix.DWI2Tensor(),name='dwi2tensor')\n",
      "tensor2vector = pe.Node(interface=mrtrix.Tensor2Vector(),name='tensor2vector')\n",
      "tensor2adc = pe.Node(interface=mrtrix.Tensor2ApparentDiffusion(),name='tensor2adc')\n",
      "tensor2fa = pe.Node(interface=mrtrix.Tensor2FractionalAnisotropy(),name='tensor2fa')\n",
      "\n",
      "mrtrix.connect([\n",
      "                 (inputnode, dwi2tensor, [ ('DWI', 'in_file') ])\n",
      "                ,(inputnode, fsl2mrtrix, [ ('bvecs','bvec_file'),('bvals','bval_file')])\n",
      "                ,(fsl2mrtrix,dwi2tensor, [ (\"encoding_file\",\"encoding_file\") ] )\n",
      "                ,(dwi2tensor,tensor2vector, [ ('tensor','in_file') ] )\n",
      "                ,(dwi2tensor, tensor2adc,[ ('tensor','in_file') ] )\n",
      "                ,(dwi2tensor, tensor2fa, [ ('tensor','in_file') ] )\n",
      "                ,(tensor2fa, outputnode, [ ('FA','FA' ) ] )\n",
      "                ,(tensor2adc,outputnode, [ ('ADC', 'ADC' ) ])\n",
      "                ])"
     ],
     "language": "python",
     "metadata": {},
     "outputs": []
    },
    {
     "cell_type": "code",
     "collapsed": false,
     "input": [],
     "language": "python",
     "metadata": {},
     "outputs": []
    }
   ],
   "metadata": {}
  }
 ]
}