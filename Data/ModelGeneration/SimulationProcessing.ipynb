{
 "metadata": {
  "name": "SimulationProcessing"
 },
 "nbformat": 3,
 "nbformat_minor": 0,
 "worksheets": [
  {
   "cells": [
    {
     "cell_type": "code",
     "collapsed": false,
     "input": [
      "# Testing\n",
      "import numpy as np\n",
      "import nibabel as nib\n",
      "import os"
     ],
     "language": "python",
     "metadata": {},
     "outputs": [],
     "prompt_number": 1
    },
    {
     "cell_type": "code",
     "collapsed": false,
     "input": [
      "model_path = 'Model1'\n",
      "base_path = os.path.abspath( os.getcwd() )"
     ],
     "language": "python",
     "metadata": {},
     "outputs": [],
     "prompt_number": 2
    },
    {
     "cell_type": "code",
     "collapsed": false,
     "input": [
      "data = np.loadtxt( os.path.join( model_path, 'gradient_list.txt'), dtype=float )\n",
      "bvecs = np.insert( np.transpose( data[:,0:3] ), 0, 0.0, axis=1 )\n",
      "bvals = np.insert( np.transpose( data[:,3] ), 0, 0.0 )\n",
      "np.savetxt( os.path.join( model_path, 'signal.bvec' ), bvecs )\n",
      "np.savetxt( os.path.join( model_path, 'signal.bval' ), bvals[None] )"
     ],
     "language": "python",
     "metadata": {},
     "outputs": [],
     "prompt_number": 3
    },
    {
     "cell_type": "code",
     "collapsed": false,
     "input": [
      "nii = nib.load( os.path.join( model_path, 'model.nii.gz') )\n",
      "b0_data = np.sum( nii.get_data(), axis=3, dtype=float)\n",
      "niiHS = nib.Nifti1Image( b0_data, None, None )\n",
      "nib.save( niiHS, os.path.join( model_path, 'signal_mask.nii.gz') )\n",
      "\n",
      "b0_signal_noise = np.random.normal( 1.0, 0.15, b0_data.shape )\n",
      "b0_bg_noise = np.random.rayleigh( 0.07, b0_data.shape )\n",
      "b0_data[ b0_data == 1 ] = b0_signal_noise[b0_data==1]\n",
      "b0_data[ b0_data == 0 ] = b0_bg_noise[b0_data==0]\n",
      "niiHS = nib.Nifti1Image( b0_data, None, None )\n",
      "nib.save( niiHS, os.path.join( model_path, 'signal_b0.nii.gz') )"
     ],
     "language": "python",
     "metadata": {},
     "outputs": [],
     "prompt_number": 4
    },
    {
     "cell_type": "code",
     "collapsed": false,
     "input": [
      "def dwifinder( dwipath, ext ):\n",
      "    import os\n",
      "    bname = os.path.splitext( dwipath )\n",
      "    if ( bname[1] == '.gz' ):\n",
      "        bname = os.path.splitext( bname[0] )\n",
      "    return '%s.%s' % ( bname[0], ext )"
     ],
     "language": "python",
     "metadata": {},
     "outputs": [],
     "prompt_number": 5
    },
    {
     "cell_type": "code",
     "collapsed": false,
     "input": [
      "import nipype.interfaces.base as base        # base pipeline interface (e.g. command line execution)\n",
      "import nipype.interfaces.io as nio           # Data i/o\n",
      "import nipype.interfaces.utility as util     # utility\n",
      "import nipype.algorithms.misc as alg         # Dice, jaccard, haussdorf distances\n",
      "import nipype.pipeline.engine as pe          # pypeline engine\n",
      "import nipype.interfaces.fsl as fsl          # fsl\n",
      "import nipype.interfaces.freesurfer as fs    # freesurfer\n",
      "import nipype.interfaces.diffusion_toolkit as dtk\n",
      "import nipype.interfaces.mrtrix as mrtrix   #<---- The important new part!"
     ],
     "language": "python",
     "metadata": {},
     "outputs": [
      {
       "output_type": "stream",
       "stream": "stderr",
       "text": [
        "/usr/local/lib/python2.7/dist-packages/nipype/interfaces/mrtrix/convert.py:28: UserWarning: dipy not installed\n",
        "  warnings.warn('dipy not installed')\n"
       ]
      }
     ],
     "prompt_number": 6
    },
    {
     "cell_type": "code",
     "collapsed": false,
     "input": [
      "mrtrix = pe.Workflow( name=\"MRTrix\" )\n",
      "\n",
      "inputnode = pe.Node( interface=util.IdentityInterface(fields=['DWI', 'bvecs', 'bvals' ]),\n",
      "                    name='inputnode' )\n",
      "outputnode = pe.Node( interface=util.IdentityInterface(fields=['FA', 'ADC']),\n",
      "                    name='outputnode' )\n",
      "#gunzip = pe.Node(interface=misc.Gunzip(), name='gunzip')\n",
      "fsl2mrtrix = pe.Node(interface=mrtrix.FSL2MRTrix(),name='fsl2mrtrix')\n",
      "dwi2tensor = pe.Node(interface=mrtrix.DWI2Tensor(),name='dwi2tensor')\n",
      "tensor2vector = pe.Node(interface=mrtrix.Tensor2Vector(),name='tensor2vector')\n",
      "tensor2adc = pe.Node(interface=mrtrix.Tensor2ApparentDiffusion(),name='tensor2adc')\n",
      "tensor2fa = pe.Node(interface=mrtrix.Tensor2FractionalAnisotropy(),name='tensor2fa')\n",
      "\n",
      "mrtrix.connect([\n",
      "                 (inputnode, dwi2tensor, [ ('DWI', 'in_file') ])\n",
      "                ,(inputnode, fsl2mrtrix, [ ('bvecs','bvec_file'),('bvals','bval_file')])\n",
      "                ,(fsl2mrtrix,dwi2tensor, [ (\"encoding_file\",\"encoding_file\") ] )\n",
      "                ,(dwi2tensor,tensor2vector, [ ('tensor','in_file') ] )\n",
      "                ,(dwi2tensor, tensor2adc,[ ('tensor','in_file') ] )\n",
      "                ,(dwi2tensor, tensor2fa, [ ('tensor','in_file') ] )\n",
      "                ,(tensor2fa, outputnode, [ ('FA','FA' ) ] )\n",
      "                ,(tensor2adc,outputnode, [ ('ADC', 'ADC' ) ])\n",
      "                ])"
     ],
     "language": "python",
     "metadata": {},
     "outputs": [
      {
       "ename": "AttributeError",
       "evalue": "'Workflow' object has no attribute 'FSL2MRTrix'",
       "output_type": "pyerr",
       "traceback": [
        "\u001b[1;31m---------------------------------------------------------------------------\u001b[0m\n\u001b[1;31mAttributeError\u001b[0m                            Traceback (most recent call last)",
        "\u001b[1;32m<ipython-input-7-4950d4634a63>\u001b[0m in \u001b[0;36m<module>\u001b[1;34m()\u001b[0m\n\u001b[0;32m      6\u001b[0m                     name='outputnode' )\n\u001b[0;32m      7\u001b[0m \u001b[1;31m#gunzip = pe.Node(interface=misc.Gunzip(), name='gunzip')\u001b[0m\u001b[1;33m\u001b[0m\u001b[1;33m\u001b[0m\u001b[0m\n\u001b[1;32m----> 8\u001b[1;33m \u001b[0mfsl2mrtrix\u001b[0m \u001b[1;33m=\u001b[0m \u001b[0mpe\u001b[0m\u001b[1;33m.\u001b[0m\u001b[0mNode\u001b[0m\u001b[1;33m(\u001b[0m\u001b[0minterface\u001b[0m\u001b[1;33m=\u001b[0m\u001b[0mmrtrix\u001b[0m\u001b[1;33m.\u001b[0m\u001b[0mFSL2MRTrix\u001b[0m\u001b[1;33m(\u001b[0m\u001b[1;33m)\u001b[0m\u001b[1;33m,\u001b[0m\u001b[0mname\u001b[0m\u001b[1;33m=\u001b[0m\u001b[1;34m'fsl2mrtrix'\u001b[0m\u001b[1;33m)\u001b[0m\u001b[1;33m\u001b[0m\u001b[0m\n\u001b[0m\u001b[0;32m      9\u001b[0m \u001b[0mdwi2tensor\u001b[0m \u001b[1;33m=\u001b[0m \u001b[0mpe\u001b[0m\u001b[1;33m.\u001b[0m\u001b[0mNode\u001b[0m\u001b[1;33m(\u001b[0m\u001b[0minterface\u001b[0m\u001b[1;33m=\u001b[0m\u001b[0mmrtrix\u001b[0m\u001b[1;33m.\u001b[0m\u001b[0mDWI2Tensor\u001b[0m\u001b[1;33m(\u001b[0m\u001b[1;33m)\u001b[0m\u001b[1;33m,\u001b[0m\u001b[0mname\u001b[0m\u001b[1;33m=\u001b[0m\u001b[1;34m'dwi2tensor'\u001b[0m\u001b[1;33m)\u001b[0m\u001b[1;33m\u001b[0m\u001b[0m\n\u001b[0;32m     10\u001b[0m \u001b[0mtensor2vector\u001b[0m \u001b[1;33m=\u001b[0m \u001b[0mpe\u001b[0m\u001b[1;33m.\u001b[0m\u001b[0mNode\u001b[0m\u001b[1;33m(\u001b[0m\u001b[0minterface\u001b[0m\u001b[1;33m=\u001b[0m\u001b[0mmrtrix\u001b[0m\u001b[1;33m.\u001b[0m\u001b[0mTensor2Vector\u001b[0m\u001b[1;33m(\u001b[0m\u001b[1;33m)\u001b[0m\u001b[1;33m,\u001b[0m\u001b[0mname\u001b[0m\u001b[1;33m=\u001b[0m\u001b[1;34m'tensor2vector'\u001b[0m\u001b[1;33m)\u001b[0m\u001b[1;33m\u001b[0m\u001b[0m\n",
        "\u001b[1;31mAttributeError\u001b[0m: 'Workflow' object has no attribute 'FSL2MRTrix'"
       ]
      }
     ],
     "prompt_number": 7
    },
    {
     "cell_type": "code",
     "collapsed": false,
     "input": [
      "\n",
      "\n",
      "base_dir = os.path.abspath( base_path )\n",
      "pipeline = pe.Workflow(name=\"Model_Process\", base_directory = base_dir)\n",
      "\n",
      "\n",
      "infosource = pe.Node( interface=util.IdentityInterface( fields=['model_id']), name=\"InfoSource\" )\n",
      "infosource.iterables = ( 'model_id', [ 'Model1' ] )\n",
      "\n",
      "# Set up a node to define all inputs required in the pre-processing workflow\n",
      "datasource = pe.Node( interface=nio.DataGrabber(infields=['model_id'], outfields=['b0', 'dwi', 'mask'] ), name=\"DataReader\")\n",
      "datasource.inputs.template = '*'\n",
      "datasource.inputs.base_directory = base_dir\n",
      "datasource.inputs.field_template = dict(b0='%s/signal_b0.nii.gz',\n",
      "                                        dwi='%s/signal.nii',\n",
      "                                        mask='%s/signal_mask.nii.gz')\n",
      "datasource.inputs.template_args = dict(b0=[['model_id']],\n",
      "                                       dwi=[['model_id']],\n",
      "                                        mask=[['model_id']])\n",
      "\n",
      "\n",
      "\n",
      "bdatafind = pe.Node( interface=util.IdentityInterface(fields=['in_file', 'in_bvec', 'in_bval' ]),\n",
      "                    name='bdatafind' )\n",
      "combineB0 = pe.Node( interface=util.Merge(2) , name=\"CombineB0\")\n",
      "insertB0 = pe.Node( interface=fsl.Merge(dimension='t', output_type='NIFTI'), name=\"InsertB0\" )\n",
      "# mask dwi data\n",
      "fsmask = pe.Node(interface=fs.ApplyMask(), name='MaskRawData' )\n",
      "# compute the diffusion tensor in each voxel\n",
      "#dtifit = pe.Node(interface=dtk.DTIRecon(),name='TensorFitting')\n",
      "dtifit = pe.Node( interface=fsl.DTIFit(output_type='NIFTI_GZ'), name='TensorFitting' )\n",
      "\n",
      "#combine = pe.Node( interface=util.Merge(2) , name=\"CombineMaps\")\n",
      "# Create an output node to gather all the outputs\n",
      "#fslmerge = pe.Node(interface =fsl.Merge(dimension='t',output_type='NIFTI_GZ'), name=\"FSLMerge\" ) \n",
      "datasink = pe.Node(nio.DataSink(base_directory=base_dir,parameterization=False), name='sinker')\n",
      "# connect nodes\n",
      "pipeline.connect([\n",
      "                         (infosource, datasource, [( 'model_id', 'model_id' ) ])\n",
      "                        ,(datasource,combineB0, [ ('b0','in1'),('dwi','in2') ] )\n",
      "                        ,(combineB0,insertB0, [( 'out','in_files') ] )\n",
      "                        ,(datasource,fsmask, [('mask','mask_file') ])\n",
      "                        ,(insertB0, fsmask, [( 'merged_file', 'in_file' )] )\n",
      "                        ,(datasource,bdatafind,[ ( ('dwi',dwifinder,'bvec'), 'in_bvec'), ( ('dwi', dwifinder, 'bval') ,'in_bval') ])\n",
      "                        ,(bdatafind,dtifit,[ ('in_bvec','bvecs'), ('in_bval','bvals') ])\n",
      "                        ,(fsmask,dtifit,[ ('out_file','dwi') ]) # Diffusion Toolkit\n",
      "                        ,(datasource,dtifit, [ ('mask','mask') ])\n",
      "                        ,(infosource, datasink, [( 'model_id', 'container' )])\n",
      "                        ,(dtifit,datasink, [( 'FA','@FA'), ('MD','@ADC') ] )\n",
      "                      ])"
     ],
     "language": "python",
     "metadata": {},
     "outputs": [
      {
       "ename": "Exception",
       "evalue": "Some connections were not found\nModule TensorFitting has no output called ADC\n",
       "output_type": "pyerr",
       "traceback": [
        "\u001b[1;31m---------------------------------------------------------------------------\u001b[0m\n\u001b[1;31mException\u001b[0m                                 Traceback (most recent call last)",
        "\u001b[1;32m<ipython-input-8-80a14d532a41>\u001b[0m in \u001b[0;36m<module>\u001b[1;34m()\u001b[0m\n\u001b[0;32m     47\u001b[0m                         \u001b[1;33m,\u001b[0m\u001b[1;33m(\u001b[0m\u001b[0mdatasource\u001b[0m\u001b[1;33m,\u001b[0m\u001b[0mdtifit\u001b[0m\u001b[1;33m,\u001b[0m \u001b[1;33m[\u001b[0m \u001b[1;33m(\u001b[0m\u001b[1;34m'mask'\u001b[0m\u001b[1;33m,\u001b[0m\u001b[1;34m'mask'\u001b[0m\u001b[1;33m)\u001b[0m \u001b[1;33m]\u001b[0m\u001b[1;33m)\u001b[0m\u001b[1;33m\u001b[0m\u001b[0m\n\u001b[0;32m     48\u001b[0m                         \u001b[1;33m,\u001b[0m\u001b[1;33m(\u001b[0m\u001b[0minfosource\u001b[0m\u001b[1;33m,\u001b[0m \u001b[0mdatasink\u001b[0m\u001b[1;33m,\u001b[0m \u001b[1;33m[\u001b[0m\u001b[1;33m(\u001b[0m \u001b[1;34m'model_id'\u001b[0m\u001b[1;33m,\u001b[0m \u001b[1;34m'container'\u001b[0m \u001b[1;33m)\u001b[0m\u001b[1;33m]\u001b[0m\u001b[1;33m)\u001b[0m\u001b[1;33m\u001b[0m\u001b[0m\n\u001b[1;32m---> 49\u001b[1;33m                         \u001b[1;33m,\u001b[0m\u001b[1;33m(\u001b[0m\u001b[0mdtifit\u001b[0m\u001b[1;33m,\u001b[0m\u001b[0mdatasink\u001b[0m\u001b[1;33m,\u001b[0m \u001b[1;33m[\u001b[0m\u001b[1;33m(\u001b[0m \u001b[1;34m'FA'\u001b[0m\u001b[1;33m,\u001b[0m\u001b[1;34m'@FA'\u001b[0m\u001b[1;33m)\u001b[0m\u001b[1;33m,\u001b[0m \u001b[1;33m(\u001b[0m\u001b[1;34m'ADC'\u001b[0m\u001b[1;33m,\u001b[0m\u001b[1;34m'@ADC'\u001b[0m\u001b[1;33m)\u001b[0m \u001b[1;33m]\u001b[0m \u001b[1;33m)\u001b[0m\u001b[1;33m\u001b[0m\u001b[0m\n\u001b[0m\u001b[0;32m     50\u001b[0m                       ])\n",
        "\u001b[1;32m/usr/local/lib/python2.7/dist-packages/nipype/pipeline/engine.pyc\u001b[0m in \u001b[0;36mconnect\u001b[1;34m(self, *args, **kwargs)\u001b[0m\n\u001b[0;32m    282\u001b[0m         \u001b[1;32mif\u001b[0m \u001b[0mnot_found\u001b[0m\u001b[1;33m:\u001b[0m\u001b[1;33m\u001b[0m\u001b[0m\n\u001b[0;32m    283\u001b[0m             raise Exception('\\n'.join(['Some connections were not found'] +\n\u001b[1;32m--> 284\u001b[1;33m                                       infostr))\n\u001b[0m\u001b[0;32m    285\u001b[0m \u001b[1;33m\u001b[0m\u001b[0m\n\u001b[0;32m    286\u001b[0m         \u001b[1;31m# turn functions into strings\u001b[0m\u001b[1;33m\u001b[0m\u001b[1;33m\u001b[0m\u001b[0m\n",
        "\u001b[1;31mException\u001b[0m: Some connections were not found\nModule TensorFitting has no output called ADC\n"
       ]
      }
     ],
     "prompt_number": 8
    },
    {
     "cell_type": "code",
     "collapsed": false,
     "input": [
      "pipeline.run()"
     ],
     "language": "python",
     "metadata": {},
     "outputs": [
      {
       "output_type": "stream",
       "stream": "stdout",
       "text": [
        "121108-04:29:25,387 interface INFO:\n",
        "\t stderr 2012-11-08T04:29:25.387145:WARNING: neither NIfTI-1 qform or sform are valid\n"
       ]
      },
      {
       "output_type": "stream",
       "stream": "stdout",
       "text": [
        "121108-04:29:25,388 interface INFO:\n",
        "\t stderr 2012-11-08T04:29:25.387145:WARNING: your volume will probably be incorrectly oriented\n"
       ]
      },
      {
       "output_type": "stream",
       "stream": "stdout",
       "text": [
        "121108-04:29:29,485 interface INFO:\n",
        "\t stderr 2012-11-08T04:29:29.485095:WARNING: neither NIfTI-1 qform or sform are valid\n"
       ]
      },
      {
       "output_type": "stream",
       "stream": "stdout",
       "text": [
        "121108-04:29:29,486 interface INFO:\n",
        "\t stderr 2012-11-08T04:29:29.485095:WARNING: your volume will probably be incorrectly oriented\n"
       ]
      },
      {
       "output_type": "stream",
       "stream": "stdout",
       "text": [
        "121108-04:29:32,257 interface INFO:\n",
        "\t stdout 2012-11-08T04:29:32.257802:niiRead(): NIFTI_UNITS_UNKNOWN, assuming mm\n"
       ]
      },
      {
       "output_type": "stream",
       "stream": "stdout",
       "text": [
        "121108-04:29:32,259 interface INFO:\n",
        "\t stdout 2012-11-08T04:29:32.257802:DoAbs = 0\n"
       ]
      },
      {
       "output_type": "stream",
       "stream": "stdout",
       "text": [
        "121108-04:29:32,259 interface INFO:\n",
        "\t stdout 2012-11-08T04:29:32.257802:Found 1030301 voxels in mask\n"
       ]
      },
      {
       "output_type": "stream",
       "stream": "stdout",
       "text": [
        "121108-04:29:32,260 interface INFO:\n",
        "\t stdout 2012-11-08T04:29:32.257802:Writing masked volume to /tmp/tmp6OaZYz/Model_Process/_model_id_Model1/MaskRawData/signal_b0_merged_masked.nii.gz...done.\n"
       ]
      },
      {
       "output_type": "stream",
       "stream": "stdout",
       "text": [
        "121108-04:29:32,314 interface INFO:\n",
        "\t stdout 2012-11-08T04:29:32.313990:\n"
       ]
      },
      {
       "output_type": "stream",
       "stream": "stdout",
       "text": [
        "121108-04:29:32,315 interface INFO:\n",
        "\t stdout 2012-11-08T04:29:32.313990:Volume dimension: 101 101 101\n"
       ]
      },
      {
       "output_type": "stream",
       "stream": "stdout",
       "text": [
        "121108-04:29:32,315 interface INFO:\n",
        "\t stdout 2012-11-08T04:29:32.313990:Voxel size: 1.000 1.000 1.000\n"
       ]
      },
      {
       "output_type": "stream",
       "stream": "stdout",
       "text": [
        "121108-04:29:32,315 interface INFO:\n",
        "\t stdout 2012-11-08T04:29:32.313990:Number of b0's: 1\n"
       ]
      },
      {
       "output_type": "stream",
       "stream": "stdout",
       "text": [
        "121108-04:29:32,316 interface INFO:\n",
        "\t stdout 2012-11-08T04:29:32.313990:Number of gradient directions: 30\n"
       ]
      },
      {
       "output_type": "stream",
       "stream": "stdout",
       "text": [
        "121108-04:29:32,319 interface INFO:\n",
        "\t stdout 2012-11-08T04:29:32.319451:\n"
       ]
      },
      {
       "output_type": "stream",
       "stream": "stdout",
       "text": [
        "121108-04:29:40,241 interface INFO:\n",
        "\t stdout 2012-11-08T04:29:40.241173:Reading raw data...     \b\b\b\b\b 3.2%\b\b\b\b\b 3.2%\b\b\b\b\b 6.5%\b\b\b\b\b 9.7%\b\b\b\b\b12.9%\b\b\b\b\b16.1%\b\b\b\b\b19.4%\b\b\b\b\b22.6%\b\b\b\b\b25.8%\b\b\b\b\b29.0%\b\b\b\b\b32.3%\b\b\b\b\b35.5%\b\b\b\b\b38.7%\b\b\b\b\b41.9%\b\b\b\b\b45.2%\b\b\b\b\b48.4%\b\b\b\b\b51.6%\b\b\b\b\b54.8%\b\b\b\b\b58.1%\b\b\b\b\b61.3%\b\b\b\b\b64.5%\b\b\b\b\b67.7%\b\b\b\b\b71.0%\b\b\b\b\b74.2%\b\b\b\b\b77.4%\b\b\b\b\b80.6%\b\b\b\b\b83.9%\b\b\b\b\b87.1%\b\b\b\b\b90.3%\b\b\b\b\b93.5%\b\b\b\b\b96.8%\b\b\b\b\b 100%\n"
       ]
      },
      {
       "output_type": "stream",
       "stream": "stdout",
       "text": [
        "121108-04:29:41,220 interface INFO:\n",
        "\t stdout 2012-11-08T04:29:41.220400:Reconstructing...     \b\b\b\b\b 0.0%\b\b\b\b\b 1.0%\b\b\b\b\b 2.0%\b\b\b\b\b 3.0%\b\b\b\b\b 4.0%\b\b\b\b\b 5.0%\b\b\b\b\b 5.9%\b\b\b\b\b 6.9%\b\b\b\b\b 7.9%\b\b\b\b\b 8.9%\b\b\b\b\b 9.9%\b\b\b\b\b10.9%\b\b\b\b\b11.9%\b\b\b\b\b12.9%\b\b\b\b\b13.9%\b\b\b\b\b14.9%\b\b\b\b\b15.8%\b\b\b\b\b16.8%\b\b\b\b\b17.8%\b\b\b\b\b18.8%\b\b\b\b\b19.8%\b\b\b\b\b20.8%\b\b\b\b\b21.8%\b\b\b\b\b22.8%\b\b\b\b\b23.8%\b\b\b\b\b24.8%\b\b\b\b\b25.7%\b\b\b\b\b26.7%\b\b\b\b\b27.7%\b\b\b\b\b28.7%\b\b\b\b\b29.7%\b\b\b\b\b30.7%\b\b\b\b\b31.7%\b\b\b\b\b32.7%\b\b\b\b\b33.7%\b\b\b\b\b34.7%\b\b\b\b\b35.6%\b\b\b\b\b36.6%\b\b\b\b\b37.6%\b\b\b\b\b38.6%\b\b\b\b\b39.6%\b\b\b\b\b40.6%\b\b\b\b\b41.6%\b\b\b\b\b42.6%\b\b\b\b\b43.6%\b\b\b\b\b44.6%\b\b\b\b\b45.5%\b\b\b\b\b46.5%\b\b\b\b\b47.5%\b\b\b\b\b48.5%\b\b\b\b\b49.5%\b\b\b\b\b50.5%\b\b\b\b\b51.5%\b\b\b\b\b52.5%\b\b\b\b\b53.5%\b\b\b\b\b54.5%\b\b\b\b\b55.4%\b\b\b\b\b56.4%\b\b\b\b\b57.4%\b\b\b\b\b58.4%\b\b\b\b\b59.4%\b\b\b\b\b60.4%\b\b\b\b\b61.4%\b\b\b\b\b62.4%\b\b\b\b\b63.4%\b\b\b\b\b64.4%\b\b\b\b\b65.3%\b\b\b\b\b66.3%\b\b\b\b\b67.3%\b\b\b\b\b68.3%\b\b\b\b\b69.3%\b\b\b\b\b70.3%\b\b\b\b\b71.3%\b\b\b\b\b72.3%\b\b\b\b\b73.3%\b\b\b\b\b74.3%\b\b\b\b\b75.2%\b\b\b\b\b76.2%\b\b\b\b\b77.2%\b\b\b\b\b78.2%\b\b\b\b\b79.2%\b\b\b\b\b80.2%\b\b\b\b\b81.2%\b\b\b\b\b82.2%\b\b\b\b\b83.2%\b\b\b\b\b84.2%\b\b\b\b\b85.1%\b\b\b\b\b86.1%\b\b\b\b\b87.1%\b\b\b\b\b88.1%\b\b\b\b\b89.1%\b\b\b\b\b90.1%\b\b\b\b\b91.1%\b\b\b\b\b92.1%\b\b\b\b\b93.1%\b\b\b\b\b94.1%\b\b\b\b\b95.0%\b\b\b\b\b96.0%\b\b\b\b\b97.0%\b\b\b\b\b98.0%\b\b\b\b\b99.0%\b\b\b\b\b 100%\n"
       ]
      },
      {
       "output_type": "stream",
       "stream": "stdout",
       "text": [
        "121108-04:29:41,221 interface INFO:\n",
        "\t stdout 2012-11-08T04:29:41.220400:b0 threshold used to mask background: 0.00918367 1\n"
       ]
      },
      {
       "output_type": "stream",
       "stream": "stdout",
       "text": [
        "121108-04:29:41,229 interface INFO:\n",
        "\t stdout 2012-11-08T04:29:41.229818:\n"
       ]
      },
      {
       "output_type": "stream",
       "stream": "stdout",
       "text": [
        "121108-04:29:41,366 interface INFO:\n",
        "\t stdout 2012-11-08T04:29:41.366382:Writing output...Done.\n"
       ]
      },
      {
       "output_type": "stream",
       "stream": "stdout",
       "text": [
        "121108-04:29:41,366 interface INFO:\n",
        "\t stdout 2012-11-08T04:29:41.366382:Reconstruction completed successfully.\n"
       ]
      },
      {
       "output_type": "stream",
       "stream": "stdout",
       "text": [
        "121108-04:29:41,367 interface INFO:\n",
        "\t stdout 2012-11-08T04:29:41.366382:Time taken: 00:00:09\n"
       ]
      },
      {
       "output_type": "pyout",
       "prompt_number": 22,
       "text": [
        "<networkx.classes.digraph.DiGraph at 0x5b35390>"
       ]
      }
     ],
     "prompt_number": 22
    },
    {
     "cell_type": "code",
     "collapsed": false,
     "input": [],
     "language": "python",
     "metadata": {},
     "outputs": []
    }
   ],
   "metadata": {}
  }
 ]
}