{
 "metadata": {
  "name": "SimulationProcessing"
 },
 "nbformat": 3,
 "nbformat_minor": 0,
 "worksheets": [
  {
   "cells": [
    {
     "cell_type": "code",
     "collapsed": false,
     "input": [
      "# Testing\n",
      "import numpy as np\n",
      "import nibabel as nib\n",
      "import os"
     ],
     "language": "python",
     "metadata": {},
     "outputs": [],
     "prompt_number": 1
    },
    {
     "cell_type": "code",
     "collapsed": false,
     "input": [
      "model_path = os.path.abspath( 'Model1' )\n",
      "base_path = os.path.abspath( os.getcwd() )\n",
      "#base_path = os.path.abspath( '.' )\n",
      "msk_fname = os.path.join( model_path, 'signal_mask.nii.gz')\n",
      "b0_fname = os.path.join( model_path, 'signal_b0.nii.gz')\n",
      "signal_fname = os.path.join( model_path, 'signal.nii.gz')\n",
      "signal_nii = nib.load( signal_fname )"
     ],
     "language": "python",
     "metadata": {},
     "outputs": [],
     "prompt_number": 2
    },
    {
     "cell_type": "code",
     "collapsed": false,
     "input": [
      "data = np.loadtxt( os.path.join( model_path, 'gradient_list.txt'), dtype=float )\n",
      "bvecs = np.insert( np.transpose( data[:,0:3] ), 0, 0.0, axis=1 )\n",
      "bvals = np.insert( np.transpose( data[:,3] ), 0, 0.0 )\n",
      "np.savetxt( os.path.join( model_path, 'signal.bvec' ), bvecs )\n",
      "np.savetxt( os.path.join( model_path, 'signal.bval' ), bvals[None] )"
     ],
     "language": "python",
     "metadata": {},
     "outputs": [],
     "prompt_number": 3
    },
    {
     "cell_type": "code",
     "collapsed": false,
     "input": [
      "nii = nib.load( os.path.join( model_path, 'model.nii.gz') )\n",
      "msk_data = np.sum( nii.get_data(), axis=3, dtype=np.uint8)\n",
      "niiMSK = nib.Nifti1Image( msk_data, signal_nii.get_affine() , signal_nii.get_header() )\n",
      "niiMSK._header['glmin'] = np.min(msk_data)\n",
      "niiMSK._header['glmax'] = np.max(msk_data)\n",
      "niiMSK._header['cal_min'] = 0\n",
      "niiMSK._header['cal_max'] = 1\n",
      "niiMSK.set_data_dtype(np.uint8)\n",
      "nib.save( niiMSK, msk_fname )"
     ],
     "language": "python",
     "metadata": {},
     "outputs": [],
     "prompt_number": 4
    },
    {
     "cell_type": "code",
     "collapsed": false,
     "input": [
      "msk_data = nib.load( msk_fname ).get_data()\n",
      "b0_data = np.zeros( msk_data.shape, dtype=float )\n",
      "b0_signal_noise = np.random.normal( 1.0, 0.10, b0_data.shape )\n",
      "b0_bg_noise = np.random.rayleigh( 0.07, b0_data.shape )\n",
      "b0_data[ msk_data>0.5 ] = b0_signal_noise[msk_data>0.5]\n",
      "b0_data[ msk_data<=0.5 ] = b0_bg_noise[msk_data<=0.5]\n",
      "niiB0 = nib.Nifti1Image( b0_data, signal_nii.get_affine() , signal_nii.get_header() )\n",
      "niiB0.set_data_dtype(np.float32)\n",
      "nib.save( niiB0, b0_fname )"
     ],
     "language": "python",
     "metadata": {},
     "outputs": [],
     "prompt_number": 5
    },
    {
     "cell_type": "code",
     "collapsed": false,
     "input": [
      "def dwifinder( dwipath, ext ):\n",
      "    import os\n",
      "    bname = os.path.splitext( dwipath )\n",
      "    if ( bname[1] == '.gz' ):\n",
      "        bname = os.path.splitext( bname[0] )\n",
      "    return '%s.%s' % ( bname[0], ext )"
     ],
     "language": "python",
     "metadata": {},
     "outputs": [],
     "prompt_number": 6
    },
    {
     "cell_type": "code",
     "collapsed": false,
     "input": [
      "import nipype.interfaces.base as base        # base pipeline interface (e.g. command line execution)\n",
      "import nipype.interfaces.io as nio           # Data i/o\n",
      "import nipype.interfaces.utility as util     # utility\n",
      "import nipype.algorithms.misc as misc\n",
      "import nipype.pipeline.engine as pe          # pypeline engine\n",
      "import nipype.interfaces.fsl as fsl          # fsl\n",
      "import nipype.interfaces.freesurfer as fs    # freesurfer\n",
      "import nipype.interfaces.diffusion_toolkit as dtk\n",
      "import nipype.interfaces.mrtrix as mrtrix   #<---- The important new part!\n",
      "import nipype.interfaces.camino as camino\n",
      "\n",
      "fsl.FSLCommand.set_default_output_type('NIFTI_GZ')"
     ],
     "language": "python",
     "metadata": {},
     "outputs": [
      {
       "output_type": "stream",
       "stream": "stderr",
       "text": [
        "/usr/local/lib/python2.7/dist-packages/nipype/interfaces/mrtrix/convert.py:28: UserWarning: dipy not installed\n",
        "  warnings.warn('dipy not installed')\n"
       ]
      }
     ],
     "prompt_number": 7
    },
    {
     "cell_type": "code",
     "collapsed": false,
     "input": [
      "base_dir = os.path.abspath( base_path )\n",
      "pipeline = pe.Workflow(name=\"Model_Process\", base_dir = base_dir)\n",
      "\n",
      "\n",
      "infosource = pe.Node( interface=util.IdentityInterface( fields=['model_id']), name=\"InfoSource\" )\n",
      "infosource.iterables = ( 'model_id', [ 'Model1' ] )\n",
      "\n",
      "# Set up a node to define all inputs required in the pre-processing workflow\n",
      "datasource = pe.Node( interface=nio.DataGrabber(infields=['model_id'], outfields=['b0', 'dwi', 'mask'] ), name=\"DataReader\")\n",
      "datasource.inputs.template = '*'\n",
      "datasource.inputs.base_directory = base_path\n",
      "datasource.inputs.field_template = dict(b0='%s/signal_b0.nii.gz',\n",
      "                                        dwi='%s/signal.nii.gz',\n",
      "                                        mask='%s/signal_mask.nii.gz')\n",
      "datasource.inputs.template_args = dict(b0=[['model_id']],\n",
      "                                       dwi=[['model_id']],\n",
      "                                        mask=[['model_id']])\n",
      "\n",
      "\n",
      "\n",
      "bdatafind = pe.Node( interface=util.IdentityInterface(fields=['in_file', 'in_bvec', 'in_bval' ]),\n",
      "                    name='bdatafind' )\n",
      "combineB0 = pe.Node( interface=util.Merge(2) , name=\"CombineB0\")\n",
      "insertB0 = pe.Node( interface=fsl.Merge(dimension='t', output_type='NIFTI_GZ'), name=\"InsertB0\" )\n",
      "# mask dwi data\n",
      "fsmask = pe.Node(interface=fs.ApplyMask(), name='MaskRawData' )\n",
      "\n",
      "datasink = pe.Node(nio.DataSink(base_directory=model_path,parameterization=False), name='sinker')\n",
      "datasink.container = 'results'"
     ],
     "language": "python",
     "metadata": {},
     "outputs": [],
     "prompt_number": 8
    },
    {
     "cell_type": "code",
     "collapsed": false,
     "input": [
      "# compute the diffusion tensor in each voxel\n",
      "#dtifit = pe.Node(interface=dtk.DTIRecon(output_type=\"nii.gz\",ignore_exception=True),name='TensorFitting')\n",
      "dtifit = pe.Node( interface=fsl.DTIFit(output_type='NIFTI_GZ'), name='TensorFitting' )\n",
      "\n",
      "# connect nodes\n",
      "pipeline.connect([\n",
      "                         (infosource, datasource, [( 'model_id', 'model_id' ) ])\n",
      "                        ,(datasource,combineB0, [ ('b0','in1'),('dwi','in2') ] )\n",
      "                        ,(combineB0,insertB0, [( 'out','in_files') ] )\n",
      "                        ,(datasource,fsmask, [('mask','mask_file') ])\n",
      "                        ,(insertB0, fsmask, [( 'merged_file', 'in_file' )] )\n",
      "                        ,(datasource,bdatafind,[ ( ('dwi',dwifinder,'bvec'), 'in_bvec'), ( ('dwi', dwifinder, 'bval') ,'in_bval') ])\n",
      "                        ,(bdatafind,dtifit,[ ('in_bvec','bvecs'), ('in_bval','bvals') ])\n",
      "                        ,(fsmask,dtifit,[ ('out_file','dwi') ])                   # FSL\n",
      "                        ,(datasource,dtifit, [ ('mask','mask') ])                 # FSL\n",
      "                        #,(fsmask,dtifit,[ ('out_file','DWI') ])                    # Diffusion Toolkit\n",
      "                        #,(infosource, datasink, [( 'model_id', 'container' )])\n",
      "                        ,(dtifit,datasink, [( 'FA','@FA'), ('MD','@ADC') ] )\n",
      "                        ,(insertB0,datasink, [( 'merged_file','@dwi_raw' ) ])\n",
      "                      ])"
     ],
     "language": "python",
     "metadata": {},
     "outputs": [],
     "prompt_number": 9
    },
    {
     "cell_type": "code",
     "collapsed": false,
     "input": [
      "pipeline.run()"
     ],
     "language": "python",
     "metadata": {},
     "outputs": [
      {
       "output_type": "stream",
       "stream": "stdout",
       "text": [
        "121204-10:37:06,589 workflow INFO:\n",
        "\t ['check', 'execution', 'logging']\n"
       ]
      },
      {
       "output_type": "stream",
       "stream": "stdout",
       "text": [
        "121204-10:37:06,626 workflow INFO:\n",
        "\t Running serially.\n"
       ]
      },
      {
       "output_type": "stream",
       "stream": "stdout",
       "text": [
        "121204-10:37:06,627 workflow INFO:\n",
        "\t Executing node DataReader.a0 in dir: /media/Datos/oesteban/workspace/ACWE-Reg/Data/ModelGeneration/Model_Process/_model_id_Model1/DataReader\n"
       ]
      },
      {
       "output_type": "stream",
       "stream": "stdout",
       "text": [
        "121204-10:37:06,664 workflow INFO:\n",
        "\t Executing node CombineB0.a0 in dir: /media/Datos/oesteban/workspace/ACWE-Reg/Data/ModelGeneration/Model_Process/_model_id_Model1/CombineB0\n"
       ]
      },
      {
       "output_type": "stream",
       "stream": "stdout",
       "text": [
        "121204-10:37:06,694 workflow INFO:\n",
        "\t Executing node InsertB0.a0 in dir: /media/Datos/oesteban/workspace/ACWE-Reg/Data/ModelGeneration/Model_Process/_model_id_Model1/InsertB0\n"
       ]
      },
      {
       "output_type": "stream",
       "stream": "stdout",
       "text": [
        "121204-10:37:06,722 workflow INFO:\n",
        "\t Running: fslmerge -t /media/Datos/oesteban/workspace/ACWE-Reg/Data/ModelGeneration/Model_Process/_model_id_Model1/InsertB0/signal_b0_merged.nii.gz /media/Datos/oesteban/workspace/ACWE-Reg/Data/ModelGeneration/Model1/signal_b0.nii.gz /media/Datos/oesteban/workspace/ACWE-Reg/Data/ModelGeneration/Model1/signal.nii.gz\n"
       ]
      },
      {
       "output_type": "stream",
       "stream": "stdout",
       "text": [
        "121204-10:37:25,821 workflow INFO:\n",
        "\t Executing node MaskRawData.a0 in dir: /media/Datos/oesteban/workspace/ACWE-Reg/Data/ModelGeneration/Model_Process/_model_id_Model1/MaskRawData\n"
       ]
      },
      {
       "output_type": "stream",
       "stream": "stdout",
       "text": [
        "121204-10:37:25,841 workflow INFO:\n",
        "\t Running: mri_mask /media/Datos/oesteban/workspace/ACWE-Reg/Data/ModelGeneration/Model_Process/_model_id_Model1/InsertB0/signal_b0_merged.nii.gz /media/Datos/oesteban/workspace/ACWE-Reg/Data/ModelGeneration/Model1/signal_mask.nii.gz /media/Datos/oesteban/workspace/ACWE-Reg/Data/ModelGeneration/Model_Process/_model_id_Model1/MaskRawData/signal_b0_merged_masked.nii.gz\n"
       ]
      },
      {
       "output_type": "stream",
       "stream": "stdout",
       "text": [
        "121204-10:37:25,980 interface INFO:\n",
        "\t stderr 2012-12-04T10:37:25.980432:WARNING: neither NIfTI-1 qform or sform are valid\n"
       ]
      },
      {
       "output_type": "stream",
       "stream": "stdout",
       "text": [
        "121204-10:37:25,981 interface INFO:\n",
        "\t stderr 2012-12-04T10:37:25.980432:WARNING: your volume will probably be incorrectly oriented\n"
       ]
      },
      {
       "output_type": "stream",
       "stream": "stdout",
       "text": [
        "121204-10:37:30,213 interface INFO:\n",
        "\t stderr 2012-12-04T10:37:30.213809:WARNING: neither NIfTI-1 qform or sform are valid\n"
       ]
      },
      {
       "output_type": "stream",
       "stream": "stdout",
       "text": [
        "121204-10:37:30,214 interface INFO:\n",
        "\t stderr 2012-12-04T10:37:30.213809:WARNING: your volume will probably be incorrectly oriented\n"
       ]
      },
      {
       "output_type": "stream",
       "stream": "stdout",
       "text": [
        "121204-10:37:35,940 interface INFO:\n",
        "\t stdout 2012-12-04T10:37:35.940343:niiRead(): NIFTI_UNITS_UNKNOWN, assuming mm\n"
       ]
      },
      {
       "output_type": "stream",
       "stream": "stdout",
       "text": [
        "121204-10:37:35,941 interface INFO:\n",
        "\t stdout 2012-12-04T10:37:35.940343:DoAbs = 0\n"
       ]
      },
      {
       "output_type": "stream",
       "stream": "stdout",
       "text": [
        "121204-10:37:35,941 interface INFO:\n",
        "\t stdout 2012-12-04T10:37:35.940343:Found 1030301 voxels in mask\n"
       ]
      },
      {
       "output_type": "stream",
       "stream": "stdout",
       "text": [
        "121204-10:37:35,942 interface INFO:\n",
        "\t stdout 2012-12-04T10:37:35.940343:Writing masked volume to /media/Datos/oesteban/workspace/ACWE-Reg/Data/ModelGeneration/Model_Process/_model_id_Model1/MaskRawData/signal_b0_merged_masked.nii.gz...done.\n"
       ]
      },
      {
       "output_type": "stream",
       "stream": "stdout",
       "text": [
        "121204-10:37:35,969 workflow INFO:\n",
        "\t Executing node TensorFitting.a0 in dir: /media/Datos/oesteban/workspace/ACWE-Reg/Data/ModelGeneration/Model_Process/_model_id_Model1/TensorFitting\n"
       ]
      },
      {
       "output_type": "stream",
       "stream": "stdout",
       "text": [
        "121204-10:37:35,988 workflow INFO:\n",
        "\t Running: dtifit -k /media/Datos/oesteban/workspace/ACWE-Reg/Data/ModelGeneration/Model_Process/_model_id_Model1/MaskRawData/signal_b0_merged_masked.nii.gz -o dtifit_ -m /media/Datos/oesteban/workspace/ACWE-Reg/Data/ModelGeneration/Model1/signal_mask.nii.gz -r /media/Datos/oesteban/workspace/ACWE-Reg/Data/ModelGeneration/Model1/signal.bvec -b /media/Datos/oesteban/workspace/ACWE-Reg/Data/ModelGeneration/Model1/signal.bval\n"
       ]
      },
      {
       "output_type": "stream",
       "stream": "stdout",
       "text": [
        "121204-10:37:36,968 interface INFO:\n",
        "\t stdout 2012-12-04T10:37:36.968191:0 101 0 101 0 101\n"
       ]
      },
      {
       "output_type": "stream",
       "stream": "stdout",
       "text": [
        "121204-10:37:37,22 interface INFO:\n",
        "\t stdout 2012-12-04T10:37:37.021908:0 slices processed\n"
       ]
      },
      {
       "output_type": "stream",
       "stream": "stdout",
       "text": [
        "121204-10:37:37,22 interface INFO:\n",
        "\t stdout 2012-12-04T10:37:37.021908:1 slices processed\n"
       ]
      },
      {
       "output_type": "stream",
       "stream": "stdout",
       "text": [
        "121204-10:37:37,23 interface INFO:\n",
        "\t stdout 2012-12-04T10:37:37.023020:2 slices processed\n"
       ]
      },
      {
       "output_type": "stream",
       "stream": "stdout",
       "text": [
        "121204-10:37:37,23 interface INFO:\n",
        "\t stdout 2012-12-04T10:37:37.023020:3 slices processed\n"
       ]
      },
      {
       "output_type": "stream",
       "stream": "stdout",
       "text": [
        "121204-10:37:37,23 interface INFO:\n",
        "\t stdout 2012-12-04T10:37:37.023020:4 slices processed\n"
       ]
      },
      {
       "output_type": "stream",
       "stream": "stdout",
       "text": [
        "121204-10:37:37,24 interface INFO:\n",
        "\t stdout 2012-12-04T10:37:37.023020:5 slices processed\n"
       ]
      },
      {
       "output_type": "stream",
       "stream": "stdout",
       "text": [
        "121204-10:37:37,24 interface INFO:\n",
        "\t stdout 2012-12-04T10:37:37.023020:6 slices processed\n"
       ]
      },
      {
       "output_type": "stream",
       "stream": "stdout",
       "text": [
        "121204-10:37:37,25 interface INFO:\n",
        "\t stdout 2012-12-04T10:37:37.023020:7 slices processed\n"
       ]
      },
      {
       "output_type": "stream",
       "stream": "stdout",
       "text": [
        "121204-10:37:37,25 interface INFO:\n",
        "\t stdout 2012-12-04T10:37:37.023020:8 slices processed\n"
       ]
      },
      {
       "output_type": "stream",
       "stream": "stdout",
       "text": [
        "121204-10:37:37,26 interface INFO:\n",
        "\t stdout 2012-12-04T10:37:37.023020:9 slices processed\n"
       ]
      },
      {
       "output_type": "stream",
       "stream": "stdout",
       "text": [
        "121204-10:37:37,26 interface INFO:\n",
        "\t stdout 2012-12-04T10:37:37.023020:10 slices processed\n"
       ]
      },
      {
       "output_type": "stream",
       "stream": "stdout",
       "text": [
        "121204-10:37:37,27 interface INFO:\n",
        "\t stdout 2012-12-04T10:37:37.023020:11 slices processed\n"
       ]
      },
      {
       "output_type": "stream",
       "stream": "stdout",
       "text": [
        "121204-10:37:37,27 interface INFO:\n",
        "\t stdout 2012-12-04T10:37:37.023020:12 slices processed\n"
       ]
      },
      {
       "output_type": "stream",
       "stream": "stdout",
       "text": [
        "121204-10:37:37,29 interface INFO:\n",
        "\t stdout 2012-12-04T10:37:37.029687:13 slices processed\n"
       ]
      },
      {
       "output_type": "stream",
       "stream": "stdout",
       "text": [
        "121204-10:37:37,42 interface INFO:\n",
        "\t stdout 2012-12-04T10:37:37.042670:14 slices processed\n"
       ]
      },
      {
       "output_type": "stream",
       "stream": "stdout",
       "text": [
        "121204-10:37:37,57 interface INFO:\n",
        "\t stdout 2012-12-04T10:37:37.056960:15 slices processed\n"
       ]
      },
      {
       "output_type": "stream",
       "stream": "stdout",
       "text": [
        "121204-10:37:37,72 interface INFO:\n",
        "\t stdout 2012-12-04T10:37:37.072367:16 slices processed\n"
       ]
      },
      {
       "output_type": "stream",
       "stream": "stdout",
       "text": [
        "121204-10:37:37,91 interface INFO:\n",
        "\t stdout 2012-12-04T10:37:37.091021:17 slices processed\n"
       ]
      },
      {
       "output_type": "stream",
       "stream": "stdout",
       "text": [
        "121204-10:37:37,112 interface INFO:\n",
        "\t stdout 2012-12-04T10:37:37.111958:18 slices processed\n"
       ]
      },
      {
       "output_type": "stream",
       "stream": "stdout",
       "text": [
        "121204-10:37:37,140 interface INFO:\n",
        "\t stdout 2012-12-04T10:37:37.140775:19 slices processed\n"
       ]
      },
      {
       "output_type": "stream",
       "stream": "stdout",
       "text": [
        "121204-10:37:37,171 interface INFO:\n",
        "\t stdout 2012-12-04T10:37:37.171064:20 slices processed\n"
       ]
      },
      {
       "output_type": "stream",
       "stream": "stdout",
       "text": [
        "121204-10:37:37,201 interface INFO:\n",
        "\t stdout 2012-12-04T10:37:37.201705:21 slices processed\n"
       ]
      },
      {
       "output_type": "stream",
       "stream": "stdout",
       "text": [
        "121204-10:37:37,233 interface INFO:\n",
        "\t stdout 2012-12-04T10:37:37.233670:22 slices processed\n"
       ]
      },
      {
       "output_type": "stream",
       "stream": "stdout",
       "text": [
        "121204-10:37:37,267 interface INFO:\n",
        "\t stdout 2012-12-04T10:37:37.267804:23 slices processed\n"
       ]
      },
      {
       "output_type": "stream",
       "stream": "stdout",
       "text": [
        "121204-10:37:37,307 interface INFO:\n",
        "\t stdout 2012-12-04T10:37:37.307227:24 slices processed\n"
       ]
      },
      {
       "output_type": "stream",
       "stream": "stdout",
       "text": [
        "121204-10:37:37,346 interface INFO:\n",
        "\t stdout 2012-12-04T10:37:37.346080:25 slices processed\n"
       ]
      },
      {
       "output_type": "stream",
       "stream": "stdout",
       "text": [
        "121204-10:37:37,386 interface INFO:\n",
        "\t stdout 2012-12-04T10:37:37.386691:26 slices processed\n"
       ]
      },
      {
       "output_type": "stream",
       "stream": "stdout",
       "text": [
        "121204-10:37:37,430 interface INFO:\n",
        "\t stdout 2012-12-04T10:37:37.429978:27 slices processed\n"
       ]
      },
      {
       "output_type": "stream",
       "stream": "stdout",
       "text": [
        "121204-10:37:37,477 interface INFO:\n",
        "\t stdout 2012-12-04T10:37:37.477668:28 slices processed\n"
       ]
      },
      {
       "output_type": "stream",
       "stream": "stdout",
       "text": [
        "121204-10:37:37,525 interface INFO:\n",
        "\t stdout 2012-12-04T10:37:37.525572:29 slices processed\n"
       ]
      },
      {
       "output_type": "stream",
       "stream": "stdout",
       "text": [
        "121204-10:37:37,570 interface INFO:\n",
        "\t stdout 2012-12-04T10:37:37.570013:30 slices processed\n"
       ]
      },
      {
       "output_type": "stream",
       "stream": "stdout",
       "text": [
        "121204-10:37:37,615 interface INFO:\n",
        "\t stdout 2012-12-04T10:37:37.615587:31 slices processed\n"
       ]
      },
      {
       "output_type": "stream",
       "stream": "stdout",
       "text": [
        "121204-10:37:37,663 interface INFO:\n",
        "\t stdout 2012-12-04T10:37:37.663631:32 slices processed\n"
       ]
      },
      {
       "output_type": "stream",
       "stream": "stdout",
       "text": [
        "121204-10:37:37,712 interface INFO:\n",
        "\t stdout 2012-12-04T10:37:37.712353:33 slices processed\n"
       ]
      },
      {
       "output_type": "stream",
       "stream": "stdout",
       "text": [
        "121204-10:37:37,762 interface INFO:\n",
        "\t stdout 2012-12-04T10:37:37.762780:34 slices processed\n"
       ]
      },
      {
       "output_type": "stream",
       "stream": "stdout",
       "text": [
        "121204-10:37:37,814 interface INFO:\n",
        "\t stdout 2012-12-04T10:37:37.814121:35 slices processed\n"
       ]
      },
      {
       "output_type": "stream",
       "stream": "stdout",
       "text": [
        "121204-10:37:37,867 interface INFO:\n",
        "\t stdout 2012-12-04T10:37:37.866981:36 slices processed\n"
       ]
      },
      {
       "output_type": "stream",
       "stream": "stdout",
       "text": [
        "121204-10:37:37,920 interface INFO:\n",
        "\t stdout 2012-12-04T10:37:37.920898:37 slices processed\n"
       ]
      },
      {
       "output_type": "stream",
       "stream": "stdout",
       "text": [
        "121204-10:37:37,976 interface INFO:\n",
        "\t stdout 2012-12-04T10:37:37.976548:38 slices processed\n"
       ]
      },
      {
       "output_type": "stream",
       "stream": "stdout",
       "text": [
        "121204-10:37:38,32 interface INFO:\n",
        "\t stdout 2012-12-04T10:37:38.032780:39 slices processed\n"
       ]
      },
      {
       "output_type": "stream",
       "stream": "stdout",
       "text": [
        "121204-10:37:38,90 interface INFO:\n",
        "\t stdout 2012-12-04T10:37:38.089929:40 slices processed\n"
       ]
      },
      {
       "output_type": "stream",
       "stream": "stdout",
       "text": [
        "121204-10:37:38,147 interface INFO:\n",
        "\t stdout 2012-12-04T10:37:38.147798:41 slices processed\n"
       ]
      },
      {
       "output_type": "stream",
       "stream": "stdout",
       "text": [
        "121204-10:37:38,206 interface INFO:\n",
        "\t stdout 2012-12-04T10:37:38.206670:42 slices processed\n"
       ]
      },
      {
       "output_type": "stream",
       "stream": "stdout",
       "text": [
        "121204-10:37:38,266 interface INFO:\n",
        "\t stdout 2012-12-04T10:37:38.266164:43 slices processed\n"
       ]
      },
      {
       "output_type": "stream",
       "stream": "stdout",
       "text": [
        "121204-10:37:38,326 interface INFO:\n",
        "\t stdout 2012-12-04T10:37:38.326038:44 slices processed\n"
       ]
      },
      {
       "output_type": "stream",
       "stream": "stdout",
       "text": [
        "121204-10:37:38,386 interface INFO:\n",
        "\t stdout 2012-12-04T10:37:38.386734:45 slices processed\n"
       ]
      },
      {
       "output_type": "stream",
       "stream": "stdout",
       "text": [
        "121204-10:37:38,447 interface INFO:\n",
        "\t stdout 2012-12-04T10:37:38.447561:46 slices processed\n"
       ]
      },
      {
       "output_type": "stream",
       "stream": "stdout",
       "text": [
        "121204-10:37:38,508 interface INFO:\n",
        "\t stdout 2012-12-04T10:37:38.508644:47 slices processed\n"
       ]
      },
      {
       "output_type": "stream",
       "stream": "stdout",
       "text": [
        "121204-10:37:38,570 interface INFO:\n",
        "\t stdout 2012-12-04T10:37:38.570023:48 slices processed\n"
       ]
      },
      {
       "output_type": "stream",
       "stream": "stdout",
       "text": [
        "121204-10:37:38,631 interface INFO:\n",
        "\t stdout 2012-12-04T10:37:38.631451:49 slices processed\n"
       ]
      },
      {
       "output_type": "stream",
       "stream": "stdout",
       "text": [
        "121204-10:37:38,693 interface INFO:\n",
        "\t stdout 2012-12-04T10:37:38.692909:50 slices processed\n"
       ]
      },
      {
       "output_type": "stream",
       "stream": "stdout",
       "text": [
        "121204-10:37:38,754 interface INFO:\n",
        "\t stdout 2012-12-04T10:37:38.754235:51 slices processed\n"
       ]
      },
      {
       "output_type": "stream",
       "stream": "stdout",
       "text": [
        "121204-10:37:38,815 interface INFO:\n",
        "\t stdout 2012-12-04T10:37:38.815637:52 slices processed\n"
       ]
      },
      {
       "output_type": "stream",
       "stream": "stdout",
       "text": [
        "121204-10:37:38,877 interface INFO:\n",
        "\t stdout 2012-12-04T10:37:38.876930:53 slices processed\n"
       ]
      },
      {
       "output_type": "stream",
       "stream": "stdout",
       "text": [
        "121204-10:37:38,938 interface INFO:\n",
        "\t stdout 2012-12-04T10:37:38.938417:54 slices processed\n"
       ]
      },
      {
       "output_type": "stream",
       "stream": "stdout",
       "text": [
        "121204-10:37:39,0 interface INFO:\n",
        "\t stdout 2012-12-04T10:37:39.000056:55 slices processed\n"
       ]
      },
      {
       "output_type": "stream",
       "stream": "stdout",
       "text": [
        "121204-10:37:39,60 interface INFO:\n",
        "\t stdout 2012-12-04T10:37:39.060799:56 slices processed\n"
       ]
      },
      {
       "output_type": "stream",
       "stream": "stdout",
       "text": [
        "121204-10:37:39,121 interface INFO:\n",
        "\t stdout 2012-12-04T10:37:39.121420:57 slices processed\n"
       ]
      },
      {
       "output_type": "stream",
       "stream": "stdout",
       "text": [
        "121204-10:37:39,183 interface INFO:\n",
        "\t stdout 2012-12-04T10:37:39.183341:58 slices processed\n"
       ]
      },
      {
       "output_type": "stream",
       "stream": "stdout",
       "text": [
        "121204-10:37:39,244 interface INFO:\n",
        "\t stdout 2012-12-04T10:37:39.244480:59 slices processed\n"
       ]
      },
      {
       "output_type": "stream",
       "stream": "stdout",
       "text": [
        "121204-10:37:39,303 interface INFO:\n",
        "\t stdout 2012-12-04T10:37:39.303780:60 slices processed\n"
       ]
      },
      {
       "output_type": "stream",
       "stream": "stdout",
       "text": [
        "121204-10:37:39,361 interface INFO:\n",
        "\t stdout 2012-12-04T10:37:39.361723:61 slices processed\n"
       ]
      },
      {
       "output_type": "stream",
       "stream": "stdout",
       "text": [
        "121204-10:37:39,419 interface INFO:\n",
        "\t stdout 2012-12-04T10:37:39.419238:62 slices processed\n"
       ]
      },
      {
       "output_type": "stream",
       "stream": "stdout",
       "text": [
        "121204-10:37:39,476 interface INFO:\n",
        "\t stdout 2012-12-04T10:37:39.476098:63 slices processed\n"
       ]
      },
      {
       "output_type": "stream",
       "stream": "stdout",
       "text": [
        "121204-10:37:39,532 interface INFO:\n",
        "\t stdout 2012-12-04T10:37:39.532360:64 slices processed\n"
       ]
      },
      {
       "output_type": "stream",
       "stream": "stdout",
       "text": [
        "121204-10:37:39,586 interface INFO:\n",
        "\t stdout 2012-12-04T10:37:39.586903:65 slices processed\n"
       ]
      },
      {
       "output_type": "stream",
       "stream": "stdout",
       "text": [
        "121204-10:37:39,640 interface INFO:\n",
        "\t stdout 2012-12-04T10:37:39.640154:66 slices processed\n"
       ]
      },
      {
       "output_type": "stream",
       "stream": "stdout",
       "text": [
        "121204-10:37:39,691 interface INFO:\n",
        "\t stdout 2012-12-04T10:37:39.691667:67 slices processed\n"
       ]
      },
      {
       "output_type": "stream",
       "stream": "stdout",
       "text": [
        "121204-10:37:39,742 interface INFO:\n",
        "\t stdout 2012-12-04T10:37:39.742039:68 slices processed\n"
       ]
      },
      {
       "output_type": "stream",
       "stream": "stdout",
       "text": [
        "121204-10:37:39,790 interface INFO:\n",
        "\t stdout 2012-12-04T10:37:39.790874:69 slices processed\n"
       ]
      },
      {
       "output_type": "stream",
       "stream": "stdout",
       "text": [
        "121204-10:37:39,838 interface INFO:\n",
        "\t stdout 2012-12-04T10:37:39.838361:70 slices processed\n"
       ]
      },
      {
       "output_type": "stream",
       "stream": "stdout",
       "text": [
        "121204-10:37:39,884 interface INFO:\n",
        "\t stdout 2012-12-04T10:37:39.884166:71 slices processed\n"
       ]
      },
      {
       "output_type": "stream",
       "stream": "stdout",
       "text": [
        "121204-10:37:39,928 interface INFO:\n",
        "\t stdout 2012-12-04T10:37:39.928604:72 slices processed\n"
       ]
      },
      {
       "output_type": "stream",
       "stream": "stdout",
       "text": [
        "121204-10:37:39,972 interface INFO:\n",
        "\t stdout 2012-12-04T10:37:39.971965:73 slices processed\n"
       ]
      },
      {
       "output_type": "stream",
       "stream": "stdout",
       "text": [
        "121204-10:37:40,13 interface INFO:\n",
        "\t stdout 2012-12-04T10:37:40.013111:74 slices processed\n"
       ]
      },
      {
       "output_type": "stream",
       "stream": "stdout",
       "text": [
        "121204-10:37:40,52 interface INFO:\n",
        "\t stdout 2012-12-04T10:37:40.052469:75 slices processed\n"
       ]
      },
      {
       "output_type": "stream",
       "stream": "stdout",
       "text": [
        "121204-10:37:40,89 interface INFO:\n",
        "\t stdout 2012-12-04T10:37:40.089475:76 slices processed\n"
       ]
      },
      {
       "output_type": "stream",
       "stream": "stdout",
       "text": [
        "121204-10:37:40,124 interface INFO:\n",
        "\t stdout 2012-12-04T10:37:40.124378:77 slices processed\n"
       ]
      },
      {
       "output_type": "stream",
       "stream": "stdout",
       "text": [
        "121204-10:37:40,159 interface INFO:\n",
        "\t stdout 2012-12-04T10:37:40.159195:78 slices processed\n"
       ]
      },
      {
       "output_type": "stream",
       "stream": "stdout",
       "text": [
        "121204-10:37:40,194 interface INFO:\n",
        "\t stdout 2012-12-04T10:37:40.194734:79 slices processed\n"
       ]
      },
      {
       "output_type": "stream",
       "stream": "stdout",
       "text": [
        "121204-10:37:40,230 interface INFO:\n",
        "\t stdout 2012-12-04T10:37:40.230145:80 slices processed\n"
       ]
      },
      {
       "output_type": "stream",
       "stream": "stdout",
       "text": [
        "121204-10:37:40,266 interface INFO:\n",
        "\t stdout 2012-12-04T10:37:40.266783:81 slices processed\n"
       ]
      },
      {
       "output_type": "stream",
       "stream": "stdout",
       "text": [
        "121204-10:37:40,297 interface INFO:\n",
        "\t stdout 2012-12-04T10:37:40.297428:82 slices processed\n"
       ]
      },
      {
       "output_type": "stream",
       "stream": "stdout",
       "text": [
        "121204-10:37:40,320 interface INFO:\n",
        "\t stdout 2012-12-04T10:37:40.320054:83 slices processed\n"
       ]
      },
      {
       "output_type": "stream",
       "stream": "stdout",
       "text": [
        "121204-10:37:40,339 interface INFO:\n",
        "\t stdout 2012-12-04T10:37:40.339834:84 slices processed\n"
       ]
      },
      {
       "output_type": "stream",
       "stream": "stdout",
       "text": [
        "121204-10:37:40,356 interface INFO:\n",
        "\t stdout 2012-12-04T10:37:40.356201:85 slices processed\n"
       ]
      },
      {
       "output_type": "stream",
       "stream": "stdout",
       "text": [
        "121204-10:37:40,379 interface INFO:\n",
        "\t stdout 2012-12-04T10:37:40.379116:86 slices processed\n"
       ]
      },
      {
       "output_type": "stream",
       "stream": "stdout",
       "text": [
        "121204-10:37:40,390 interface INFO:\n",
        "\t stdout 2012-12-04T10:37:40.390530:87 slices processed\n"
       ]
      },
      {
       "output_type": "stream",
       "stream": "stdout",
       "text": [
        "121204-10:37:40,400 interface INFO:\n",
        "\t stdout 2012-12-04T10:37:40.400725:88 slices processed\n"
       ]
      },
      {
       "output_type": "stream",
       "stream": "stdout",
       "text": [
        "121204-10:37:40,403 interface INFO:\n",
        "\t stdout 2012-12-04T10:37:40.403423:89 slices processed\n"
       ]
      },
      {
       "output_type": "stream",
       "stream": "stdout",
       "text": [
        "121204-10:37:40,404 interface INFO:\n",
        "\t stdout 2012-12-04T10:37:40.404234:90 slices processed\n"
       ]
      },
      {
       "output_type": "stream",
       "stream": "stdout",
       "text": [
        "121204-10:37:40,404 interface INFO:\n",
        "\t stdout 2012-12-04T10:37:40.404234:91 slices processed\n"
       ]
      },
      {
       "output_type": "stream",
       "stream": "stdout",
       "text": [
        "121204-10:37:40,405 interface INFO:\n",
        "\t stdout 2012-12-04T10:37:40.404234:92 slices processed\n"
       ]
      },
      {
       "output_type": "stream",
       "stream": "stdout",
       "text": [
        "121204-10:37:40,406 interface INFO:\n",
        "\t stdout 2012-12-04T10:37:40.404234:93 slices processed\n"
       ]
      },
      {
       "output_type": "stream",
       "stream": "stdout",
       "text": [
        "121204-10:37:40,406 interface INFO:\n",
        "\t stdout 2012-12-04T10:37:40.404234:94 slices processed\n"
       ]
      },
      {
       "output_type": "stream",
       "stream": "stdout",
       "text": [
        "121204-10:37:40,407 interface INFO:\n",
        "\t stdout 2012-12-04T10:37:40.404234:95 slices processed\n"
       ]
      },
      {
       "output_type": "stream",
       "stream": "stdout",
       "text": [
        "121204-10:37:40,407 interface INFO:\n",
        "\t stdout 2012-12-04T10:37:40.404234:96 slices processed\n"
       ]
      },
      {
       "output_type": "stream",
       "stream": "stdout",
       "text": [
        "121204-10:37:40,408 interface INFO:\n",
        "\t stdout 2012-12-04T10:37:40.404234:97 slices processed\n"
       ]
      },
      {
       "output_type": "stream",
       "stream": "stdout",
       "text": [
        "121204-10:37:40,409 interface INFO:\n",
        "\t stdout 2012-12-04T10:37:40.404234:98 slices processed\n"
       ]
      },
      {
       "output_type": "stream",
       "stream": "stdout",
       "text": [
        "121204-10:37:40,409 interface INFO:\n",
        "\t stdout 2012-12-04T10:37:40.404234:99 slices processed\n"
       ]
      },
      {
       "output_type": "stream",
       "stream": "stdout",
       "text": [
        "121204-10:37:40,411 interface INFO:\n",
        "\t stdout 2012-12-04T10:37:40.411254:100 slices processed\n"
       ]
      },
      {
       "output_type": "stream",
       "stream": "stdout",
       "text": [
        "121204-10:37:42,415 workflow INFO:\n",
        "\t Executing node sinker.a0 in dir: /media/Datos/oesteban/workspace/ACWE-Reg/Data/ModelGeneration/Model_Process/_model_id_Model1/sinker\n"
       ]
      },
      {
       "output_type": "pyout",
       "prompt_number": 10,
       "text": [
        "<networkx.classes.digraph.DiGraph at 0x5bdc710>"
       ]
      }
     ],
     "prompt_number": 10
    },
    {
     "cell_type": "markdown",
     "metadata": {},
     "source": [
      "<h2>FA, MD Parameters</h2>"
     ]
    },
    {
     "cell_type": "code",
     "collapsed": false,
     "input": [
      "fa = nib.load( os.path.join( model_path, 'dtifit__FA.nii.gz') ).get_data().reshape(-1)\n",
      "md = nib.load( os.path.join( model_path, 'dtifit__MD.nii.gz') ).get_data().reshape(-1)\n",
      "model = nib.load( os.path.join( model_path, 'model.nii.gz') ).get_data().reshape(-1,3)\n",
      "feature = np.rollaxis( np.array([ fa, md ]), 0, 2)\n",
      "feature = [ tuple(row) for row in feature ]"
     ],
     "language": "python",
     "metadata": {},
     "outputs": [],
     "prompt_number": 44
    },
    {
     "cell_type": "code",
     "collapsed": false,
     "input": [
      "for i in range(0, np.shape( model )[-1] ):\n",
      "    data = [ fa[model[:,i]>0], md[model[:,i]>0] ]\n",
      "    data = np.rollaxis( np.array(data), 0,2)\n",
      "    #data = np[ tuple(row) for row in data ]\n",
      "    print np.mean( data, 0 )\n",
      "    print np.cov( data.T )"
     ],
     "language": "python",
     "metadata": {},
     "outputs": [
      {
       "output_type": "stream",
       "stream": "stdout",
       "text": [
        "[  7.66597807e-01   7.04538717e-04]\n",
        "[[  1.10631538e-02  -1.24550716e-05]\n",
        " [ -1.24550716e-05   2.90223001e-08]]"
       ]
      },
      {
       "output_type": "stream",
       "stream": "stdout",
       "text": [
        "\n",
        "[ 0.12627581  0.00087993]\n",
        "[[  6.35763907e-03  -1.41017707e-06]\n",
        " [ -1.41017707e-06   2.29480355e-08]]\n",
        "[ 0.11199898  0.00296831]"
       ]
      },
      {
       "output_type": "stream",
       "stream": "stdout",
       "text": [
        "\n",
        "[[  5.41536313e-03  -1.25611258e-05]\n",
        " [ -1.25611258e-05   1.30924961e-07]]\n"
       ]
      }
     ],
     "prompt_number": 53
    },
    {
     "cell_type": "code",
     "collapsed": false,
     "input": [
      "import nibabel as nib\n",
      "import numpy as np\n",
      "from tvtk.api import tvtk\n",
      "import os\n",
      "fa = nib.load( os.path.join( os.path.abspath('Model1') , 'dtifit__FA.nii.gz') ).get_data()\n",
      "grid = tvtk.ImageData(spacing=(1,1,1), origin=(0,0,0))\n",
      "grid.point_data.scalars = fa.T.ravel() # It wants fortran order???\n",
      "grid.point_data.scalars.name = 'scalars'\n",
      "grid.dimensions = fa.shape\n",
      "w = tvtk.PolyDataWriter(input=grid, file_name=os.path.join( os.path.abspath('Model1') , 'dtifit__FA.vtk' ) )\n",
      "w.write()"
     ],
     "language": "python",
     "metadata": {},
     "outputs": []
    },
    {
     "cell_type": "markdown",
     "metadata": {},
     "source": [
      "<h2>Other DTI fitting methods</h2>"
     ]
    },
    {
     "cell_type": "code",
     "collapsed": false,
     "input": [
      "def get_vox_dims(volume):\n",
      "    import nibabel as nb\n",
      "    if isinstance(volume, list):\n",
      "        volume = volume[0]\n",
      "    nii = nb.load(volume)\n",
      "    hdr = nii.get_header()\n",
      "    voxdims = hdr.get_zooms()\n",
      "    return [float(voxdims[0]), float(voxdims[1]), float(voxdims[2])]\n",
      "\n",
      "def get_data_dims(volume):\n",
      "    import nibabel as nb\n",
      "    if isinstance(volume, list):\n",
      "        volume = volume[0]\n",
      "    nii = nb.load(volume)\n",
      "    hdr = nii.get_header()\n",
      "    datadims = hdr.get_data_shape()\n",
      "    return [int(datadims[0]), int(datadims[1]), int(datadims[2])]\n",
      "\n",
      "def get_affine(volume):\n",
      "    import nibabel as nb\n",
      "    nii = nb.load(volume)\n",
      "    return nii.get_affine()\n",
      "\n",
      "# compute the diffusion tensor in each voxel\n",
      "image2voxel = pe.Node(interface=camino.Image2Voxel(out_type='double'), name=\"image2voxel\")\n",
      "fsl2scheme = pe.Node(interface=camino.FSL2Scheme(), name=\"fsl2scheme\")\n",
      "fsl2scheme.inputs.usegradmod = True\n",
      "dtifit = pe.Node(interface=camino.DTIFit(),name='TensorFitting')\n",
      "dtlutgen = pe.Node(interface=camino.DTLUTGen(), name=\"dtlutgen\")\n",
      "dtlutgen.inputs.snr = 16.0\n",
      "dtlutgen.inputs.inversion = 1\n",
      "\n",
      "fa = pe.Node(interface=camino.ComputeFractionalAnisotropy(),name='fa')\n",
      "analyzeheader_fa = pe.Node(interface= camino.AnalyzeHeader(), name = \"analyzeheader_fa\")\n",
      "analyzeheader_fa.inputs.datatype = \"double\"\n",
      "analyzeheader_trace = analyzeheader_fa.clone('analyzeheader_trace')\n",
      "fa2nii = pe.Node(interface=misc.CreateNifti(),name='fa2nii')\n",
      "\n",
      "# connect nodes\n",
      "pipeline.connect([\n",
      "                         (infosource, datasource, [( 'model_id', 'model_id' ) ])\n",
      "                        ,(datasource,combineB0, [ ('b0','in1'),('dwi','in2') ] )\n",
      "                        ,(combineB0,insertB0, [( 'out','in_files') ] )\n",
      "                        ,(datasource,fsmask, [('mask','mask_file') ])\n",
      "                        ,(insertB0, fsmask, [( 'merged_file', 'in_file' )] )\n",
      "                        ,(datasource,bdatafind,[ ( ('dwi',dwifinder,'bvec'), 'in_bvec'), ( ('dwi', dwifinder, 'bval') ,'in_bval') ])\n",
      "                        \n",
      "                        ,(fsmask, image2voxel, [('out_file', 'in_file')])\n",
      "                        ,(bdatafind, fsl2scheme, [('in_bvec', 'bvec_file'), ('in_bval', 'bval_file')])\n",
      "                        ,(image2voxel, dtifit,[['voxel_order','in_file']])\n",
      "                        ,(fsl2scheme, dtifit,[['scheme','scheme_file']])\n",
      "                        ,(dtifit, fa,[(\"tensor_fitted\",\"in_file\")])\n",
      "                        ,(fa, analyzeheader_fa,[(\"fa\",\"in_file\")])\n",
      "                        ,(fsmask, analyzeheader_fa,[(('out_file', get_vox_dims), 'voxel_dims'),(('out_file', get_data_dims), 'data_dims')])\n",
      "                        ,(fa, fa2nii,[('fa','data_file')])\n",
      "                        ,(fsmask, fa2nii,[(('out_file', get_affine), 'affine')])\n",
      "                        ,(analyzeheader_fa, fa2nii,[('header', 'header_file')])\n",
      "                        \n",
      "                        #,(infosource, datasink, [( 'model_id', 'container' )])\n",
      "                        ,(fa2nii,datasink, [( 'nifti_file','@FA') ] )\n",
      "                        ,(fsmask,datasink, [( 'out_file','@dwi_raw' ) ])\n",
      "                      ])"
     ],
     "language": "python",
     "metadata": {},
     "outputs": [],
     "prompt_number": 12
    },
    {
     "cell_type": "code",
     "collapsed": false,
     "input": [
      "pipeline.run()"
     ],
     "language": "python",
     "metadata": {},
     "outputs": [
      {
       "output_type": "stream",
       "stream": "stdout",
       "text": [
        "121204-10:24:17,656 workflow INFO:\n",
        "\t ['check', 'execution', 'logging']\n"
       ]
      },
      {
       "output_type": "stream",
       "stream": "stdout",
       "text": [
        "121204-10:24:17,767 workflow INFO:\n",
        "\t Running serially.\n"
       ]
      },
      {
       "output_type": "stream",
       "stream": "stdout",
       "text": [
        "121204-10:24:17,768 workflow INFO:\n",
        "\t Executing node DataReader.a0 in dir: /media/Datos/oesteban/workspace/ACWE-Reg/Data/ModelGeneration/Model_Process/_model_id_Model1/DataReader\n"
       ]
      },
      {
       "output_type": "stream",
       "stream": "stdout",
       "text": [
        "121204-10:24:17,898 workflow INFO:\n",
        "\t Executing node CombineB0.a0 in dir: /media/Datos/oesteban/workspace/ACWE-Reg/Data/ModelGeneration/Model_Process/_model_id_Model1/CombineB0\n"
       ]
      },
      {
       "output_type": "stream",
       "stream": "stdout",
       "text": [
        "121204-10:24:17,927 workflow INFO:\n",
        "\t Collecting precomputed outputs\n"
       ]
      },
      {
       "output_type": "stream",
       "stream": "stdout",
       "text": [
        "121204-10:24:17,942 workflow INFO:\n",
        "\t Executing node InsertB0.a0 in dir: /media/Datos/oesteban/workspace/ACWE-Reg/Data/ModelGeneration/Model_Process/_model_id_Model1/InsertB0\n"
       ]
      },
      {
       "output_type": "stream",
       "stream": "stdout",
       "text": [
        "121204-10:24:17,947 workflow INFO:\n",
        "\t Collecting precomputed outputs\n"
       ]
      },
      {
       "output_type": "stream",
       "stream": "stdout",
       "text": [
        "121204-10:24:17,964 workflow INFO:\n",
        "\t Executing node MaskRawData.a0 in dir: /media/Datos/oesteban/workspace/ACWE-Reg/Data/ModelGeneration/Model_Process/_model_id_Model1/MaskRawData\n"
       ]
      },
      {
       "output_type": "stream",
       "stream": "stdout",
       "text": [
        "121204-10:24:17,968 workflow INFO:\n",
        "\t Collecting precomputed outputs\n"
       ]
      },
      {
       "output_type": "stream",
       "stream": "stdout",
       "text": [
        "121204-10:24:17,982 workflow INFO:\n",
        "\t Executing node image2voxel.a0 in dir: /media/Datos/oesteban/workspace/ACWE-Reg/Data/ModelGeneration/Model_Process/_model_id_Model1/image2voxel\n"
       ]
      },
      {
       "output_type": "stream",
       "stream": "stdout",
       "text": [
        "121204-10:24:18,0 workflow INFO:\n",
        "\t Running: image2voxel -4dimage /media/Datos/oesteban/workspace/ACWE-Reg/Data/ModelGeneration/Model_Process/_model_id_Model1/MaskRawData/signal_b0_merged_masked.nii.gz -outputdatatype double > signal_b0_merged_masked.Bdouble\n"
       ]
      },
      {
       "output_type": "stream",
       "stream": "stdout",
       "text": [
        "121204-10:24:28,171 workflow INFO:\n",
        "\t Executing node fsl2scheme.a0 in dir: /media/Datos/oesteban/workspace/ACWE-Reg/Data/ModelGeneration/Model_Process/_model_id_Model1/fsl2scheme\n"
       ]
      },
      {
       "output_type": "stream",
       "stream": "stdout",
       "text": [
        "121204-10:24:28,271 workflow INFO:\n",
        "\t Running: fsl2scheme -bvecfile /media/Datos/oesteban/workspace/ACWE-Reg/Data/ModelGeneration/Model1/signal.bvec -bvalfile /media/Datos/oesteban/workspace/ACWE-Reg/Data/ModelGeneration/Model1/signal.bval -usegradmod > signal.scheme\n"
       ]
      },
      {
       "output_type": "stream",
       "stream": "stdout",
       "text": [
        "121204-10:24:30,258 interface INFO:\n",
        "\t stderr 2012-12-04T10:24:30.258358:04-dic-2012 10:24:29 apps.FSL_ToScheme initOptions\n"
       ]
      },
      {
       "output_type": "stream",
       "stream": "stdout",
       "text": [
        "121204-10:24:30,259 interface INFO:\n",
        "\t stderr 2012-12-04T10:24:30.258358:INFO: Gradient direction magnitude will be incorporated into b-value\n"
       ]
      },
      {
       "output_type": "stream",
       "stream": "stdout",
       "text": [
        "121204-10:24:30,499 workflow INFO:\n",
        "\t Executing node TensorFitting.a0 in dir: /media/Datos/oesteban/workspace/ACWE-Reg/Data/ModelGeneration/Model_Process/_model_id_Model1/TensorFitting\n"
       ]
      },
      {
       "output_type": "stream",
       "stream": "stdout",
       "text": [
        "121204-10:24:30,512 workflow INFO:\n",
        "\t Running: dtfit /media/Datos/oesteban/workspace/ACWE-Reg/Data/ModelGeneration/Model_Process/_model_id_Model1/image2voxel/signal_b0_merged_masked.Bdouble /media/Datos/oesteban/workspace/ACWE-Reg/Data/ModelGeneration/Model_Process/_model_id_Model1/fsl2scheme/signal.scheme > signal_b0_merged_masked_DT.Bdouble\n"
       ]
      },
      {
       "output_type": "stream",
       "stream": "stdout",
       "text": [
        "121204-10:24:31,504 interface INFO:\n",
        "\t stderr 2012-12-04T10:24:31.503996:Exception in thread \"main\" java.util.InputMismatchException\n"
       ]
      },
      {
       "output_type": "stream",
       "stream": "stdout",
       "text": [
        "121204-10:24:31,505 interface INFO:\n",
        "\t stderr 2012-12-04T10:24:31.505062:\tat java.util.Scanner.throwFor(Scanner.java:857)\n"
       ]
      },
      {
       "output_type": "stream",
       "stream": "stdout",
       "text": [
        "121204-10:24:31,505 interface INFO:\n",
        "\t stderr 2012-12-04T10:24:31.505062:\tat java.util.Scanner.next(Scanner.java:1478)\n"
       ]
      },
      {
       "output_type": "stream",
       "stream": "stdout",
       "text": [
        "121204-10:24:31,505 interface INFO:\n",
        "\t stderr 2012-12-04T10:24:31.505062:\tat java.util.Scanner.nextDouble(Scanner.java:2404)\n"
       ]
      },
      {
       "output_type": "stream",
       "stream": "stdout",
       "text": [
        "121204-10:24:31,506 interface INFO:\n",
        "\t stderr 2012-12-04T10:24:31.505062:\tat imaging.B_VectorScheme.readScheme(B_VectorScheme.java:214)\n"
       ]
      },
      {
       "output_type": "stream",
       "stream": "stdout",
       "text": [
        "121204-10:24:31,506 interface INFO:\n",
        "\t stderr 2012-12-04T10:24:31.505062:\tat imaging.DW_Scheme.readScheme(DW_Scheme.java:553)\n"
       ]
      },
      {
       "output_type": "stream",
       "stream": "stdout",
       "text": [
        "121204-10:24:31,506 interface INFO:\n",
        "\t stderr 2012-12-04T10:24:31.505062:\tat tools.CL_Initializer.initImagingScheme(CL_Initializer.java:1574)\n"
       ]
      },
      {
       "output_type": "stream",
       "stream": "stdout",
       "text": [
        "121204-10:24:31,507 interface INFO:\n",
        "\t stderr 2012-12-04T10:24:31.505062:\tat apps.ModelFit.initOptions(ModelFit.java:60)\n"
       ]
      },
      {
       "output_type": "stream",
       "stream": "stdout",
       "text": [
        "121204-10:24:31,507 interface INFO:\n",
        "\t stderr 2012-12-04T10:24:31.505062:\tat apps.Executable.<init>(Executable.java:24)\n"
       ]
      },
      {
       "output_type": "stream",
       "stream": "stdout",
       "text": [
        "121204-10:24:31,507 interface INFO:\n",
        "\t stderr 2012-12-04T10:24:31.505062:\tat apps.ModelFit.<init>(ModelFit.java:49)\n"
       ]
      },
      {
       "output_type": "stream",
       "stream": "stdout",
       "text": [
        "121204-10:24:31,508 interface INFO:\n",
        "\t stderr 2012-12-04T10:24:31.505062:\tat apps.EntryPoint.getExecutable(EntryPoint.java:142)\n"
       ]
      },
      {
       "output_type": "stream",
       "stream": "stdout",
       "text": [
        "121204-10:24:31,509 interface INFO:\n",
        "\t stderr 2012-12-04T10:24:31.505062:\tat apps.EntryPoint.main(EntryPoint.java:282)\n"
       ]
      },
      {
       "output_type": "stream",
       "stream": "stdout",
       "text": [
        "121204-10:24:31,510 workflow ERROR:\n",
        "\t ['Node TensorFitting.a0 failed to run on host zeppelin-II.']\n"
       ]
      },
      {
       "output_type": "stream",
       "stream": "stdout",
       "text": [
        "121204-10:24:31,511 workflow INFO:\n",
        "\t Saving crash info to /media/Datos/oesteban/workspace/ACWE-Reg/Data/ModelGeneration/crash-20121204-102431-oscar-TensorFitting.a0.npz\n"
       ]
      },
      {
       "output_type": "stream",
       "stream": "stdout",
       "text": [
        "121204-10:24:31,512 workflow INFO:\n",
        "\t Traceback (most recent call last):\n",
        "  File \"/usr/local/lib/python2.7/dist-packages/nipype/pipeline/plugins/linear.py\", line 37, in run\n",
        "    node.run(updatehash=updatehash)\n",
        "  File \"/usr/local/lib/python2.7/dist-packages/nipype/pipeline/engine.py\", line 1128, in run\n",
        "    self._run_interface()\n",
        "  File \"/usr/local/lib/python2.7/dist-packages/nipype/pipeline/engine.py\", line 1226, in _run_interface\n",
        "    self._result = self._run_command(execute)\n",
        "  File \"/usr/local/lib/python2.7/dist-packages/nipype/pipeline/engine.py\", line 1350, in _run_command\n",
        "    result = self._interface.run()\n",
        "  File \"/usr/local/lib/python2.7/dist-packages/nipype/interfaces/base.py\", line 820, in run\n",
        "    runtime = self._run_interface(runtime)\n",
        "  File \"/usr/local/lib/python2.7/dist-packages/nipype/interfaces/base.py\", line 1100, in _run_interface\n",
        "    self.raise_exception(runtime)\n",
        "  File \"/usr/local/lib/python2.7/dist-packages/nipype/interfaces/base.py\", line 1056, in raise_exception\n",
        "    raise RuntimeError(message)\n",
        "RuntimeError: Command:\n",
        "dtfit /media/Datos/oesteban/workspace/ACWE-Reg/Data/ModelGeneration/Model_Process/_model_id_Model1/image2voxel/signal_b0_merged_masked.Bdouble /media/Datos/oesteban/workspace/ACWE-Reg/Data/ModelGeneration/Model_Process/_model_id_Model1/fsl2scheme/signal.scheme > signal_b0_merged_masked_DT.Bdouble\n",
        "Standard output:\n",
        "\n",
        "Standard error:\n",
        "Exception in thread \"main\" java.util.InputMismatchException\n",
        "\tat java.util.Scanner.throwFor(Scanner.java:857)\n",
        "\tat java.util.Scanner.next(Scanner.java:1478)\n",
        "\tat java.util.Scanner.nextDouble(Scanner.java:2404)\n",
        "\tat imaging.B_VectorScheme.readScheme(B_VectorScheme.java:214)\n",
        "\tat imaging.DW_Scheme.readScheme(DW_Scheme.java:553)\n",
        "\tat tools.CL_Initializer.initImagingScheme(CL_Initializer.java:1574)\n",
        "\tat apps.ModelFit.initOptions(ModelFit.java:60)\n",
        "\tat apps.Executable.<init>(Executable.java:24)\n",
        "\tat apps.ModelFit.<init>(ModelFit.java:49)\n",
        "\tat apps.EntryPoint.getExecutable(EntryPoint.java:142)\n",
        "\tat apps.EntryPoint.main(EntryPoint.java:282)\n",
        "Return code: 1\n",
        "Interface DTIFit failed to run. \n",
        "\n"
       ]
      },
      {
       "output_type": "stream",
       "stream": "stdout",
       "text": [
        "121204-10:24:31,566 workflow INFO:\n",
        "\t ***********************************\n"
       ]
      },
      {
       "output_type": "stream",
       "stream": "stdout",
       "text": [
        "121204-10:24:31,567 workflow ERROR:\n",
        "\t could not run node: Model_Process.TensorFitting.a0\n"
       ]
      },
      {
       "output_type": "stream",
       "stream": "stdout",
       "text": [
        "121204-10:24:31,568 workflow INFO:\n",
        "\t crashfile: /media/Datos/oesteban/workspace/ACWE-Reg/Data/ModelGeneration/crash-20121204-102431-oscar-TensorFitting.a0.npz\n"
       ]
      },
      {
       "output_type": "stream",
       "stream": "stdout",
       "text": [
        "121204-10:24:31,568 workflow INFO:\n",
        "\t ***********************************\n"
       ]
      },
      {
       "ename": "RuntimeError",
       "evalue": "Workflow did not execute cleanly. Check log for details",
       "output_type": "pyerr",
       "traceback": [
        "\u001b[1;31m---------------------------------------------------------------------------\u001b[0m\n\u001b[1;31mRuntimeError\u001b[0m                              Traceback (most recent call last)",
        "\u001b[1;32m<ipython-input-13-45328862925b>\u001b[0m in \u001b[0;36m<module>\u001b[1;34m()\u001b[0m\n\u001b[1;32m----> 1\u001b[1;33m \u001b[0mpipeline\u001b[0m\u001b[1;33m.\u001b[0m\u001b[0mrun\u001b[0m\u001b[1;33m(\u001b[0m\u001b[1;33m)\u001b[0m\u001b[1;33m\u001b[0m\u001b[0m\n\u001b[0m",
        "\u001b[1;32m/usr/local/lib/python2.7/dist-packages/nipype/pipeline/engine.pyc\u001b[0m in \u001b[0;36mrun\u001b[1;34m(self, plugin, plugin_args, updatehash)\u001b[0m\n\u001b[0;32m    517\u001b[0m         \u001b[1;32mif\u001b[0m \u001b[0mstr2bool\u001b[0m\u001b[1;33m(\u001b[0m\u001b[0mself\u001b[0m\u001b[1;33m.\u001b[0m\u001b[0mconfig\u001b[0m\u001b[1;33m[\u001b[0m\u001b[1;34m'execution'\u001b[0m\u001b[1;33m]\u001b[0m\u001b[1;33m[\u001b[0m\u001b[1;34m'create_report'\u001b[0m\u001b[1;33m]\u001b[0m\u001b[1;33m)\u001b[0m\u001b[1;33m:\u001b[0m\u001b[1;33m\u001b[0m\u001b[0m\n\u001b[0;32m    518\u001b[0m             \u001b[0mself\u001b[0m\u001b[1;33m.\u001b[0m\u001b[0m_write_report_info\u001b[0m\u001b[1;33m(\u001b[0m\u001b[0mself\u001b[0m\u001b[1;33m.\u001b[0m\u001b[0mbase_dir\u001b[0m\u001b[1;33m,\u001b[0m \u001b[0mself\u001b[0m\u001b[1;33m.\u001b[0m\u001b[0mname\u001b[0m\u001b[1;33m,\u001b[0m \u001b[0mexecgraph\u001b[0m\u001b[1;33m)\u001b[0m\u001b[1;33m\u001b[0m\u001b[0m\n\u001b[1;32m--> 519\u001b[1;33m         \u001b[0mrunner\u001b[0m\u001b[1;33m.\u001b[0m\u001b[0mrun\u001b[0m\u001b[1;33m(\u001b[0m\u001b[0mexecgraph\u001b[0m\u001b[1;33m,\u001b[0m \u001b[0mupdatehash\u001b[0m\u001b[1;33m=\u001b[0m\u001b[0mupdatehash\u001b[0m\u001b[1;33m,\u001b[0m \u001b[0mconfig\u001b[0m\u001b[1;33m=\u001b[0m\u001b[0mself\u001b[0m\u001b[1;33m.\u001b[0m\u001b[0mconfig\u001b[0m\u001b[1;33m)\u001b[0m\u001b[1;33m\u001b[0m\u001b[0m\n\u001b[0m\u001b[0;32m    520\u001b[0m         \u001b[1;32mreturn\u001b[0m \u001b[0mexecgraph\u001b[0m\u001b[1;33m\u001b[0m\u001b[0m\n\u001b[0;32m    521\u001b[0m \u001b[1;33m\u001b[0m\u001b[0m\n",
        "\u001b[1;32m/usr/local/lib/python2.7/dist-packages/nipype/pipeline/plugins/linear.pyc\u001b[0m in \u001b[0;36mrun\u001b[1;34m(self, graph, config, updatehash)\u001b[0m\n\u001b[0;32m     53\u001b[0m                 \u001b[1;32mif\u001b[0m \u001b[0mself\u001b[0m\u001b[1;33m.\u001b[0m\u001b[0m_status_callback\u001b[0m\u001b[1;33m:\u001b[0m\u001b[1;33m\u001b[0m\u001b[0m\n\u001b[0;32m     54\u001b[0m                     \u001b[0mself\u001b[0m\u001b[1;33m.\u001b[0m\u001b[0m_status_callback\u001b[0m\u001b[1;33m(\u001b[0m\u001b[0mnode\u001b[0m\u001b[1;33m,\u001b[0m \u001b[1;34m'exception'\u001b[0m\u001b[1;33m)\u001b[0m\u001b[1;33m\u001b[0m\u001b[0m\n\u001b[1;32m---> 55\u001b[1;33m         \u001b[0mreport_nodes_not_run\u001b[0m\u001b[1;33m(\u001b[0m\u001b[0mnotrun\u001b[0m\u001b[1;33m)\u001b[0m\u001b[1;33m\u001b[0m\u001b[0m\n\u001b[0m\u001b[0;32m     56\u001b[0m \u001b[1;33m\u001b[0m\u001b[0m\n",
        "\u001b[1;32m/usr/local/lib/python2.7/dist-packages/nipype/pipeline/plugins/base.pyc\u001b[0m in \u001b[0;36mreport_nodes_not_run\u001b[1;34m(notrun)\u001b[0m\n\u001b[0;32m     87\u001b[0m                 \u001b[0mlogger\u001b[0m\u001b[1;33m.\u001b[0m\u001b[0mdebug\u001b[0m\u001b[1;33m(\u001b[0m\u001b[0msubnode\u001b[0m\u001b[1;33m.\u001b[0m\u001b[0m_id\u001b[0m\u001b[1;33m)\u001b[0m\u001b[1;33m\u001b[0m\u001b[0m\n\u001b[0;32m     88\u001b[0m         \u001b[0mlogger\u001b[0m\u001b[1;33m.\u001b[0m\u001b[0minfo\u001b[0m\u001b[1;33m(\u001b[0m\u001b[1;34m\"***********************************\"\u001b[0m\u001b[1;33m)\u001b[0m\u001b[1;33m\u001b[0m\u001b[0m\n\u001b[1;32m---> 89\u001b[1;33m         raise RuntimeError(('Workflow did not execute cleanly. '\n\u001b[0m\u001b[0;32m     90\u001b[0m                             'Check log for details'))\n\u001b[0;32m     91\u001b[0m \u001b[1;33m\u001b[0m\u001b[0m\n",
        "\u001b[1;31mRuntimeError\u001b[0m: Workflow did not execute cleanly. Check log for details"
       ]
      }
     ],
     "prompt_number": 13
    },
    {
     "cell_type": "code",
     "collapsed": false,
     "input": [
      "mrtrix = pe.Workflow( name=\"MRTrix\" )\n",
      "\n",
      "inputnode = pe.Node( interface=util.IdentityInterface(fields=['DWI', 'bvecs', 'bvals' ]),\n",
      "                    name='inputnode' )\n",
      "outputnode = pe.Node( interface=util.IdentityInterface(fields=['FA', 'ADC']),\n",
      "                    name='outputnode' )\n",
      "#gunzip = pe.Node(interface=misc.Gunzip(), name='gunzip')\n",
      "fsl2mrtrix = pe.Node(interface=mrtrix.FSL2MRTrix(),name='fsl2mrtrix')\n",
      "dwi2tensor = pe.Node(interface=mrtrix.DWI2Tensor(),name='dwi2tensor')\n",
      "tensor2vector = pe.Node(interface=mrtrix.Tensor2Vector(),name='tensor2vector')\n",
      "tensor2adc = pe.Node(interface=mrtrix.Tensor2ApparentDiffusion(),name='tensor2adc')\n",
      "tensor2fa = pe.Node(interface=mrtrix.Tensor2FractionalAnisotropy(),name='tensor2fa')\n",
      "\n",
      "mrtrix.connect([\n",
      "                 (inputnode, dwi2tensor, [ ('DWI', 'in_file') ])\n",
      "                ,(inputnode, fsl2mrtrix, [ ('bvecs','bvec_file'),('bvals','bval_file')])\n",
      "                ,(fsl2mrtrix,dwi2tensor, [ (\"encoding_file\",\"encoding_file\") ] )\n",
      "                ,(dwi2tensor,tensor2vector, [ ('tensor','in_file') ] )\n",
      "                ,(dwi2tensor, tensor2adc,[ ('tensor','in_file') ] )\n",
      "                ,(dwi2tensor, tensor2fa, [ ('tensor','in_file') ] )\n",
      "                ,(tensor2fa, outputnode, [ ('FA','FA' ) ] )\n",
      "                ,(tensor2adc,outputnode, [ ('ADC', 'ADC' ) ])\n",
      "                ])"
     ],
     "language": "python",
     "metadata": {},
     "outputs": [
      {
       "ename": "AttributeError",
       "evalue": "'Workflow' object has no attribute 'FSL2MRTrix'",
       "output_type": "pyerr",
       "traceback": [
        "\u001b[1;31m---------------------------------------------------------------------------\u001b[0m\n\u001b[1;31mAttributeError\u001b[0m                            Traceback (most recent call last)",
        "\u001b[1;32m<ipython-input-7-4950d4634a63>\u001b[0m in \u001b[0;36m<module>\u001b[1;34m()\u001b[0m\n\u001b[0;32m      6\u001b[0m                     name='outputnode' )\n\u001b[0;32m      7\u001b[0m \u001b[1;31m#gunzip = pe.Node(interface=misc.Gunzip(), name='gunzip')\u001b[0m\u001b[1;33m\u001b[0m\u001b[1;33m\u001b[0m\u001b[0m\n\u001b[1;32m----> 8\u001b[1;33m \u001b[0mfsl2mrtrix\u001b[0m \u001b[1;33m=\u001b[0m \u001b[0mpe\u001b[0m\u001b[1;33m.\u001b[0m\u001b[0mNode\u001b[0m\u001b[1;33m(\u001b[0m\u001b[0minterface\u001b[0m\u001b[1;33m=\u001b[0m\u001b[0mmrtrix\u001b[0m\u001b[1;33m.\u001b[0m\u001b[0mFSL2MRTrix\u001b[0m\u001b[1;33m(\u001b[0m\u001b[1;33m)\u001b[0m\u001b[1;33m,\u001b[0m\u001b[0mname\u001b[0m\u001b[1;33m=\u001b[0m\u001b[1;34m'fsl2mrtrix'\u001b[0m\u001b[1;33m)\u001b[0m\u001b[1;33m\u001b[0m\u001b[0m\n\u001b[0m\u001b[0;32m      9\u001b[0m \u001b[0mdwi2tensor\u001b[0m \u001b[1;33m=\u001b[0m \u001b[0mpe\u001b[0m\u001b[1;33m.\u001b[0m\u001b[0mNode\u001b[0m\u001b[1;33m(\u001b[0m\u001b[0minterface\u001b[0m\u001b[1;33m=\u001b[0m\u001b[0mmrtrix\u001b[0m\u001b[1;33m.\u001b[0m\u001b[0mDWI2Tensor\u001b[0m\u001b[1;33m(\u001b[0m\u001b[1;33m)\u001b[0m\u001b[1;33m,\u001b[0m\u001b[0mname\u001b[0m\u001b[1;33m=\u001b[0m\u001b[1;34m'dwi2tensor'\u001b[0m\u001b[1;33m)\u001b[0m\u001b[1;33m\u001b[0m\u001b[0m\n\u001b[0;32m     10\u001b[0m \u001b[0mtensor2vector\u001b[0m \u001b[1;33m=\u001b[0m \u001b[0mpe\u001b[0m\u001b[1;33m.\u001b[0m\u001b[0mNode\u001b[0m\u001b[1;33m(\u001b[0m\u001b[0minterface\u001b[0m\u001b[1;33m=\u001b[0m\u001b[0mmrtrix\u001b[0m\u001b[1;33m.\u001b[0m\u001b[0mTensor2Vector\u001b[0m\u001b[1;33m(\u001b[0m\u001b[1;33m)\u001b[0m\u001b[1;33m,\u001b[0m\u001b[0mname\u001b[0m\u001b[1;33m=\u001b[0m\u001b[1;34m'tensor2vector'\u001b[0m\u001b[1;33m)\u001b[0m\u001b[1;33m\u001b[0m\u001b[0m\n",
        "\u001b[1;31mAttributeError\u001b[0m: 'Workflow' object has no attribute 'FSL2MRTrix'"
       ]
      }
     ],
     "prompt_number": 7
    },
    {
     "cell_type": "code",
     "collapsed": false,
     "input": [],
     "language": "python",
     "metadata": {},
     "outputs": []
    }
   ],
   "metadata": {}
  }
 ]
}