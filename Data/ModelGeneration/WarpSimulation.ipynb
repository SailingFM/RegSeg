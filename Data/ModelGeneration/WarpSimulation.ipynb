{
 "metadata": {
  "name": "WarpSimulation"
 },
 "nbformat": 3,
 "nbformat_minor": 0,
 "worksheets": [
  {
   "cells": [
    {
     "cell_type": "markdown",
     "metadata": {},
     "source": [
      "<h2>Deformation field generation</h2>"
     ]
    },
    {
     "cell_type": "code",
     "collapsed": false,
     "input": [
      "from scipy.interpolate import griddata\n",
      "from scipy.ndimage.interpolation import map_coordinates\n",
      "from scipy.ndimage.filters import gaussian_filter\n",
      "import nibabel as nib\n",
      "import numpy as np\n",
      "import os\n",
      "import matplotlib.pyplot as plt"
     ],
     "language": "python",
     "metadata": {},
     "outputs": []
    },
    {
     "cell_type": "code",
     "collapsed": false,
     "input": [
      "msk = nib.load('Model1/signal_mask.nii.gz')\n",
      "img = nib.load('Model1/signal_b0_merged.nii.gz')\n",
      "datashape = msk.get_shape()\n",
      "x,y,z = np.mgrid[0:datashape[0],0:datashape[1], 0:datashape[2] ]"
     ],
     "language": "python",
     "metadata": {},
     "outputs": []
    },
    {
     "cell_type": "code",
     "collapsed": false,
     "input": [
      "points = np.concatenate( ([ (33,33,33), (33,66,33), (33,43,33),(33,53,33) ],np.random.randint( 0, 101, size=(100,3) ) ))\n",
      "values = np.zeros( shape=np.shape(points) )\n",
      "values[0:4]=[ (0, -10, 0), (0, -11, 0), (0, 6, 0), (0, 2, 0) ]\n",
      "\n",
      "field = griddata(points, values, (x,y,z), method='linear', fill_value=0)\n",
      "field[:,:,:,1] = gaussian_filter( field[:,:,:,1], sigma=5 )"
     ],
     "language": "python",
     "metadata": {},
     "outputs": []
    },
    {
     "cell_type": "code",
     "collapsed": false,
     "input": [
      "extent=[0,datashape[0],0,datashape[1]]\n",
      "plt.imshow( field[30,:,:,1], extent=extent )"
     ],
     "language": "python",
     "metadata": {},
     "outputs": []
    },
    {
     "cell_type": "code",
     "collapsed": false,
     "input": [
      "img_data = img.get_data()\n",
      "grid_points =  np.array( (x,y,z)).T\n",
      "new_positions = ( grid_points - field ).reshape(-1,3).T\n",
      "new_img = np.array( [ map_coordinates( img_data[:,:,:,i], new_positions ).reshape( datashape ) for i in range(0, img_data.shape[-1] ) ] )\n",
      "new_img[new_img<0.0] = 0.0\n",
      "niiHS = nib.Nifti1Image( new_img.T, img.get_affine(), img.get_header() )\n",
      "nib.save( niiHS, 'Model1/deformed_signal.nii.gz' )"
     ],
     "language": "python",
     "metadata": {},
     "outputs": []
    },
    {
     "cell_type": "code",
     "collapsed": false,
     "input": [
      "msk_data = msk.get_data()\n",
      "new_mask = map_coordinates( msk_data, new_positions ).reshape( datashape )\n",
      "new_mask[new_mask<=0.5] = 0.0\n",
      "new_mask[new_mask>0.0] = 1.0\n",
      "niiHS = nib.Nifti1Image( new_mask, msk.get_affine(), msk.get_header() )\n",
      "nib.save( niiHS, 'Model1/deformed_mask.nii.gz' )"
     ],
     "language": "python",
     "metadata": {},
     "outputs": []
    },
    {
     "cell_type": "markdown",
     "metadata": {},
     "source": [
      "<h2>DTI Fitting</h2>"
     ]
    },
    {
     "cell_type": "code",
     "collapsed": false,
     "input": [
      "import nipype.interfaces.base as base        # base pipeline interface (e.g. command line execution)\n",
      "import nipype.interfaces.io as nio           # Data i/o\n",
      "import nipype.interfaces.utility as util     # utility\n",
      "import nipype.algorithms.misc as misc\n",
      "import nipype.pipeline.engine as pe          # pypeline engine\n",
      "import nipype.interfaces.fsl as fsl          # fsl\n",
      "import nipype.interfaces.freesurfer as fs    # freesurfer\n",
      "import nipype.interfaces.diffusion_toolkit as dtk\n",
      "import nipype.interfaces.mrtrix as mrtrix   #<---- The important new part!\n",
      "import nipype.interfaces.camino as camino\n",
      "\n",
      "fsl.FSLCommand.set_default_output_type('NIFTI_GZ')"
     ],
     "language": "python",
     "metadata": {},
     "outputs": []
    },
    {
     "cell_type": "code",
     "collapsed": false,
     "input": [
      "base_dir = os.path.abspath( os.path.abspath( 'Model1' ) )\n",
      "pipeline = pe.Workflow(name=\"Model_Process\", base_dir = base_dir)\n",
      "\n",
      "fsmask = pe.Node(interface=fs.ApplyMask(), name='MaskRawData' )\n",
      "fsmask.inputs.in_file = os.path.abspath( os.path.join( 'Model1', 'deformed_signal.nii.gz' ))\n",
      "fsmask.inputs.mask_file = os.path.abspath( os.path.join( 'Model1', 'deformed_mask.nii.gz' ))\n",
      "\n",
      "datasink = pe.Node(nio.DataSink(base_directory=base_dir,parameterization=False), name='sinker')\n",
      "datasink.container = 'deformed'\n",
      "\n",
      "dtifit = pe.Node( interface=fsl.DTIFit(output_type='NIFTI_GZ'), name='TensorFitting' )\n",
      "dtifit.inputs.bvecs = os.path.abspath( os.path.join( 'Model1', 'signal.bvec' ) )\n",
      "dtifit.inputs.bvals = os.path.abspath( os.path.join( 'Model1', 'signal.bval' ) )\n",
      "dtifit.inputs.mask = os.path.abspath( os.path.join( 'Model1', 'deformed_mask.nii.gz' ) )\n",
      "dtifit.inputs.dwi = os.path.abspath( os.path.join( 'Model1', 'deformed_signal.nii.gz' ) )\n",
      "\n",
      "# connect nodes\n",
      "pipeline.connect([\n",
      "                        (dtifit,datasink, [( 'FA','@FA'), ('MD','@ADC') ] )\n",
      "                      ])"
     ],
     "language": "python",
     "metadata": {},
     "outputs": []
    },
    {
     "cell_type": "code",
     "collapsed": true,
     "input": [
      "pipeline.run()"
     ],
     "language": "python",
     "metadata": {},
     "outputs": []
    },
    {
     "cell_type": "markdown",
     "metadata": {},
     "source": [
      "<h2>Model restoration</h2>"
     ]
    },
    {
     "cell_type": "code",
     "collapsed": false,
     "input": [
      "fa = nib.load('Model1/dtifit__FA.nii.gz')\n",
      "est_field = nib.load('../../Debug/outfield-HD.nii.gz').get_data()\n",
      "est_field = est_field[:,:,:,0,:]\n",
      "plt.imshow( est_field[30,:,:,1], extent=extent )"
     ],
     "language": "python",
     "metadata": {},
     "outputs": []
    },
    {
     "cell_type": "code",
     "collapsed": false,
     "input": [
      "grid_points =  np.array( (x,y,z)).T\n",
      "new_positions = ( grid_points + est_field ).reshape(-1,3).T"
     ],
     "language": "python",
     "metadata": {},
     "outputs": []
    },
    {
     "cell_type": "code",
     "collapsed": false,
     "input": [
      "fa_data = fa.get_data()\n",
      "new_img = map_coordinates( fa_data, new_positions ).reshape( np.shape(fa_data) )\n",
      "new_img[new_img<0.0] = 0.0\n",
      "niiHS = nib.Nifti1Image( new_img.T, fa.get_affine(), fa.get_header() )\n",
      "nib.save( niiHS, 'Model1/restored_FA.nii.gz' )"
     ],
     "language": "python",
     "metadata": {},
     "outputs": []
    },
    {
     "cell_type": "code",
     "collapsed": false,
     "input": [],
     "language": "python",
     "metadata": {},
     "outputs": []
    }
   ],
   "metadata": {}
  }
 ]
}