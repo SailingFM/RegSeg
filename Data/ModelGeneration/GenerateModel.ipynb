{
 "metadata": {
  "name": "GenerateModel"
 },
 "nbformat": 3,
 "nbformat_minor": 0,
 "worksheets": [
  {
   "cells": [
    {
     "cell_type": "markdown",
     "metadata": {},
     "source": [
      "<h1>DWI Model Generation</h1>\n",
      "A model for testing the ACWE-Reg method is implemented here\n",
      "<ul>\n",
      "    <li>Author: phd@oscaresteban.es (Oscar Esteban)</li>\n",
      "    <li>Date: 2012/10/10</li>\n",
      "    <li>Version: 1.0</li>\n",
      "</ul>\n",
      "<h2>License</h2>\n",
      "    \n",
      "<h2>Model Parameters</h2>\n",
      "Model parameters are estimated from a manual sample"
     ]
    },
    {
     "cell_type": "code",
     "collapsed": false,
     "input": [
      "import csv\n",
      "import os\n",
      "import numpy as np\n",
      "from scipy.cluster.vq import *\n",
      "from sklearn.covariance import EmpiricalCovariance, MinCovDet\n",
      "\n",
      "col_l1 = 3\n",
      "\n",
      "with open( './dti/dti_maps/20121011-ManualSampleOscar.csv', 'rU' ) as csvfile:\n",
      "    dataReader = csv.reader( csvfile, delimiter=',',quoting=csv.QUOTE_NONE)\n",
      "    dataReader.next() # skip first row\n",
      "    data = [ [ int(row[0]), float(row[col_l1]), float(row[col_l1+1]), float(row[col_l1+2]) ] for row in dataReader ]\n",
      "    csvfile.close()\n",
      "\n",
      "getClass = lambda c: np.array([ [ row[1], row[2], row[3] ] for row in data if(row[0]==c) ])\n",
      "\n",
      "csf_data  = getClass( 1 )\n",
      "wm_data  = getClass( 2 )\n",
      "gm_data = getClass( 3 )"
     ],
     "language": "python",
     "metadata": {},
     "outputs": []
    },
    {
     "cell_type": "code",
     "collapsed": false,
     "input": [
      "for eval_data in (wm_data,gm_data,csf_data):\n",
      "    robust_cov = MinCovDet().fit(eval_data)\n",
      "    print robust_cov.location_\n",
      "    print robust_cov.covariance_"
     ],
     "language": "python",
     "metadata": {},
     "outputs": []
    },
    {
     "cell_type": "code",
     "collapsed": false,
     "input": [
      "getTuple = lambda x: np.array( [ (row[0], row[1], row[2]) for row in x ] )\n",
      "\n",
      "wm_c,wm_l = kmeans2( getTuple( wm_data ), 3 )\n",
      "gm_c,gm_l = kmeans2( getTuple( gm_data ), 3 )\n",
      "cs_c,cs_l = kmeans2( getTuple( csf_data ), 3 )\n",
      "\n",
      "print wm_c\n",
      "print gm_c\n",
      "print cs_c"
     ],
     "language": "python",
     "metadata": {},
     "outputs": []
    },
    {
     "cell_type": "heading",
     "level": 2,
     "metadata": {},
     "source": [
      "Tissue Fraction Distribution"
     ]
    },
    {
     "cell_type": "code",
     "collapsed": true,
     "input": [
      "import nibabel as nib\n",
      "import numpy as np\n",
      "from scipy import ndimage\n",
      "from pylab import *"
     ],
     "language": "python",
     "metadata": {},
     "outputs": []
    },
    {
     "cell_type": "code",
     "collapsed": true,
     "input": [
      "datashape = ( 101, 101, 101 )\n",
      "x,y,z = np.mgrid[0:datashape[0],0:datashape[1], 0:datashape[2] ]"
     ],
     "language": "python",
     "metadata": {},
     "outputs": []
    },
    {
     "cell_type": "code",
     "collapsed": false,
     "input": [
      "def ball( volsize, radius ):\n",
      "    assert radius < (volsize/2)\n",
      "    result = np.zeros( shape=(volsize,volsize,volsize), dtype=int )\n",
      "    thres = radius**2\n",
      "    center = np.floor(volsize/2)\n",
      "    for x in range(0,volsize+1):\n",
      "        for y in range(0,volsize+1):\n",
      "            for z in range(0,volsize+1):\n",
      "                val = ((x-center)**2 + (y-center)**2 + (z-center)**2)\n",
      "                if  val < thres:\n",
      "                    result[x,y,z] = 1\n",
      "    return result"
     ],
     "language": "python",
     "metadata": {},
     "outputs": []
    },
    {
     "cell_type": "code",
     "collapsed": false,
     "input": [
      "# from http://stackoverflow.com/questions/9689173/shape-recognition-with-numpy-scipy-perhaps-watershed\n",
      "\n",
      "import numpy as np\n",
      "from scipy import ndimage\n",
      "import matplotlib.pyplot as plt\n",
      "\n",
      "def draw_circle(grid, x0, y0, radius):\n",
      "    ny, nx = grid.shape\n",
      "    y, x = np.ogrid[:ny, :nx]\n",
      "    dist = np.hypot(x - x0, y - y0)\n",
      "    grid[dist < radius] = True\n",
      "    return grid\n"
     ],
     "language": "python",
     "metadata": {},
     "outputs": []
    },
    {
     "cell_type": "code",
     "collapsed": true,
     "input": [
      "data_wm = ball( 101, 33 )"
     ],
     "language": "python",
     "metadata": {},
     "outputs": []
    },
    {
     "cell_type": "code",
     "collapsed": false,
     "input": [
      "strel = ball( 15, 6.5 )"
     ],
     "language": "python",
     "metadata": {},
     "outputs": []
    },
    {
     "cell_type": "code",
     "collapsed": false,
     "input": [
      "data_gm = data_wm.copy()\n",
      "for i in range(0,1):\n",
      "    data_gm = ndimage.binary_dilation( data_gm, structure=strel )\n",
      "data_gm-= data_wm"
     ],
     "language": "python",
     "metadata": {},
     "outputs": []
    },
    {
     "cell_type": "code",
     "collapsed": true,
     "input": [
      "data_csf = np.zeros(shape=data_wm.shape)\n",
      "data_csf[ 53, 57, 59 ] = 1\n",
      "data_csf[ 45, 44, 40 ] = 1\n",
      "for i in range(0,2):\n",
      "    data_csf = ndimage.binary_dilation( data_csf, structure=strel )\n",
      "data_filled = np.copy( data_wm )    \n",
      "data_wm-=data_csf"
     ],
     "language": "python",
     "metadata": {},
     "outputs": []
    },
    {
     "cell_type": "code",
     "collapsed": false,
     "input": [
      "data_final = np.concatenate((data_wm[...,np.newaxis],data_gm[...,np.newaxis],data_csf[...,np.newaxis]),axis=3 )\n",
      "niiHS = nib.Nifti1Image( data_final, None, None )\n",
      "nib.save( niiHS, 'model.nii.gz' )"
     ],
     "language": "python",
     "metadata": {},
     "outputs": []
    },
    {
     "cell_type": "markdown",
     "metadata": {},
     "source": [
      "<h2>Contour extraction</h2>"
     ]
    },
    {
     "cell_type": "code",
     "collapsed": false,
     "input": [
      "from tvtk.api import tvtk\n",
      "\n",
      "grid = tvtk.ImageData(spacing=(1,1,1), origin=(0,0,0))\n",
      "grid.point_data.scalars = data_filled.T.ravel() # It wants fortran order???\n",
      "grid.point_data.scalars.name = 'scalars'\n",
      "grid.dimensions = data_filled.shape\n",
      "iso = tvtk.ImageMarchingCubes(input=grid)\n",
      "\n",
      "w = tvtk.PolyDataWriter(input=iso.output, file_name='wm.vtk')\n",
      "w.write()"
     ],
     "language": "python",
     "metadata": {},
     "outputs": []
    }
   ],
   "metadata": {}
  }
 ]
}