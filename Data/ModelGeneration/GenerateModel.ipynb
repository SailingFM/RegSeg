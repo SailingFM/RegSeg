{
 "metadata": {
  "name": "GenerateModel"
 },
 "nbformat": 3,
 "nbformat_minor": 0,
 "worksheets": [
  {
   "cells": [
    {
     "cell_type": "markdown",
     "metadata": {},
     "source": [
      "<h1>DWI Model Generation</h1>\n",
      "A model for testing the ACWE-Reg method is implemented here\n",
      "<ul>\n",
      "    <li>Author: phd@oscaresteban.es (Oscar Esteban)</li>\n",
      "    <li>Date: 2012/10/10</li>\n",
      "    <li>Version: 1.0</li>\n",
      "</ul>\n",
      "<h2>License</h2>\n",
      "    \n",
      "<h2>Model Parameters</h2>\n",
      "Model parameters are estimated from a manual sample"
     ]
    },
    {
     "cell_type": "code",
     "collapsed": false,
     "input": [
      "import csv\n",
      "import os\n",
      "import numpy as np\n",
      "from scipy.cluster.vq import *\n",
      "from sklearn.covariance import EmpiricalCovariance, MinCovDet\n",
      "\n",
      "col_l1 = 3\n",
      "\n",
      "with open( './dti/dti_maps/20121011-ManualSampleOscar.csv', 'rU' ) as csvfile:\n",
      "    dataReader = csv.reader( csvfile, delimiter=',',quoting=csv.QUOTE_NONE)\n",
      "    dataReader.next() # skip first row\n",
      "    data = [ [ int(row[0]), float(row[col_l1]), float(row[col_l1+1]), float(row[col_l1+2]) ] for row in dataReader ]\n",
      "    csvfile.close()\n",
      "\n",
      "getClass = lambda c: np.array([ [ row[1], row[2], row[3] ] for row in data if(row[0]==c) ])\n",
      "\n",
      "csf_data  = getClass( 1 )\n",
      "wm_data  = getClass( 2 )\n",
      "gm_data = getClass( 3 )"
     ],
     "language": "python",
     "metadata": {},
     "outputs": [],
     "prompt_number": 113
    },
    {
     "cell_type": "code",
     "collapsed": false,
     "input": [
      "for eval_data in (wm_data,gm_data,csf_data):\n",
      "    robust_cov = MinCovDet().fit(eval_data)\n",
      "    print robust_cov.location_\n",
      "    print robust_cov.covariance_"
     ],
     "language": "python",
     "metadata": {},
     "outputs": [
      {
       "output_type": "stream",
       "stream": "stdout",
       "text": [
        "[ 0.00131632  0.00050533  0.00032889]\n",
        "[[  8.51155032e-08  -3.64625930e-08  -2.53231245e-08]\n",
        " [ -3.64625930e-08   2.60838602e-08   1.70443186e-08]\n",
        " [ -2.53231245e-08   1.70443186e-08   1.69197004e-08]]\n",
        "[ 0.0009816   0.00085408  0.00074233]"
       ]
      },
      {
       "output_type": "stream",
       "stream": "stdout",
       "text": [
        "\n",
        "[[  4.70536751e-08   4.55223953e-08   4.72205654e-08]\n",
        " [  4.55223953e-08   4.85892476e-08   5.08833283e-08]\n",
        " [  4.72205654e-08   5.08833283e-08   5.70485273e-08]]\n",
        "[ 0.00323874  0.00298632  0.00279786]"
       ]
      },
      {
       "output_type": "stream",
       "stream": "stdout",
       "text": [
        "\n",
        "[[  2.26892359e-07   2.01076666e-07   1.78912127e-07]\n",
        " [  2.01076666e-07   2.01045239e-07   1.81471507e-07]\n",
        " [  1.78912127e-07   1.81471507e-07   1.73875628e-07]]\n"
       ]
      }
     ],
     "prompt_number": 114
    },
    {
     "cell_type": "code",
     "collapsed": false,
     "input": [
      "getTuple = lambda x: np.array( [ (row[0], row[1], row[2]) for row in x ] )\n",
      "\n",
      "wm_c,wm_l = kmeans2( getTuple( wm_data ), 3 )\n",
      "gm_c,gm_l = kmeans2( getTuple( gm_data ), 3 )\n",
      "cs_c,cs_l = kmeans2( getTuple( csf_data ), 3 )\n",
      "\n",
      "print wm_c\n",
      "print gm_c\n",
      "print cs_c"
     ],
     "language": "python",
     "metadata": {},
     "outputs": [
      {
       "output_type": "stream",
       "stream": "stdout",
       "text": [
        "[[ 0.00116156  0.00060014  0.0003996 ]\n",
        " [ 0.0017254   0.00034619  0.0002356 ]\n",
        " [ 0.00242545  0.00121945  0.00110018]]\n",
        "[[ 0.00277588  0.00249324  0.00234088]\n",
        " [ 0.00133289  0.00120314  0.00111513]\n",
        " [ 0.00089103  0.00074439  0.00061156]]\n",
        "[[ 0.00231134  0.0020433   0.00189742]\n",
        " [ 0.00395972  0.00364704  0.00339958]\n",
        " [ 0.00330004  0.00299152  0.00279008]]\n"
       ]
      }
     ],
     "prompt_number": 115
    },
    {
     "cell_type": "heading",
     "level": 2,
     "metadata": {},
     "source": [
      "Tissue Fraction Distribution"
     ]
    },
    {
     "cell_type": "code",
     "collapsed": true,
     "input": [
      "import nibabel as nib\n",
      "import numpy as np\n",
      "from scipy import ndimage\n",
      "from pylab import *"
     ],
     "language": "python",
     "metadata": {},
     "outputs": [],
     "prompt_number": 116
    },
    {
     "cell_type": "code",
     "collapsed": true,
     "input": [
      "datashape = ( 101, 101, 101 )"
     ],
     "language": "python",
     "metadata": {},
     "outputs": [],
     "prompt_number": 117
    },
    {
     "cell_type": "code",
     "collapsed": false,
     "input": [
      "def ball( volsize, radius ):\n",
      "    assert radius < (volsize/2)\n",
      "    result = np.zeros( shape=(volsize,volsize,volsize), dtype=int )\n",
      "    thres = radius**2\n",
      "    center = np.floor(volsize/2)\n",
      "    for x in range(0,volsize+1):\n",
      "        for y in range(0,volsize+1):\n",
      "            for z in range(0,volsize+1):\n",
      "                val = ((x-center)**2 + (y-center)**2 + (z-center)**2)\n",
      "                if  val < thres:\n",
      "                    result[x,y,z] = 1\n",
      "    return result"
     ],
     "language": "python",
     "metadata": {},
     "outputs": [],
     "prompt_number": 118
    },
    {
     "cell_type": "code",
     "collapsed": true,
     "input": [
      "data_wm = ball( 101, 33 )"
     ],
     "language": "python",
     "metadata": {},
     "outputs": [],
     "prompt_number": 119
    },
    {
     "cell_type": "code",
     "collapsed": false,
     "input": [
      "strel = ball( 15, 6.5 )"
     ],
     "language": "python",
     "metadata": {},
     "outputs": [],
     "prompt_number": 120
    },
    {
     "cell_type": "code",
     "collapsed": false,
     "input": [
      "data_gm = data_wm.copy()\n",
      "for i in range(0,1):\n",
      "    data_gm = ndimage.binary_dilation( data_gm, structure=strel )\n",
      "data_gm-= data_wm"
     ],
     "language": "python",
     "metadata": {},
     "outputs": [],
     "prompt_number": 121
    },
    {
     "cell_type": "code",
     "collapsed": true,
     "input": [
      "data_csf = np.zeros(shape=data_wm.shape)\n",
      "data_csf[ 53, 57, 59 ] = 1\n",
      "data_csf[ 45, 44, 40 ] = 1\n",
      "for i in range(0,2):\n",
      "    data_csf = ndimage.binary_dilation( data_csf, structure=strel )\n",
      "    \n",
      "data_wm-=data_csf"
     ],
     "language": "python",
     "metadata": {},
     "outputs": [],
     "prompt_number": 123
    },
    {
     "cell_type": "code",
     "collapsed": false,
     "input": [
      "data_final = np.concatenate((data_wm[...,np.newaxis],data_gm[...,np.newaxis],data_csf[...,np.newaxis]),axis=3 )\n",
      "niiHS = nib.Nifti1Image( data_final, None, None )\n",
      "nib.save( niiHS, 'model.nii.gz' )"
     ],
     "language": "python",
     "metadata": {},
     "outputs": [],
     "prompt_number": 124
    }
   ],
   "metadata": {}
  }
 ]
}