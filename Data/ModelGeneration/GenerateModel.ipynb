{
 "metadata": {
  "name": "GenerateModel"
 },
 "nbformat": 3,
 "nbformat_minor": 0,
 "worksheets": [
  {
   "cells": [
    {
     "cell_type": "markdown",
     "metadata": {},
     "source": [
      "<h1>DWI Model Generation</h1>\n",
      "A model for testing the ACWE-Reg method is implemented here\n",
      "<ul>\n",
      "    <li>Author: phd@oscaresteban.es (Oscar Esteban)</li>\n",
      "    <li>Date: 2012/10/10</li>\n",
      "    <li>Version: 1.0</li>\n",
      "</ul>\n",
      "<h2>License</h2>\n",
      "    \n",
      "<h2>Model Parameters</h2>\n",
      "Model parameters are estimated from a manual sample"
     ]
    },
    {
     "cell_type": "code",
     "collapsed": false,
     "input": [
      "import csv\n",
      "import os\n",
      "import numpy as np\n",
      "from scipy.cluster.vq import *\n",
      "from sklearn.covariance import EmpiricalCovariance, MinCovDet\n",
      "\n",
      "col_l1 = 5\n",
      "\n",
      "with open( 'DTI_ManualSample.csv', 'rU' ) as csvfile:\n",
      "    dataReader = csv.reader( csvfile, delimiter=',',quoting=csv.QUOTE_NONE)\n",
      "    dataReader.next() # skip first row\n",
      "    data = [ [ int(row[0]), float(row[col_l1]), float(row[col_l1+1]), float(row[col_l1+2]) ] for row in dataReader ]\n",
      "\n",
      "getClass = lambda c: np.array([ [ row[1], row[2], row[3] ] for row in data if(row[0]==c) ])\n",
      "\n",
      "csf_data  = getClass( 1 )\n",
      "wm_data  = getClass( 2 )\n",
      "gm_data = getClass( 3 )"
     ],
     "language": "python",
     "metadata": {},
     "outputs": [],
     "prompt_number": 40
    },
    {
     "cell_type": "code",
     "collapsed": false,
     "input": [
      "for eval_data in (wm_data,gm_data,csf_data):\n",
      "    robust_cov = MinCovDet().fit(eval_data)\n",
      "    print robust_cov.location_\n",
      "    print robust_cov.covariance_"
     ],
     "language": "python",
     "metadata": {},
     "outputs": [
      {
       "output_type": "stream",
       "stream": "stdout",
       "text": [
        "[ 0.00123424  0.00065517  0.00037836]\n",
        "[[  3.67823550e-08  -1.45368697e-08  -6.09260872e-09]\n",
        " [ -1.45368697e-08   1.39773467e-08   3.80211604e-09]\n",
        " [ -6.09260872e-09   3.80211604e-09   8.90908103e-09]]\n",
        "[ 0.00093026  0.0007854   0.00068157]"
       ]
      },
      {
       "output_type": "stream",
       "stream": "stdout",
       "text": [
        "\n",
        "[[  1.32720995e-08   6.93085516e-09   5.73511407e-09]\n",
        " [  6.93085516e-09   8.41276447e-09   7.38279942e-09]\n",
        " [  5.73511407e-09   7.38279942e-09   9.87814933e-09]]\n",
        "[ 0.00258155  0.00223378  0.00202775]"
       ]
      },
      {
       "output_type": "stream",
       "stream": "stdout",
       "text": [
        "\n",
        "[[  9.32545968e-07   8.41727939e-07   7.88815537e-07]\n",
        " [  8.41727939e-07   7.94453611e-07   7.42313645e-07]\n",
        " [  7.88815537e-07   7.42313645e-07   7.02915659e-07]]\n"
       ]
      }
     ],
     "prompt_number": 43
    },
    {
     "cell_type": "code",
     "collapsed": false,
     "input": [
      "wm_c,wm_l = kmeans2( np.array( wm_data ), 3 )\n",
      "gm_c,gm_l = kmeans2( np.array( gm_data ), 3 )\n",
      "cs_c,cs_l = kmeans2( np.array( csf_data ), 3 )\n",
      "\n",
      "print (wm_c/10e-4)[1]\n",
      "print (gm_c/10e-4)[1]\n",
      "print (cs_c/10e-4)[1]"
     ],
     "language": "python",
     "metadata": {},
     "outputs": []
    },
    {
     "cell_type": "heading",
     "level": 2,
     "metadata": {},
     "source": [
      "Tissue Fraction Distribution"
     ]
    },
    {
     "cell_type": "code",
     "collapsed": true,
     "input": [
      "import nibabel as nib\n",
      "import numpy as np\n",
      "from scipy import ndimage\n",
      "from pylab import *"
     ],
     "language": "python",
     "metadata": {},
     "outputs": [],
     "prompt_number": 1
    },
    {
     "cell_type": "code",
     "collapsed": true,
     "input": [
      "datashape = ( 101, 101, 101 )\n",
      "data = np.zeros( shape=datashape, dtype=int )"
     ],
     "language": "python",
     "metadata": {},
     "outputs": [],
     "prompt_number": 2
    },
    {
     "cell_type": "code",
     "collapsed": true,
     "input": [
      "data[ 50, 50, 50 ] = 1"
     ],
     "language": "python",
     "metadata": {},
     "outputs": [],
     "prompt_number": 3
    },
    {
     "cell_type": "code",
     "collapsed": false,
     "input": [
      "strel = np.zeros( shape=( 11, 11, 11 ), dtype=int )\n",
      "strel[ 2:9,2:9, 2:9 ] = 1\n",
      "strel[ 1:10,3:8, 3:8 ] = 1\n",
      "strel[ 3:8,1:10, 3:8 ] = 1\n",
      "strel[ 3:8, 3:8,1:10 ] = 1\n",
      "strel[ :, :, 4 ]"
     ],
     "language": "python",
     "metadata": {},
     "outputs": [
      {
       "output_type": "pyout",
       "prompt_number": 12,
       "text": [
        "array([[0, 0, 0, 0, 1, 1, 1, 0, 0, 0, 0],\n",
        "       [0, 0, 0, 1, 1, 1, 1, 1, 0, 0, 0],\n",
        "       [0, 0, 1, 1, 1, 1, 1, 1, 1, 0, 0],\n",
        "       [0, 1, 1, 1, 1, 1, 1, 1, 1, 1, 0],\n",
        "       [1, 1, 1, 1, 1, 1, 1, 1, 1, 1, 1],\n",
        "       [1, 1, 1, 1, 1, 1, 1, 1, 1, 1, 1],\n",
        "       [1, 1, 1, 1, 1, 1, 1, 1, 1, 1, 1],\n",
        "       [0, 1, 1, 1, 1, 1, 1, 1, 1, 1, 0],\n",
        "       [0, 0, 1, 1, 1, 1, 1, 1, 1, 0, 0],\n",
        "       [0, 0, 0, 1, 1, 1, 1, 1, 0, 0, 0],\n",
        "       [0, 0, 0, 0, 1, 1, 1, 0, 0, 0, 0]])"
       ]
      }
     ],
     "prompt_number": 12
    },
    {
     "cell_type": "code",
     "collapsed": false,
     "input": [
      "data2 = ndimage.binary_dilation( data, structure=strel )\n",
      "data2 = ndimage.binary_dilation( data2, structure=strel )\n",
      "data2 = ndimage.binary_dilation( data2, structure=strel )\n",
      "data2 = ndimage.binary_dilation( data2, structure=strel )\n",
      "im = imshow( data2[ :, :, 50 ] )"
     ],
     "language": "python",
     "metadata": {},
     "outputs": [
      {
       "output_type": "display_data",
       "png": "[encoded data removed]"
      }
     ],
     "prompt_number": 13
    },
    {
     "cell_type": "code",
     "collapsed": false,
     "input": [
      "data3 = ndimage.binary_dilation( data2, structure=strel )\n",
      "data3 = ndimage.binary_dilation( data2, structure=strel )\n",
      "im = imshow( data3[ :, :, 50 ] )"
     ],
     "language": "python",
     "metadata": {},
     "outputs": [
      {
       "output_type": "display_data",
       "png": "[encoded data removed]"
      }
     ],
     "prompt_number": 14
    },
    {
     "cell_type": "code",
     "collapsed": true,
     "input": [
      "data5 = np.zeros(shape=data.shape)\n",
      "data5[ 53, 57, 59 ] = 1\n",
      "data5[ 45, 44, 40 ] = 1\n",
      "data5 = ndimage.binary_dilation( data5, structure=strel )"
     ],
     "language": "python",
     "metadata": {},
     "outputs": [],
     "prompt_number": 15
    },
    {
     "cell_type": "code",
     "collapsed": false,
     "input": [
      "data4 = np.zeros(shape=data.shape)\n",
      "data4[ data3==1 ] = 3\n",
      "data4[ data2==1 ] = 2\n",
      "data4[ data5==1 ] = 1\n",
      "im = imshow( data4[:,:, 40] )"
     ],
     "language": "python",
     "metadata": {},
     "outputs": [
      {
       "output_type": "display_data",
       "png": "[encoded data removed]"
      }
     ],
     "prompt_number": 16
    },
    {
     "cell_type": "code",
     "collapsed": false,
     "input": [
      "data_final = []\n",
      "for i in range(1,4):\n",
      "    data_class = np.zeros(shape=(101,101,101), dtype=np.uint8)\n",
      "    data_class[data4 == i] = 1\n",
      "    data_final.append( data_class )\n",
      "#    figure()\n",
      "#    imshow( data_class[:,:,50] )\n",
      "np.shape( data_final )\n",
      "data_final2 = np.concatenate((data_final[0][...,np.newaxis],data_final[1][...,np.newaxis],data_final[2][...,np.newaxis]),axis=3 )\n",
      "#data_final2 = np.reshape(data_final, (101,101,101,3) )\n",
      "#data_final2 = np.concatenate( ( [data_final[0]], [data_final[1]], [data_final[2]] ) )\n",
      "np.shape( data_final2 )"
     ],
     "language": "python",
     "metadata": {},
     "outputs": [
      {
       "output_type": "pyout",
       "prompt_number": 17,
       "text": [
        "(101, 101, 101, 3)"
       ]
      }
     ],
     "prompt_number": 17
    },
    {
     "cell_type": "code",
     "collapsed": false,
     "input": [
      "data_test = data_final2[:,:,:,1]\n",
      "np.shape(data_test)\n",
      "im=imshow( data_test[:,:,50] )"
     ],
     "language": "python",
     "metadata": {},
     "outputs": [
      {
       "output_type": "display_data",
       "png": "[encoded data removed]"
      }
     ],
     "prompt_number": 18
    },
    {
     "cell_type": "code",
     "collapsed": true,
     "input": [
      "niiHS = nib.Nifti1Image( data_final2, None, None )\n",
      "nib.save( niiHS, 'model.nii.gz' )"
     ],
     "language": "python",
     "metadata": {},
     "outputs": [],
     "prompt_number": 19
    },
    {
     "cell_type": "code",
     "collapsed": true,
     "input": [],
     "language": "python",
     "metadata": {},
     "outputs": [],
     "prompt_number": 11
    }
   ],
   "metadata": {}
  }
 ]
}